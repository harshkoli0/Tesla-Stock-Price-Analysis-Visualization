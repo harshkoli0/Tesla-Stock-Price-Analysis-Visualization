{
 "cells": [
  {
   "cell_type": "code",
   "execution_count": 12,
   "id": "1ece24bd-ce09-4644-94e6-97669f4dee2b",
   "metadata": {},
   "outputs": [
    {
     "data": {
      "text/plain": [
       "'import yfinance as fy\\ndf=fy.download(\"TSLA\",start=\"2024-01-01\",end=\"2025-01-03\")\\ndf.to_excel(\"tesla_stock.xlsx\")\\nprint(\"done\")'"
      ]
     },
     "execution_count": 12,
     "metadata": {},
     "output_type": "execute_result"
    }
   ],
   "source": [
    "'''import yfinance as fy\n",
    "df=fy.download(\"TSLA\",start=\"2024-01-01\",end=\"2025-01-03\")\n",
    "df.to_excel(\"tesla_stock.xlsx\")\n",
    "print(\"done\")'''"
   ]
  },
  {
   "cell_type": "code",
   "execution_count": 13,
   "id": "9e0e06f3-4546-41d0-9452-b767132906bb",
   "metadata": {},
   "outputs": [],
   "source": [
    "import pandas as pd \n",
    "import numpy as np \n",
    "import matplotlib.pyplot as plt\n",
    "import seaborn as sns\n",
    "import plotly.express as px\n",
    "import plotly.graph_objects as go"
   ]
  },
  {
   "cell_type": "code",
   "execution_count": 129,
   "id": "68f15283-ddad-4998-afa2-46a0267a5f35",
   "metadata": {},
   "outputs": [
    {
     "data": {
      "text/html": [
       "<div>\n",
       "<style scoped>\n",
       "    .dataframe tbody tr th:only-of-type {\n",
       "        vertical-align: middle;\n",
       "    }\n",
       "\n",
       "    .dataframe tbody tr th {\n",
       "        vertical-align: top;\n",
       "    }\n",
       "\n",
       "    .dataframe thead th {\n",
       "        text-align: right;\n",
       "    }\n",
       "</style>\n",
       "<table border=\"1\" class=\"dataframe\">\n",
       "  <thead>\n",
       "    <tr style=\"text-align: right;\">\n",
       "      <th></th>\n",
       "      <th>Date</th>\n",
       "      <th>Close</th>\n",
       "      <th>High</th>\n",
       "      <th>Low</th>\n",
       "      <th>Open</th>\n",
       "      <th>Volume</th>\n",
       "    </tr>\n",
       "  </thead>\n",
       "  <tbody>\n",
       "    <tr>\n",
       "      <th>0</th>\n",
       "      <td>2024-01-02</td>\n",
       "      <td>248.419998</td>\n",
       "      <td>251.250000</td>\n",
       "      <td>244.410004</td>\n",
       "      <td>250.080002</td>\n",
       "      <td>104654200</td>\n",
       "    </tr>\n",
       "    <tr>\n",
       "      <th>1</th>\n",
       "      <td>2024-01-03</td>\n",
       "      <td>238.449997</td>\n",
       "      <td>245.679993</td>\n",
       "      <td>236.320007</td>\n",
       "      <td>244.979996</td>\n",
       "      <td>121082600</td>\n",
       "    </tr>\n",
       "    <tr>\n",
       "      <th>2</th>\n",
       "      <td>2024-01-04</td>\n",
       "      <td>237.929993</td>\n",
       "      <td>242.699997</td>\n",
       "      <td>237.729996</td>\n",
       "      <td>239.250000</td>\n",
       "      <td>102629300</td>\n",
       "    </tr>\n",
       "    <tr>\n",
       "      <th>3</th>\n",
       "      <td>2024-01-05</td>\n",
       "      <td>237.490005</td>\n",
       "      <td>240.119995</td>\n",
       "      <td>234.899994</td>\n",
       "      <td>236.860001</td>\n",
       "      <td>92379400</td>\n",
       "    </tr>\n",
       "    <tr>\n",
       "      <th>4</th>\n",
       "      <td>2024-01-08</td>\n",
       "      <td>240.449997</td>\n",
       "      <td>241.250000</td>\n",
       "      <td>235.300003</td>\n",
       "      <td>236.139999</td>\n",
       "      <td>85166600</td>\n",
       "    </tr>\n",
       "  </tbody>\n",
       "</table>\n",
       "</div>"
      ],
      "text/plain": [
       "        Date       Close        High         Low        Open     Volume\n",
       "0 2024-01-02  248.419998  251.250000  244.410004  250.080002  104654200\n",
       "1 2024-01-03  238.449997  245.679993  236.320007  244.979996  121082600\n",
       "2 2024-01-04  237.929993  242.699997  237.729996  239.250000  102629300\n",
       "3 2024-01-05  237.490005  240.119995  234.899994  236.860001   92379400\n",
       "4 2024-01-08  240.449997  241.250000  235.300003  236.139999   85166600"
      ]
     },
     "execution_count": 129,
     "metadata": {},
     "output_type": "execute_result"
    }
   ],
   "source": [
    "df1=pd.read_excel(r\"C:\\Users\\hkoli\\Downloads\\tesla_stock.xlsx\")\n",
    "df2=pd.read_excel(r\"C:\\Users\\hkoli\\Downloads\\tesla_stock.xlsx\")\n",
    "df1.head()"
   ]
  },
  {
   "cell_type": "code",
   "execution_count": 15,
   "id": "5060a0f2-322a-4c68-82ef-b89b17f5fbfa",
   "metadata": {},
   "outputs": [
    {
     "data": {
      "text/plain": [
       "Date      False\n",
       "Close     False\n",
       "High      False\n",
       "Low       False\n",
       "Open      False\n",
       "Volume    False\n",
       "dtype: bool"
      ]
     },
     "execution_count": 15,
     "metadata": {},
     "output_type": "execute_result"
    }
   ],
   "source": [
    "df1.isnull().any()"
   ]
  },
  {
   "cell_type": "code",
   "execution_count": 16,
   "id": "808aa1f9-8959-478f-ad5b-b64c157da2bb",
   "metadata": {},
   "outputs": [
    {
     "data": {
      "text/plain": [
       "False"
      ]
     },
     "execution_count": 16,
     "metadata": {},
     "output_type": "execute_result"
    }
   ],
   "source": [
    "df1.duplicated().any()"
   ]
  },
  {
   "cell_type": "code",
   "execution_count": 17,
   "id": "56a594f7-7429-4af2-80df-b62bc1198e58",
   "metadata": {},
   "outputs": [
    {
     "data": {
      "text/plain": [
       "Index(['Date', 'Close', 'High', 'Low', 'Open', 'Volume'], dtype='object')"
      ]
     },
     "execution_count": 17,
     "metadata": {},
     "output_type": "execute_result"
    }
   ],
   "source": [
    "df1.columns"
   ]
  },
  {
   "cell_type": "code",
   "execution_count": 18,
   "id": "285a7df4-77bf-493c-af50-56a0f017068f",
   "metadata": {},
   "outputs": [
    {
     "name": "stdout",
     "output_type": "stream",
     "text": [
      "<class 'pandas.core.frame.DataFrame'>\n",
      "RangeIndex: 253 entries, 0 to 252\n",
      "Data columns (total 6 columns):\n",
      " #   Column  Non-Null Count  Dtype         \n",
      "---  ------  --------------  -----         \n",
      " 0   Date    253 non-null    datetime64[ns]\n",
      " 1   Close   253 non-null    float64       \n",
      " 2   High    253 non-null    float64       \n",
      " 3   Low     253 non-null    float64       \n",
      " 4   Open    253 non-null    float64       \n",
      " 5   Volume  253 non-null    int64         \n",
      "dtypes: datetime64[ns](1), float64(4), int64(1)\n",
      "memory usage: 12.0 KB\n"
     ]
    }
   ],
   "source": [
    "df1.info()"
   ]
  },
  {
   "cell_type": "markdown",
   "id": "d286f8dd-3b85-4b0a-a5d0-0928829e6090",
   "metadata": {},
   "source": [
    "## Descriptive Statistics\n",
    "What are the mean, median, and standard deviation of Tesla's closing prices over the dataset's timeframe?\n",
    "\n",
    "What is the range of Tesla’s daily high and low prices?\n",
    "\n",
    "What is the skewness and kurtosis of Tesla’s closing prices?"
   ]
  },
  {
   "cell_type": "code",
   "execution_count": 20,
   "id": "5a693df2-b5bc-4bdf-96e6-0f3a85030b79",
   "metadata": {},
   "outputs": [
    {
     "data": {
      "text/html": [
       "<div>\n",
       "<style scoped>\n",
       "    .dataframe tbody tr th:only-of-type {\n",
       "        vertical-align: middle;\n",
       "    }\n",
       "\n",
       "    .dataframe tbody tr th {\n",
       "        vertical-align: top;\n",
       "    }\n",
       "\n",
       "    .dataframe thead th {\n",
       "        text-align: right;\n",
       "    }\n",
       "</style>\n",
       "<table border=\"1\" class=\"dataframe\">\n",
       "  <thead>\n",
       "    <tr style=\"text-align: right;\">\n",
       "      <th></th>\n",
       "      <th>Close</th>\n",
       "      <th>High</th>\n",
       "      <th>Low</th>\n",
       "      <th>Open</th>\n",
       "      <th>Volume</th>\n",
       "    </tr>\n",
       "  </thead>\n",
       "  <tbody>\n",
       "    <tr>\n",
       "      <th>count</th>\n",
       "      <td>253.000000</td>\n",
       "      <td>253.000000</td>\n",
       "      <td>253.000000</td>\n",
       "      <td>253.000000</td>\n",
       "      <td>2.530000e+02</td>\n",
       "    </tr>\n",
       "    <tr>\n",
       "      <th>mean</th>\n",
       "      <td>231.202569</td>\n",
       "      <td>236.208221</td>\n",
       "      <td>226.076166</td>\n",
       "      <td>231.211226</td>\n",
       "      <td>9.489294e+07</td>\n",
       "    </tr>\n",
       "    <tr>\n",
       "      <th>std</th>\n",
       "      <td>71.462740</td>\n",
       "      <td>73.723518</td>\n",
       "      <td>68.901479</td>\n",
       "      <td>71.629194</td>\n",
       "      <td>3.327540e+07</td>\n",
       "    </tr>\n",
       "    <tr>\n",
       "      <th>min</th>\n",
       "      <td>142.050003</td>\n",
       "      <td>144.440002</td>\n",
       "      <td>138.800003</td>\n",
       "      <td>140.559998</td>\n",
       "      <td>3.716760e+07</td>\n",
       "    </tr>\n",
       "    <tr>\n",
       "      <th>25%</th>\n",
       "      <td>180.009995</td>\n",
       "      <td>184.589996</td>\n",
       "      <td>177.000000</td>\n",
       "      <td>182.000000</td>\n",
       "      <td>7.197550e+07</td>\n",
       "    </tr>\n",
       "    <tr>\n",
       "      <th>50%</th>\n",
       "      <td>210.729996</td>\n",
       "      <td>216.130005</td>\n",
       "      <td>207.750000</td>\n",
       "      <td>212.259995</td>\n",
       "      <td>8.739170e+07</td>\n",
       "    </tr>\n",
       "    <tr>\n",
       "      <th>75%</th>\n",
       "      <td>248.979996</td>\n",
       "      <td>252.369995</td>\n",
       "      <td>242.649994</td>\n",
       "      <td>247.710007</td>\n",
       "      <td>1.099823e+08</td>\n",
       "    </tr>\n",
       "    <tr>\n",
       "      <th>max</th>\n",
       "      <td>479.859985</td>\n",
       "      <td>488.540009</td>\n",
       "      <td>457.510010</td>\n",
       "      <td>475.899994</td>\n",
       "      <td>2.438697e+08</td>\n",
       "    </tr>\n",
       "  </tbody>\n",
       "</table>\n",
       "</div>"
      ],
      "text/plain": [
       "            Close        High         Low        Open        Volume\n",
       "count  253.000000  253.000000  253.000000  253.000000  2.530000e+02\n",
       "mean   231.202569  236.208221  226.076166  231.211226  9.489294e+07\n",
       "std     71.462740   73.723518   68.901479   71.629194  3.327540e+07\n",
       "min    142.050003  144.440002  138.800003  140.559998  3.716760e+07\n",
       "25%    180.009995  184.589996  177.000000  182.000000  7.197550e+07\n",
       "50%    210.729996  216.130005  207.750000  212.259995  8.739170e+07\n",
       "75%    248.979996  252.369995  242.649994  247.710007  1.099823e+08\n",
       "max    479.859985  488.540009  457.510010  475.899994  2.438697e+08"
      ]
     },
     "execution_count": 20,
     "metadata": {},
     "output_type": "execute_result"
    }
   ],
   "source": [
    "describe= df1[['Close', 'High', 'Low', 'Open', 'Volume']].describe()\n",
    "describe"
   ]
  },
  {
   "cell_type": "code",
   "execution_count": 21,
   "id": "806a225a-126b-40e1-9a3b-f9f05ecee8d8",
   "metadata": {},
   "outputs": [
    {
     "data": {
      "text/plain": [
       "0       6.839996\n",
       "1       9.359985\n",
       "2       4.970001\n",
       "3       5.220001\n",
       "4       5.949997\n",
       "         ...    \n",
       "248    14.309998\n",
       "249    23.500000\n",
       "250    11.250000\n",
       "251    25.389984\n",
       "252    19.690002\n",
       "Length: 253, dtype: float64"
      ]
     },
     "execution_count": 21,
     "metadata": {},
     "output_type": "execute_result"
    }
   ],
   "source": [
    "#What is the range of Tesla’s daily high and low prices?\n",
    "range=df1[\"High\"]-df1[\"Low\"]\n",
    "range"
   ]
  },
  {
   "cell_type": "code",
   "execution_count": 22,
   "id": "ea8ee2ef-775a-4b05-8964-388d8fb5fa17",
   "metadata": {},
   "outputs": [
    {
     "name": "stdout",
     "output_type": "stream",
     "text": [
      "skewnwss: 1.6400950036865678\n",
      "kurtosis 2.09873203570453\n"
     ]
    }
   ],
   "source": [
    "# What is the skewness and kurtosis of Tesla’s clsoing prices?\n",
    "import scipy.stats as stats\n",
    "closing_price_skewness=stats.skew(df1[\"Close\"])\n",
    "closing_price_kurtosis=stats.kurtosis(df1[\"Close\"])\n",
    "print(\"skewnwss:\" ,closing_price_skewness)\n",
    "print(\"kurtosis\",closing_price_kurtosis)"
   ]
  },
  {
   "cell_type": "markdown",
   "id": "65bc1f2c-ba7e-46bd-86eb-7c5c0e987a54",
   "metadata": {},
   "source": [
    "## Probability & Distributions\n",
    "What is the probability that Tesla’s closing price will be above a certain threshold (e.g., $250) based on historical data?\n",
    "\n",
    "What is the probability that Tesla’s stock price will fall below $200 on any given day based on past trends?\n",
    "\n",
    "What is the probability that Tesla’s stock price will remain between $220 and $280 on any given day?"
   ]
  },
  {
   "cell_type": "code",
   "execution_count": 24,
   "id": "75f5cdff-8e78-4cb2-b6c3-6d883459e930",
   "metadata": {},
   "outputs": [
    {
     "data": {
      "text/plain": [
       "0.39626056810777044"
      ]
     },
     "execution_count": 24,
     "metadata": {},
     "output_type": "execute_result"
    }
   ],
   "source": [
    "#What is the probability that Tesla’s closing price will be above a certain threshold (e.g., $250) based on historical data?\n",
    "threshold = 250\n",
    "close_mean=df1[\"Close\"].mean()\n",
    "close_std=df1[\"Close\"].std()\n",
    "proba=1-stats.norm.cdf(threshold,loc=close_mean,scale=close_std)\n",
    "proba"
   ]
  },
  {
   "cell_type": "code",
   "execution_count": 25,
   "id": "90ecda8d-17bb-4efc-bc7c-bbbc2de24f75",
   "metadata": {},
   "outputs": [
    {
     "name": "stdout",
     "output_type": "stream",
     "text": [
      "probabtiltiy_fall 33.12%\n"
     ]
    }
   ],
   "source": [
    "# What is the probability that Tesla’s stock price will fall below $200 on any given day based on past trends?\n",
    "threshold=200\n",
    "close_mean=df1[\"Close\"].mean()\n",
    "close_std=df1[\"Close\"].std()\n",
    "probabtiltiy_fall=stats.norm.cdf(threshold,loc=close_mean,scale=close_std)*100\n",
    "print(f\"probabtiltiy_fall {probabtiltiy_fall :.2f}%\")"
   ]
  },
  {
   "cell_type": "code",
   "execution_count": 31,
   "id": "f18ef7cf-37ca-49a6-b972-ce4ce9c85d7c",
   "metadata": {},
   "outputs": [
    {
     "name": "stdout",
     "output_type": "stream",
     "text": [
      "31.492858655572558\n"
     ]
    }
   ],
   "source": [
    "# What is the probability that Tesla’s stock price will remain between $220 and $280 on any given day?\n",
    "threshold1=220\n",
    "threshold2=280\n",
    "close_mean=df1[\"Close\"].mean()\n",
    "close_std=df1[\"Close\"].std()\n",
    "prob1=stats.norm.cdf(threshold1,loc=close_mean,scale=close_std)\n",
    "prob2=stats.norm.cdf(threshold2,loc=close_mean,scale=close_std)\n",
    "prob_between=(prob2-prob1)*100\n",
    "print(prob_between)\n",
    "\n"
   ]
  },
  {
   "cell_type": "markdown",
   "id": "302e8e93-b2c9-40f2-b247-b68940d2cbb6",
   "metadata": {},
   "source": [
    "## Hypothesis Testing\n",
    "Is there a significant difference between Tesla’s opening and closing prices? (Paired t-test)\n",
    "\n",
    "the correlation between Open and Close prices"
   ]
  },
  {
   "cell_type": "code",
   "execution_count": 41,
   "id": "057d209a-b6e2-4d32-b22c-6926233850e7",
   "metadata": {},
   "outputs": [
    {
     "name": "stdout",
     "output_type": "stream",
     "text": [
      "T-statistic: 0.0195\n",
      "P-value: 0.9845\n",
      "fail to reject h1\n"
     ]
    }
   ],
   "source": [
    "# Is there a significant difference between Tesla’s opening and closing prices? (Paired t-test)\n",
    "t_test,p_value=stats.ttest_rel(df1[\"Open\"],df1[\"Close\"])\n",
    "print(f\"T-statistic: {t_test:.4f}\")\n",
    "print(f\"P-value: {p_value:.4f}\")\n",
    "if p_value<0.05:\n",
    "    print(\"reject null hypothesis\")\n",
    "else:\n",
    "    print(\"fail to reject h1\")"
   ]
  },
  {
   "cell_type": "code",
   "execution_count": 45,
   "id": "3f6b9d79-13cf-4019-9091-a4da513a36d6",
   "metadata": {},
   "outputs": [
    {
     "data": {
      "text/html": [
       "<div>\n",
       "<style scoped>\n",
       "    .dataframe tbody tr th:only-of-type {\n",
       "        vertical-align: middle;\n",
       "    }\n",
       "\n",
       "    .dataframe tbody tr th {\n",
       "        vertical-align: top;\n",
       "    }\n",
       "\n",
       "    .dataframe thead th {\n",
       "        text-align: right;\n",
       "    }\n",
       "</style>\n",
       "<table border=\"1\" class=\"dataframe\">\n",
       "  <thead>\n",
       "    <tr style=\"text-align: right;\">\n",
       "      <th></th>\n",
       "      <th>Open</th>\n",
       "      <th>Close</th>\n",
       "    </tr>\n",
       "  </thead>\n",
       "  <tbody>\n",
       "    <tr>\n",
       "      <th>Open</th>\n",
       "      <td>1.000000</td>\n",
       "      <td>0.995114</td>\n",
       "    </tr>\n",
       "    <tr>\n",
       "      <th>Close</th>\n",
       "      <td>0.995114</td>\n",
       "      <td>1.000000</td>\n",
       "    </tr>\n",
       "  </tbody>\n",
       "</table>\n",
       "</div>"
      ],
      "text/plain": [
       "           Open     Close\n",
       "Open   1.000000  0.995114\n",
       "Close  0.995114  1.000000"
      ]
     },
     "execution_count": 45,
     "metadata": {},
     "output_type": "execute_result"
    }
   ],
   "source": [
    "df1[[\"Open\",\"Close\"]].corr()"
   ]
  },
  {
   "cell_type": "markdown",
   "id": "871010ea-e9bd-4d0e-8031-76912fc47a06",
   "metadata": {},
   "source": [
    " ## Visualization\n",
    "1️How has Tesla's stock price changed over time? (Line Chart)\n",
    "\n",
    "2 What is the distribution of Tesla's daily returns? (Histogram & KDE Plot)\n",
    "\n",
    "3 Is there a relationship between trading volume and daily price changes? (Scatter Plot)\n",
    "\n",
    "4 \"How does Tesla’s stock price trend over time using 7-day and 30-day moving averages?\"\n",
    "\n",
    "5 Can we visualize a candlestick chart for TCS stock?\n",
    "\n",
    "6 What is the correlation between different stock metrics (Open, Close, High, Low, Volume)? (Heatmap)\n",
    "\n",
    "7 Do Tesla's daily returns follow a normal distribution? (Q-Q Plot)\n",
    "\n",
    "\n"
   ]
  },
  {
   "cell_type": "code",
   "execution_count": 207,
   "id": "4b22586b-308d-49c1-84aa-86254bf10029",
   "metadata": {},
   "outputs": [
    {
     "data": {
      "application/vnd.plotly.v1+json": {
       "config": {
        "plotlyServerURL": "https://plot.ly"
       },
       "data": [
        {
         "hovertemplate": "variable=Close<br>Date=%{x}<br>value=%{y}<extra></extra>",
         "legendgroup": "Close",
         "line": {
          "color": "#636efa",
          "dash": "solid"
         },
         "marker": {
          "symbol": "circle"
         },
         "mode": "lines",
         "name": "Close",
         "orientation": "v",
         "showlegend": true,
         "type": "scatter",
         "x": [
          "2024-01-08T00:00:00",
          "2024-01-09T00:00:00",
          "2024-01-10T00:00:00",
          "2024-01-11T00:00:00",
          "2024-01-12T00:00:00",
          "2024-01-16T00:00:00",
          "2024-01-17T00:00:00",
          "2024-01-18T00:00:00",
          "2024-01-19T00:00:00",
          "2024-01-22T00:00:00",
          "2024-01-23T00:00:00",
          "2024-01-24T00:00:00",
          "2024-01-25T00:00:00",
          "2024-01-26T00:00:00",
          "2024-01-29T00:00:00",
          "2024-01-30T00:00:00",
          "2024-01-31T00:00:00",
          "2024-02-01T00:00:00",
          "2024-02-02T00:00:00",
          "2024-02-05T00:00:00",
          "2024-02-06T00:00:00",
          "2024-02-07T00:00:00",
          "2024-02-08T00:00:00",
          "2024-02-09T00:00:00",
          "2024-02-12T00:00:00",
          "2024-02-13T00:00:00",
          "2024-02-14T00:00:00",
          "2024-02-15T00:00:00",
          "2024-02-16T00:00:00",
          "2024-02-20T00:00:00",
          "2024-02-21T00:00:00",
          "2024-02-22T00:00:00",
          "2024-02-23T00:00:00",
          "2024-02-26T00:00:00",
          "2024-02-27T00:00:00",
          "2024-02-28T00:00:00",
          "2024-02-29T00:00:00",
          "2024-03-01T00:00:00",
          "2024-03-04T00:00:00",
          "2024-03-05T00:00:00",
          "2024-03-06T00:00:00",
          "2024-03-07T00:00:00",
          "2024-03-08T00:00:00",
          "2024-03-11T00:00:00",
          "2024-03-12T00:00:00",
          "2024-03-13T00:00:00",
          "2024-03-14T00:00:00",
          "2024-03-15T00:00:00",
          "2024-03-18T00:00:00",
          "2024-03-19T00:00:00",
          "2024-03-20T00:00:00",
          "2024-03-21T00:00:00",
          "2024-03-22T00:00:00",
          "2024-03-25T00:00:00",
          "2024-03-26T00:00:00",
          "2024-03-27T00:00:00",
          "2024-03-28T00:00:00",
          "2024-04-01T00:00:00",
          "2024-04-02T00:00:00",
          "2024-04-03T00:00:00",
          "2024-04-04T00:00:00",
          "2024-04-05T00:00:00",
          "2024-04-08T00:00:00",
          "2024-04-09T00:00:00",
          "2024-04-10T00:00:00",
          "2024-04-11T00:00:00",
          "2024-04-12T00:00:00",
          "2024-04-15T00:00:00",
          "2024-04-16T00:00:00",
          "2024-04-17T00:00:00",
          "2024-04-18T00:00:00",
          "2024-04-19T00:00:00",
          "2024-04-22T00:00:00",
          "2024-04-23T00:00:00",
          "2024-04-24T00:00:00",
          "2024-04-25T00:00:00",
          "2024-04-26T00:00:00",
          "2024-04-29T00:00:00",
          "2024-04-30T00:00:00",
          "2024-05-01T00:00:00",
          "2024-05-02T00:00:00",
          "2024-05-03T00:00:00",
          "2024-05-06T00:00:00",
          "2024-05-07T00:00:00",
          "2024-05-08T00:00:00",
          "2024-05-09T00:00:00",
          "2024-05-10T00:00:00",
          "2024-05-13T00:00:00",
          "2024-05-14T00:00:00",
          "2024-05-15T00:00:00",
          "2024-05-16T00:00:00",
          "2024-05-17T00:00:00",
          "2024-05-20T00:00:00",
          "2024-05-21T00:00:00",
          "2024-05-22T00:00:00",
          "2024-05-23T00:00:00",
          "2024-05-24T00:00:00",
          "2024-05-28T00:00:00",
          "2024-05-29T00:00:00",
          "2024-05-30T00:00:00",
          "2024-05-31T00:00:00",
          "2024-06-03T00:00:00",
          "2024-06-04T00:00:00",
          "2024-06-05T00:00:00",
          "2024-06-06T00:00:00",
          "2024-06-07T00:00:00",
          "2024-06-10T00:00:00",
          "2024-06-11T00:00:00",
          "2024-06-12T00:00:00",
          "2024-06-13T00:00:00",
          "2024-06-14T00:00:00",
          "2024-06-17T00:00:00",
          "2024-06-18T00:00:00",
          "2024-06-20T00:00:00",
          "2024-06-21T00:00:00",
          "2024-06-24T00:00:00",
          "2024-06-25T00:00:00",
          "2024-06-26T00:00:00",
          "2024-06-27T00:00:00",
          "2024-06-28T00:00:00",
          "2024-07-01T00:00:00",
          "2024-07-02T00:00:00",
          "2024-07-03T00:00:00",
          "2024-07-05T00:00:00",
          "2024-07-08T00:00:00",
          "2024-07-09T00:00:00",
          "2024-07-10T00:00:00",
          "2024-07-11T00:00:00",
          "2024-07-12T00:00:00",
          "2024-07-15T00:00:00",
          "2024-07-16T00:00:00",
          "2024-07-17T00:00:00",
          "2024-07-18T00:00:00",
          "2024-07-19T00:00:00",
          "2024-07-22T00:00:00",
          "2024-07-23T00:00:00",
          "2024-07-24T00:00:00",
          "2024-07-25T00:00:00",
          "2024-07-26T00:00:00",
          "2024-07-29T00:00:00",
          "2024-07-30T00:00:00",
          "2024-07-31T00:00:00",
          "2024-08-01T00:00:00",
          "2024-08-02T00:00:00",
          "2024-08-05T00:00:00",
          "2024-08-06T00:00:00",
          "2024-08-07T00:00:00",
          "2024-08-08T00:00:00",
          "2024-08-09T00:00:00",
          "2024-08-12T00:00:00",
          "2024-08-13T00:00:00",
          "2024-08-14T00:00:00",
          "2024-08-15T00:00:00",
          "2024-08-16T00:00:00",
          "2024-08-19T00:00:00",
          "2024-08-20T00:00:00",
          "2024-08-21T00:00:00",
          "2024-08-22T00:00:00",
          "2024-08-23T00:00:00",
          "2024-08-26T00:00:00",
          "2024-08-27T00:00:00",
          "2024-08-28T00:00:00",
          "2024-08-29T00:00:00",
          "2024-08-30T00:00:00",
          "2024-09-03T00:00:00",
          "2024-09-04T00:00:00",
          "2024-09-05T00:00:00",
          "2024-09-06T00:00:00",
          "2024-09-09T00:00:00",
          "2024-09-10T00:00:00",
          "2024-09-11T00:00:00",
          "2024-09-12T00:00:00",
          "2024-09-13T00:00:00",
          "2024-09-16T00:00:00",
          "2024-09-17T00:00:00",
          "2024-09-18T00:00:00",
          "2024-09-19T00:00:00",
          "2024-09-20T00:00:00",
          "2024-09-23T00:00:00",
          "2024-09-24T00:00:00",
          "2024-09-25T00:00:00",
          "2024-09-26T00:00:00",
          "2024-09-27T00:00:00",
          "2024-09-30T00:00:00",
          "2024-10-01T00:00:00",
          "2024-10-02T00:00:00",
          "2024-10-03T00:00:00",
          "2024-10-04T00:00:00",
          "2024-10-07T00:00:00",
          "2024-10-08T00:00:00",
          "2024-10-09T00:00:00",
          "2024-10-10T00:00:00",
          "2024-10-11T00:00:00",
          "2024-10-14T00:00:00",
          "2024-10-15T00:00:00",
          "2024-10-16T00:00:00",
          "2024-10-17T00:00:00",
          "2024-10-18T00:00:00",
          "2024-10-21T00:00:00",
          "2024-10-22T00:00:00",
          "2024-10-23T00:00:00",
          "2024-10-24T00:00:00",
          "2024-10-25T00:00:00",
          "2024-10-28T00:00:00",
          "2024-10-29T00:00:00",
          "2024-10-30T00:00:00",
          "2024-10-31T00:00:00",
          "2024-11-01T00:00:00",
          "2024-11-04T00:00:00",
          "2024-11-05T00:00:00",
          "2024-11-06T00:00:00",
          "2024-11-07T00:00:00",
          "2024-11-08T00:00:00",
          "2024-11-11T00:00:00",
          "2024-11-12T00:00:00",
          "2024-11-13T00:00:00",
          "2024-11-14T00:00:00",
          "2024-11-15T00:00:00",
          "2024-11-18T00:00:00",
          "2024-11-19T00:00:00",
          "2024-11-20T00:00:00",
          "2024-11-21T00:00:00",
          "2024-11-22T00:00:00",
          "2024-11-25T00:00:00",
          "2024-11-26T00:00:00",
          "2024-11-27T00:00:00",
          "2024-11-29T00:00:00",
          "2024-12-02T00:00:00",
          "2024-12-03T00:00:00",
          "2024-12-04T00:00:00",
          "2024-12-05T00:00:00",
          "2024-12-06T00:00:00",
          "2024-12-09T00:00:00",
          "2024-12-10T00:00:00",
          "2024-12-11T00:00:00",
          "2024-12-12T00:00:00",
          "2024-12-13T00:00:00",
          "2024-12-16T00:00:00",
          "2024-12-17T00:00:00",
          "2024-12-18T00:00:00",
          "2024-12-19T00:00:00",
          "2024-12-20T00:00:00",
          "2024-12-23T00:00:00",
          "2024-12-24T00:00:00",
          "2024-12-26T00:00:00",
          "2024-12-27T00:00:00",
          "2024-12-30T00:00:00",
          "2024-12-31T00:00:00",
          "2025-01-02T00:00:00"
         ],
         "xaxis": "x",
         "y": [
          240.4499969482422,
          234.9600067138672,
          233.9400024414062,
          227.2200012207031,
          218.8899993896484,
          219.9100036621094,
          215.5500030517578,
          211.8800048828125,
          212.1900024414062,
          208.8000030517578,
          209.1399993896484,
          207.8300018310547,
          182.6300048828125,
          183.25,
          190.9299926757812,
          191.5899963378906,
          187.2899932861328,
          188.8600006103516,
          187.9100036621094,
          181.0599975585938,
          185.1000061035156,
          187.5800018310547,
          189.5599975585938,
          193.5700073242188,
          188.1300048828125,
          184.0200042724609,
          188.7100067138672,
          200.4499969482422,
          199.9499969482422,
          193.7599945068359,
          194.7700042724609,
          197.4100036621094,
          191.9700012207031,
          199.3999938964844,
          199.7299957275391,
          202.0399932861328,
          201.8800048828125,
          202.6399993896484,
          188.1399993896484,
          180.7400054931641,
          176.5399932861328,
          178.6499938964844,
          175.3399963378906,
          177.7700042724609,
          177.5399932861328,
          169.4799957275391,
          162.5,
          163.5700073242188,
          173.8000030517578,
          171.3200073242188,
          175.6600036621094,
          172.8200073242188,
          170.8300018310547,
          172.6300048828125,
          177.6699981689453,
          179.8300018310547,
          175.7899932861328,
          175.2200012207031,
          166.6300048828125,
          168.3800048828125,
          171.1100006103516,
          164.8999938964844,
          172.9799957275391,
          176.8800048828125,
          171.7599945068359,
          174.6000061035156,
          171.0500030517578,
          161.4799957275391,
          157.1100006103516,
          155.4499969482422,
          149.9299926757812,
          147.0500030517578,
          142.0500030517578,
          144.6799926757812,
          162.1300048828125,
          170.1799926757812,
          168.2899932861328,
          194.0500030517578,
          183.2799987792969,
          179.9900054931641,
          180.0099945068359,
          181.1900024414062,
          184.7599945068359,
          177.8099975585938,
          174.7200012207031,
          171.9700012207031,
          168.4700012207031,
          171.8899993896484,
          177.5500030517578,
          173.9900054931641,
          174.8399963378906,
          177.4600067138672,
          174.9499969482422,
          186.6000061035156,
          180.1100006103516,
          173.7400054931641,
          179.2400054931641,
          176.75,
          176.1900024414062,
          178.7899932861328,
          178.0800018310547,
          176.2899932861328,
          174.7700042724609,
          175,
          177.9400024414062,
          177.4799957275391,
          173.7899932861328,
          170.6600036621094,
          177.2899932861328,
          182.4700012207031,
          178.0099945068359,
          187.4400024414062,
          184.8600006103516,
          181.5700073242188,
          183.0099945068359,
          182.5800018310547,
          187.3500061035156,
          196.3699951171875,
          197.4199981689453,
          197.8800048828125,
          209.8600006103516,
          231.2599945068359,
          246.3899993896484,
          251.5200042724609,
          252.9400024414062,
          262.3299865722656,
          263.260009765625,
          241.0299987792969,
          248.2299957275391,
          252.6399993896484,
          256.5599975585938,
          248.5,
          249.2299957275391,
          239.1999969482422,
          251.5099945068359,
          246.3800048828125,
          215.9900054931641,
          220.25,
          219.8000030517578,
          232.1000061035156,
          222.6199951171875,
          232.0700073242188,
          216.8600006103516,
          207.6699981689453,
          198.8800048828125,
          200.6399993896484,
          191.7599945068359,
          198.8399963378906,
          200,
          197.4900054931641,
          207.8300018310547,
          201.3800048828125,
          214.1399993896484,
          216.1199951171875,
          222.7200012207031,
          221.1000061035156,
          223.2700042724609,
          210.6600036621094,
          220.3200073242188,
          213.2100067138672,
          209.2100067138672,
          205.75,
          206.2799987792969,
          214.1100006103516,
          210.6000061035156,
          219.4100036621094,
          230.1699981689453,
          210.7299957275391,
          216.2700042724609,
          226.1699981689453,
          228.1300048828125,
          229.8099975585938,
          230.2899932861328,
          226.7799987792969,
          227.8699951171875,
          227.1999969482422,
          243.9199981689453,
          238.25,
          250,
          254.2700042724609,
          257.0199890136719,
          254.2200012207031,
          260.4599914550781,
          261.6300048828125,
          258.0199890136719,
          249.0200042724609,
          240.6600036621094,
          250.0800018310547,
          240.8300018310547,
          244.5,
          241.0500030517578,
          238.7700042724609,
          217.8000030517578,
          219.1600036621094,
          219.5700073242188,
          221.3300018310547,
          220.8899993896484,
          220.6999969482422,
          218.8500061035156,
          217.9700012207031,
          213.6499938964844,
          260.4800109863281,
          269.1900024414062,
          262.510009765625,
          259.5199890136719,
          257.5499877929688,
          249.8500061035156,
          248.9799957275391,
          242.8399963378906,
          251.4400024414062,
          288.5299987792969,
          296.9100036621094,
          321.2200012207031,
          350,
          328.489990234375,
          330.239990234375,
          311.1799926757812,
          320.7200012207031,
          338.739990234375,
          346,
          342.0299987792969,
          339.6400146484375,
          352.5599975585938,
          338.5899963378906,
          338.2300109863281,
          332.8900146484375,
          345.1600036621094,
          357.0899963378906,
          351.4200134277344,
          357.9299926757812,
          369.489990234375,
          389.2200012207031,
          389.7900085449219,
          400.989990234375,
          424.7699890136719,
          418.1000061035156,
          436.2300109863281,
          463.0199890136719,
          479.8599853515625,
          440.1300048828125,
          436.1700134277344,
          421.0599975585938,
          430.6000061035156,
          462.2799987792969,
          454.1300048828125,
          431.6600036621094,
          417.4100036621094,
          403.8399963378906,
          379.2799987792969
         ],
         "yaxis": "y"
        }
       ],
       "layout": {
        "autosize": true,
        "legend": {
         "title": {
          "text": "variable"
         },
         "tracegroupgap": 0
        },
        "template": {
         "data": {
          "bar": [
           {
            "error_x": {
             "color": "#2a3f5f"
            },
            "error_y": {
             "color": "#2a3f5f"
            },
            "marker": {
             "line": {
              "color": "#E5ECF6",
              "width": 0.5
             },
             "pattern": {
              "fillmode": "overlay",
              "size": 10,
              "solidity": 0.2
             }
            },
            "type": "bar"
           }
          ],
          "barpolar": [
           {
            "marker": {
             "line": {
              "color": "#E5ECF6",
              "width": 0.5
             },
             "pattern": {
              "fillmode": "overlay",
              "size": 10,
              "solidity": 0.2
             }
            },
            "type": "barpolar"
           }
          ],
          "carpet": [
           {
            "aaxis": {
             "endlinecolor": "#2a3f5f",
             "gridcolor": "white",
             "linecolor": "white",
             "minorgridcolor": "white",
             "startlinecolor": "#2a3f5f"
            },
            "baxis": {
             "endlinecolor": "#2a3f5f",
             "gridcolor": "white",
             "linecolor": "white",
             "minorgridcolor": "white",
             "startlinecolor": "#2a3f5f"
            },
            "type": "carpet"
           }
          ],
          "choropleth": [
           {
            "colorbar": {
             "outlinewidth": 0,
             "ticks": ""
            },
            "type": "choropleth"
           }
          ],
          "contour": [
           {
            "colorbar": {
             "outlinewidth": 0,
             "ticks": ""
            },
            "colorscale": [
             [
              0,
              "#0d0887"
             ],
             [
              0.1111111111111111,
              "#46039f"
             ],
             [
              0.2222222222222222,
              "#7201a8"
             ],
             [
              0.3333333333333333,
              "#9c179e"
             ],
             [
              0.4444444444444444,
              "#bd3786"
             ],
             [
              0.5555555555555556,
              "#d8576b"
             ],
             [
              0.6666666666666666,
              "#ed7953"
             ],
             [
              0.7777777777777778,
              "#fb9f3a"
             ],
             [
              0.8888888888888888,
              "#fdca26"
             ],
             [
              1,
              "#f0f921"
             ]
            ],
            "type": "contour"
           }
          ],
          "contourcarpet": [
           {
            "colorbar": {
             "outlinewidth": 0,
             "ticks": ""
            },
            "type": "contourcarpet"
           }
          ],
          "heatmap": [
           {
            "colorbar": {
             "outlinewidth": 0,
             "ticks": ""
            },
            "colorscale": [
             [
              0,
              "#0d0887"
             ],
             [
              0.1111111111111111,
              "#46039f"
             ],
             [
              0.2222222222222222,
              "#7201a8"
             ],
             [
              0.3333333333333333,
              "#9c179e"
             ],
             [
              0.4444444444444444,
              "#bd3786"
             ],
             [
              0.5555555555555556,
              "#d8576b"
             ],
             [
              0.6666666666666666,
              "#ed7953"
             ],
             [
              0.7777777777777778,
              "#fb9f3a"
             ],
             [
              0.8888888888888888,
              "#fdca26"
             ],
             [
              1,
              "#f0f921"
             ]
            ],
            "type": "heatmap"
           }
          ],
          "heatmapgl": [
           {
            "colorbar": {
             "outlinewidth": 0,
             "ticks": ""
            },
            "colorscale": [
             [
              0,
              "#0d0887"
             ],
             [
              0.1111111111111111,
              "#46039f"
             ],
             [
              0.2222222222222222,
              "#7201a8"
             ],
             [
              0.3333333333333333,
              "#9c179e"
             ],
             [
              0.4444444444444444,
              "#bd3786"
             ],
             [
              0.5555555555555556,
              "#d8576b"
             ],
             [
              0.6666666666666666,
              "#ed7953"
             ],
             [
              0.7777777777777778,
              "#fb9f3a"
             ],
             [
              0.8888888888888888,
              "#fdca26"
             ],
             [
              1,
              "#f0f921"
             ]
            ],
            "type": "heatmapgl"
           }
          ],
          "histogram": [
           {
            "marker": {
             "pattern": {
              "fillmode": "overlay",
              "size": 10,
              "solidity": 0.2
             }
            },
            "type": "histogram"
           }
          ],
          "histogram2d": [
           {
            "colorbar": {
             "outlinewidth": 0,
             "ticks": ""
            },
            "colorscale": [
             [
              0,
              "#0d0887"
             ],
             [
              0.1111111111111111,
              "#46039f"
             ],
             [
              0.2222222222222222,
              "#7201a8"
             ],
             [
              0.3333333333333333,
              "#9c179e"
             ],
             [
              0.4444444444444444,
              "#bd3786"
             ],
             [
              0.5555555555555556,
              "#d8576b"
             ],
             [
              0.6666666666666666,
              "#ed7953"
             ],
             [
              0.7777777777777778,
              "#fb9f3a"
             ],
             [
              0.8888888888888888,
              "#fdca26"
             ],
             [
              1,
              "#f0f921"
             ]
            ],
            "type": "histogram2d"
           }
          ],
          "histogram2dcontour": [
           {
            "colorbar": {
             "outlinewidth": 0,
             "ticks": ""
            },
            "colorscale": [
             [
              0,
              "#0d0887"
             ],
             [
              0.1111111111111111,
              "#46039f"
             ],
             [
              0.2222222222222222,
              "#7201a8"
             ],
             [
              0.3333333333333333,
              "#9c179e"
             ],
             [
              0.4444444444444444,
              "#bd3786"
             ],
             [
              0.5555555555555556,
              "#d8576b"
             ],
             [
              0.6666666666666666,
              "#ed7953"
             ],
             [
              0.7777777777777778,
              "#fb9f3a"
             ],
             [
              0.8888888888888888,
              "#fdca26"
             ],
             [
              1,
              "#f0f921"
             ]
            ],
            "type": "histogram2dcontour"
           }
          ],
          "mesh3d": [
           {
            "colorbar": {
             "outlinewidth": 0,
             "ticks": ""
            },
            "type": "mesh3d"
           }
          ],
          "parcoords": [
           {
            "line": {
             "colorbar": {
              "outlinewidth": 0,
              "ticks": ""
             }
            },
            "type": "parcoords"
           }
          ],
          "pie": [
           {
            "automargin": true,
            "type": "pie"
           }
          ],
          "scatter": [
           {
            "fillpattern": {
             "fillmode": "overlay",
             "size": 10,
             "solidity": 0.2
            },
            "type": "scatter"
           }
          ],
          "scatter3d": [
           {
            "line": {
             "colorbar": {
              "outlinewidth": 0,
              "ticks": ""
             }
            },
            "marker": {
             "colorbar": {
              "outlinewidth": 0,
              "ticks": ""
             }
            },
            "type": "scatter3d"
           }
          ],
          "scattercarpet": [
           {
            "marker": {
             "colorbar": {
              "outlinewidth": 0,
              "ticks": ""
             }
            },
            "type": "scattercarpet"
           }
          ],
          "scattergeo": [
           {
            "marker": {
             "colorbar": {
              "outlinewidth": 0,
              "ticks": ""
             }
            },
            "type": "scattergeo"
           }
          ],
          "scattergl": [
           {
            "marker": {
             "colorbar": {
              "outlinewidth": 0,
              "ticks": ""
             }
            },
            "type": "scattergl"
           }
          ],
          "scattermapbox": [
           {
            "marker": {
             "colorbar": {
              "outlinewidth": 0,
              "ticks": ""
             }
            },
            "type": "scattermapbox"
           }
          ],
          "scatterpolar": [
           {
            "marker": {
             "colorbar": {
              "outlinewidth": 0,
              "ticks": ""
             }
            },
            "type": "scatterpolar"
           }
          ],
          "scatterpolargl": [
           {
            "marker": {
             "colorbar": {
              "outlinewidth": 0,
              "ticks": ""
             }
            },
            "type": "scatterpolargl"
           }
          ],
          "scatterternary": [
           {
            "marker": {
             "colorbar": {
              "outlinewidth": 0,
              "ticks": ""
             }
            },
            "type": "scatterternary"
           }
          ],
          "surface": [
           {
            "colorbar": {
             "outlinewidth": 0,
             "ticks": ""
            },
            "colorscale": [
             [
              0,
              "#0d0887"
             ],
             [
              0.1111111111111111,
              "#46039f"
             ],
             [
              0.2222222222222222,
              "#7201a8"
             ],
             [
              0.3333333333333333,
              "#9c179e"
             ],
             [
              0.4444444444444444,
              "#bd3786"
             ],
             [
              0.5555555555555556,
              "#d8576b"
             ],
             [
              0.6666666666666666,
              "#ed7953"
             ],
             [
              0.7777777777777778,
              "#fb9f3a"
             ],
             [
              0.8888888888888888,
              "#fdca26"
             ],
             [
              1,
              "#f0f921"
             ]
            ],
            "type": "surface"
           }
          ],
          "table": [
           {
            "cells": {
             "fill": {
              "color": "#EBF0F8"
             },
             "line": {
              "color": "white"
             }
            },
            "header": {
             "fill": {
              "color": "#C8D4E3"
             },
             "line": {
              "color": "white"
             }
            },
            "type": "table"
           }
          ]
         },
         "layout": {
          "annotationdefaults": {
           "arrowcolor": "#2a3f5f",
           "arrowhead": 0,
           "arrowwidth": 1
          },
          "autotypenumbers": "strict",
          "coloraxis": {
           "colorbar": {
            "outlinewidth": 0,
            "ticks": ""
           }
          },
          "colorscale": {
           "diverging": [
            [
             0,
             "#8e0152"
            ],
            [
             0.1,
             "#c51b7d"
            ],
            [
             0.2,
             "#de77ae"
            ],
            [
             0.3,
             "#f1b6da"
            ],
            [
             0.4,
             "#fde0ef"
            ],
            [
             0.5,
             "#f7f7f7"
            ],
            [
             0.6,
             "#e6f5d0"
            ],
            [
             0.7,
             "#b8e186"
            ],
            [
             0.8,
             "#7fbc41"
            ],
            [
             0.9,
             "#4d9221"
            ],
            [
             1,
             "#276419"
            ]
           ],
           "sequential": [
            [
             0,
             "#0d0887"
            ],
            [
             0.1111111111111111,
             "#46039f"
            ],
            [
             0.2222222222222222,
             "#7201a8"
            ],
            [
             0.3333333333333333,
             "#9c179e"
            ],
            [
             0.4444444444444444,
             "#bd3786"
            ],
            [
             0.5555555555555556,
             "#d8576b"
            ],
            [
             0.6666666666666666,
             "#ed7953"
            ],
            [
             0.7777777777777778,
             "#fb9f3a"
            ],
            [
             0.8888888888888888,
             "#fdca26"
            ],
            [
             1,
             "#f0f921"
            ]
           ],
           "sequentialminus": [
            [
             0,
             "#0d0887"
            ],
            [
             0.1111111111111111,
             "#46039f"
            ],
            [
             0.2222222222222222,
             "#7201a8"
            ],
            [
             0.3333333333333333,
             "#9c179e"
            ],
            [
             0.4444444444444444,
             "#bd3786"
            ],
            [
             0.5555555555555556,
             "#d8576b"
            ],
            [
             0.6666666666666666,
             "#ed7953"
            ],
            [
             0.7777777777777778,
             "#fb9f3a"
            ],
            [
             0.8888888888888888,
             "#fdca26"
            ],
            [
             1,
             "#f0f921"
            ]
           ]
          },
          "colorway": [
           "#636efa",
           "#EF553B",
           "#00cc96",
           "#ab63fa",
           "#FFA15A",
           "#19d3f3",
           "#FF6692",
           "#B6E880",
           "#FF97FF",
           "#FECB52"
          ],
          "font": {
           "color": "#2a3f5f"
          },
          "geo": {
           "bgcolor": "white",
           "lakecolor": "white",
           "landcolor": "#E5ECF6",
           "showlakes": true,
           "showland": true,
           "subunitcolor": "white"
          },
          "hoverlabel": {
           "align": "left"
          },
          "hovermode": "closest",
          "mapbox": {
           "style": "light"
          },
          "paper_bgcolor": "white",
          "plot_bgcolor": "#E5ECF6",
          "polar": {
           "angularaxis": {
            "gridcolor": "white",
            "linecolor": "white",
            "ticks": ""
           },
           "bgcolor": "#E5ECF6",
           "radialaxis": {
            "gridcolor": "white",
            "linecolor": "white",
            "ticks": ""
           }
          },
          "scene": {
           "xaxis": {
            "backgroundcolor": "#E5ECF6",
            "gridcolor": "white",
            "gridwidth": 2,
            "linecolor": "white",
            "showbackground": true,
            "ticks": "",
            "zerolinecolor": "white"
           },
           "yaxis": {
            "backgroundcolor": "#E5ECF6",
            "gridcolor": "white",
            "gridwidth": 2,
            "linecolor": "white",
            "showbackground": true,
            "ticks": "",
            "zerolinecolor": "white"
           },
           "zaxis": {
            "backgroundcolor": "#E5ECF6",
            "gridcolor": "white",
            "gridwidth": 2,
            "linecolor": "white",
            "showbackground": true,
            "ticks": "",
            "zerolinecolor": "white"
           }
          },
          "shapedefaults": {
           "line": {
            "color": "#2a3f5f"
           }
          },
          "ternary": {
           "aaxis": {
            "gridcolor": "white",
            "linecolor": "white",
            "ticks": ""
           },
           "baxis": {
            "gridcolor": "white",
            "linecolor": "white",
            "ticks": ""
           },
           "bgcolor": "#E5ECF6",
           "caxis": {
            "gridcolor": "white",
            "linecolor": "white",
            "ticks": ""
           }
          },
          "title": {
           "x": 0.05
          },
          "xaxis": {
           "automargin": true,
           "gridcolor": "white",
           "linecolor": "white",
           "ticks": "",
           "title": {
            "standoff": 15
           },
           "zerolinecolor": "white",
           "zerolinewidth": 2
          },
          "yaxis": {
           "automargin": true,
           "gridcolor": "white",
           "linecolor": "white",
           "ticks": "",
           "title": {
            "standoff": 15
           },
           "zerolinecolor": "white",
           "zerolinewidth": 2
          }
         }
        },
        "title": {
         "text": "Tesla's Stock Price Over Time"
        },
        "xaxis": {
         "anchor": "y",
         "autorange": true,
         "domain": [
          0,
          1
         ],
         "range": [
          "2024-01-08",
          "2025-01-02"
         ],
         "title": {
          "text": "Date"
         },
         "type": "date"
        },
        "yaxis": {
         "anchor": "x",
         "autorange": true,
         "domain": [
          0,
          1
         ],
         "range": [
          123.28278181287978,
          498.62720659044055
         ],
         "title": {
          "text": "value"
         },
         "type": "linear"
        }
       }
      },
      "image/png": "[encoded data removed]",
      "text/html": [
       "<div>                            <div id=\"4c8825da-10d1-4c01-8661-118fd8b05028\" class=\"plotly-graph-div\" style=\"height:525px; width:100%;\"></div>            <script type=\"text/javascript\">                require([\"plotly\"], function(Plotly) {                    window.PLOTLYENV=window.PLOTLYENV || {};                                    if (document.getElementById(\"4c8825da-10d1-4c01-8661-118fd8b05028\")) {                    Plotly.newPlot(                        \"4c8825da-10d1-4c01-8661-118fd8b05028\",                        [{\"hovertemplate\":\"variable=Close\\u003cbr\\u003eDate=%{x}\\u003cbr\\u003evalue=%{y}\\u003cextra\\u003e\\u003c\\u002fextra\\u003e\",\"legendgroup\":\"Close\",\"line\":{\"color\":\"#636efa\",\"dash\":\"solid\"},\"marker\":{\"symbol\":\"circle\"},\"mode\":\"lines\",\"name\":\"Close\",\"orientation\":\"v\",\"showlegend\":true,\"x\":[\"2024-01-08T00:00:00\",\"2024-01-09T00:00:00\",\"2024-01-10T00:00:00\",\"2024-01-11T00:00:00\",\"2024-01-12T00:00:00\",\"2024-01-16T00:00:00\",\"2024-01-17T00:00:00\",\"2024-01-18T00:00:00\",\"2024-01-19T00:00:00\",\"2024-01-22T00:00:00\",\"2024-01-23T00:00:00\",\"2024-01-24T00:00:00\",\"2024-01-25T00:00:00\",\"2024-01-26T00:00:00\",\"2024-01-29T00:00:00\",\"2024-01-30T00:00:00\",\"2024-01-31T00:00:00\",\"2024-02-01T00:00:00\",\"2024-02-02T00:00:00\",\"2024-02-05T00:00:00\",\"2024-02-06T00:00:00\",\"2024-02-07T00:00:00\",\"2024-02-08T00:00:00\",\"2024-02-09T00:00:00\",\"2024-02-12T00:00:00\",\"2024-02-13T00:00:00\",\"2024-02-14T00:00:00\",\"2024-02-15T00:00:00\",\"2024-02-16T00:00:00\",\"2024-02-20T00:00:00\",\"2024-02-21T00:00:00\",\"2024-02-22T00:00:00\",\"2024-02-23T00:00:00\",\"2024-02-26T00:00:00\",\"2024-02-27T00:00:00\",\"2024-02-28T00:00:00\",\"2024-02-29T00:00:00\",\"2024-03-01T00:00:00\",\"2024-03-04T00:00:00\",\"2024-03-05T00:00:00\",\"2024-03-06T00:00:00\",\"2024-03-07T00:00:00\",\"2024-03-08T00:00:00\",\"2024-03-11T00:00:00\",\"2024-03-12T00:00:00\",\"2024-03-13T00:00:00\",\"2024-03-14T00:00:00\",\"2024-03-15T00:00:00\",\"2024-03-18T00:00:00\",\"2024-03-19T00:00:00\",\"2024-03-20T00:00:00\",\"2024-03-21T00:00:00\",\"2024-03-22T00:00:00\",\"2024-03-25T00:00:00\",\"2024-03-26T00:00:00\",\"2024-03-27T00:00:00\",\"2024-03-28T00:00:00\",\"2024-04-01T00:00:00\",\"2024-04-02T00:00:00\",\"2024-04-03T00:00:00\",\"2024-04-04T00:00:00\",\"2024-04-05T00:00:00\",\"2024-04-08T00:00:00\",\"2024-04-09T00:00:00\",\"2024-04-10T00:00:00\",\"2024-04-11T00:00:00\",\"2024-04-12T00:00:00\",\"2024-04-15T00:00:00\",\"2024-04-16T00:00:00\",\"2024-04-17T00:00:00\",\"2024-04-18T00:00:00\",\"2024-04-19T00:00:00\",\"2024-04-22T00:00:00\",\"2024-04-23T00:00:00\",\"2024-04-24T00:00:00\",\"2024-04-25T00:00:00\",\"2024-04-26T00:00:00\",\"2024-04-29T00:00:00\",\"2024-04-30T00:00:00\",\"2024-05-01T00:00:00\",\"2024-05-02T00:00:00\",\"2024-05-03T00:00:00\",\"2024-05-06T00:00:00\",\"2024-05-07T00:00:00\",\"2024-05-08T00:00:00\",\"2024-05-09T00:00:00\",\"2024-05-10T00:00:00\",\"2024-05-13T00:00:00\",\"2024-05-14T00:00:00\",\"2024-05-15T00:00:00\",\"2024-05-16T00:00:00\",\"2024-05-17T00:00:00\",\"2024-05-20T00:00:00\",\"2024-05-21T00:00:00\",\"2024-05-22T00:00:00\",\"2024-05-23T00:00:00\",\"2024-05-24T00:00:00\",\"2024-05-28T00:00:00\",\"2024-05-29T00:00:00\",\"2024-05-30T00:00:00\",\"2024-05-31T00:00:00\",\"2024-06-03T00:00:00\",\"2024-06-04T00:00:00\",\"2024-06-05T00:00:00\",\"2024-06-06T00:00:00\",\"2024-06-07T00:00:00\",\"2024-06-10T00:00:00\",\"2024-06-11T00:00:00\",\"2024-06-12T00:00:00\",\"2024-06-13T00:00:00\",\"2024-06-14T00:00:00\",\"2024-06-17T00:00:00\",\"2024-06-18T00:00:00\",\"2024-06-20T00:00:00\",\"2024-06-21T00:00:00\",\"2024-06-24T00:00:00\",\"2024-06-25T00:00:00\",\"2024-06-26T00:00:00\",\"2024-06-27T00:00:00\",\"2024-06-28T00:00:00\",\"2024-07-01T00:00:00\",\"2024-07-02T00:00:00\",\"2024-07-03T00:00:00\",\"2024-07-05T00:00:00\",\"2024-07-08T00:00:00\",\"2024-07-09T00:00:00\",\"2024-07-10T00:00:00\",\"2024-07-11T00:00:00\",\"2024-07-12T00:00:00\",\"2024-07-15T00:00:00\",\"2024-07-16T00:00:00\",\"2024-07-17T00:00:00\",\"2024-07-18T00:00:00\",\"2024-07-19T00:00:00\",\"2024-07-22T00:00:00\",\"2024-07-23T00:00:00\",\"2024-07-24T00:00:00\",\"2024-07-25T00:00:00\",\"2024-07-26T00:00:00\",\"2024-07-29T00:00:00\",\"2024-07-30T00:00:00\",\"2024-07-31T00:00:00\",\"2024-08-01T00:00:00\",\"2024-08-02T00:00:00\",\"2024-08-05T00:00:00\",\"2024-08-06T00:00:00\",\"2024-08-07T00:00:00\",\"2024-08-08T00:00:00\",\"2024-08-09T00:00:00\",\"2024-08-12T00:00:00\",\"2024-08-13T00:00:00\",\"2024-08-14T00:00:00\",\"2024-08-15T00:00:00\",\"2024-08-16T00:00:00\",\"2024-08-19T00:00:00\",\"2024-08-20T00:00:00\",\"2024-08-21T00:00:00\",\"2024-08-22T00:00:00\",\"2024-08-23T00:00:00\",\"2024-08-26T00:00:00\",\"2024-08-27T00:00:00\",\"2024-08-28T00:00:00\",\"2024-08-29T00:00:00\",\"2024-08-30T00:00:00\",\"2024-09-03T00:00:00\",\"2024-09-04T00:00:00\",\"2024-09-05T00:00:00\",\"2024-09-06T00:00:00\",\"2024-09-09T00:00:00\",\"2024-09-10T00:00:00\",\"2024-09-11T00:00:00\",\"2024-09-12T00:00:00\",\"2024-09-13T00:00:00\",\"2024-09-16T00:00:00\",\"2024-09-17T00:00:00\",\"2024-09-18T00:00:00\",\"2024-09-19T00:00:00\",\"2024-09-20T00:00:00\",\"2024-09-23T00:00:00\",\"2024-09-24T00:00:00\",\"2024-09-25T00:00:00\",\"2024-09-26T00:00:00\",\"2024-09-27T00:00:00\",\"2024-09-30T00:00:00\",\"2024-10-01T00:00:00\",\"2024-10-02T00:00:00\",\"2024-10-03T00:00:00\",\"2024-10-04T00:00:00\",\"2024-10-07T00:00:00\",\"2024-10-08T00:00:00\",\"2024-10-09T00:00:00\",\"2024-10-10T00:00:00\",\"2024-10-11T00:00:00\",\"2024-10-14T00:00:00\",\"2024-10-15T00:00:00\",\"2024-10-16T00:00:00\",\"2024-10-17T00:00:00\",\"2024-10-18T00:00:00\",\"2024-10-21T00:00:00\",\"2024-10-22T00:00:00\",\"2024-10-23T00:00:00\",\"2024-10-24T00:00:00\",\"2024-10-25T00:00:00\",\"2024-10-28T00:00:00\",\"2024-10-29T00:00:00\",\"2024-10-30T00:00:00\",\"2024-10-31T00:00:00\",\"2024-11-01T00:00:00\",\"2024-11-04T00:00:00\",\"2024-11-05T00:00:00\",\"2024-11-06T00:00:00\",\"2024-11-07T00:00:00\",\"2024-11-08T00:00:00\",\"2024-11-11T00:00:00\",\"2024-11-12T00:00:00\",\"2024-11-13T00:00:00\",\"2024-11-14T00:00:00\",\"2024-11-15T00:00:00\",\"2024-11-18T00:00:00\",\"2024-11-19T00:00:00\",\"2024-11-20T00:00:00\",\"2024-11-21T00:00:00\",\"2024-11-22T00:00:00\",\"2024-11-25T00:00:00\",\"2024-11-26T00:00:00\",\"2024-11-27T00:00:00\",\"2024-11-29T00:00:00\",\"2024-12-02T00:00:00\",\"2024-12-03T00:00:00\",\"2024-12-04T00:00:00\",\"2024-12-05T00:00:00\",\"2024-12-06T00:00:00\",\"2024-12-09T00:00:00\",\"2024-12-10T00:00:00\",\"2024-12-11T00:00:00\",\"2024-12-12T00:00:00\",\"2024-12-13T00:00:00\",\"2024-12-16T00:00:00\",\"2024-12-17T00:00:00\",\"2024-12-18T00:00:00\",\"2024-12-19T00:00:00\",\"2024-12-20T00:00:00\",\"2024-12-23T00:00:00\",\"2024-12-24T00:00:00\",\"2024-12-26T00:00:00\",\"2024-12-27T00:00:00\",\"2024-12-30T00:00:00\",\"2024-12-31T00:00:00\",\"2025-01-02T00:00:00\"],\"xaxis\":\"x\",\"y\":[240.4499969482422,234.9600067138672,233.9400024414062,227.2200012207031,218.8899993896484,219.9100036621094,215.5500030517578,211.8800048828125,212.1900024414062,208.8000030517578,209.1399993896484,207.8300018310547,182.6300048828125,183.25,190.9299926757812,191.5899963378906,187.2899932861328,188.8600006103516,187.9100036621094,181.0599975585938,185.1000061035156,187.5800018310547,189.5599975585938,193.5700073242188,188.1300048828125,184.0200042724609,188.7100067138672,200.4499969482422,199.9499969482422,193.7599945068359,194.7700042724609,197.4100036621094,191.9700012207031,199.3999938964844,199.7299957275391,202.0399932861328,201.8800048828125,202.6399993896484,188.1399993896484,180.7400054931641,176.5399932861328,178.6499938964844,175.3399963378906,177.7700042724609,177.5399932861328,169.4799957275391,162.5,163.5700073242188,173.8000030517578,171.3200073242188,175.6600036621094,172.8200073242188,170.8300018310547,172.6300048828125,177.6699981689453,179.8300018310547,175.7899932861328,175.2200012207031,166.6300048828125,168.3800048828125,171.1100006103516,164.8999938964844,172.9799957275391,176.8800048828125,171.7599945068359,174.6000061035156,171.0500030517578,161.4799957275391,157.1100006103516,155.4499969482422,149.9299926757812,147.0500030517578,142.0500030517578,144.6799926757812,162.1300048828125,170.1799926757812,168.2899932861328,194.0500030517578,183.2799987792969,179.9900054931641,180.0099945068359,181.1900024414062,184.7599945068359,177.8099975585938,174.7200012207031,171.9700012207031,168.4700012207031,171.8899993896484,177.5500030517578,173.9900054931641,174.8399963378906,177.4600067138672,174.9499969482422,186.6000061035156,180.1100006103516,173.7400054931641,179.2400054931641,176.75,176.1900024414062,178.7899932861328,178.0800018310547,176.2899932861328,174.7700042724609,175.0,177.9400024414062,177.4799957275391,173.7899932861328,170.6600036621094,177.2899932861328,182.4700012207031,178.0099945068359,187.4400024414062,184.8600006103516,181.5700073242188,183.0099945068359,182.5800018310547,187.3500061035156,196.3699951171875,197.4199981689453,197.8800048828125,209.8600006103516,231.2599945068359,246.3899993896484,251.5200042724609,252.9400024414062,262.3299865722656,263.260009765625,241.0299987792969,248.2299957275391,252.6399993896484,256.5599975585938,248.5,249.2299957275391,239.1999969482422,251.5099945068359,246.3800048828125,215.9900054931641,220.25,219.8000030517578,232.1000061035156,222.6199951171875,232.0700073242188,216.8600006103516,207.6699981689453,198.8800048828125,200.6399993896484,191.7599945068359,198.8399963378906,200.0,197.4900054931641,207.8300018310547,201.3800048828125,214.1399993896484,216.1199951171875,222.7200012207031,221.1000061035156,223.2700042724609,210.6600036621094,220.3200073242188,213.2100067138672,209.2100067138672,205.75,206.2799987792969,214.1100006103516,210.6000061035156,219.4100036621094,230.1699981689453,210.7299957275391,216.2700042724609,226.1699981689453,228.1300048828125,229.8099975585938,230.2899932861328,226.7799987792969,227.8699951171875,227.1999969482422,243.9199981689453,238.25,250.0,254.2700042724609,257.0199890136719,254.2200012207031,260.4599914550781,261.6300048828125,258.0199890136719,249.0200042724609,240.6600036621094,250.0800018310547,240.8300018310547,244.5,241.0500030517578,238.7700042724609,217.8000030517578,219.1600036621094,219.5700073242188,221.3300018310547,220.8899993896484,220.6999969482422,218.8500061035156,217.9700012207031,213.6499938964844,260.4800109863281,269.1900024414062,262.510009765625,259.5199890136719,257.5499877929688,249.8500061035156,248.9799957275391,242.8399963378906,251.4400024414062,288.5299987792969,296.9100036621094,321.2200012207031,350.0,328.489990234375,330.239990234375,311.1799926757812,320.7200012207031,338.739990234375,346.0,342.0299987792969,339.6400146484375,352.5599975585938,338.5899963378906,338.2300109863281,332.8900146484375,345.1600036621094,357.0899963378906,351.4200134277344,357.9299926757812,369.489990234375,389.2200012207031,389.7900085449219,400.989990234375,424.7699890136719,418.1000061035156,436.2300109863281,463.0199890136719,479.8599853515625,440.1300048828125,436.1700134277344,421.0599975585938,430.6000061035156,462.2799987792969,454.1300048828125,431.6600036621094,417.4100036621094,403.8399963378906,379.2799987792969],\"yaxis\":\"y\",\"type\":\"scatter\"}],                        {\"template\":{\"data\":{\"histogram2dcontour\":[{\"type\":\"histogram2dcontour\",\"colorbar\":{\"outlinewidth\":0,\"ticks\":\"\"},\"colorscale\":[[0.0,\"#0d0887\"],[0.1111111111111111,\"#46039f\"],[0.2222222222222222,\"#7201a8\"],[0.3333333333333333,\"#9c179e\"],[0.4444444444444444,\"#bd3786\"],[0.5555555555555556,\"#d8576b\"],[0.6666666666666666,\"#ed7953\"],[0.7777777777777778,\"#fb9f3a\"],[0.8888888888888888,\"#fdca26\"],[1.0,\"#f0f921\"]]}],\"choropleth\":[{\"type\":\"choropleth\",\"colorbar\":{\"outlinewidth\":0,\"ticks\":\"\"}}],\"histogram2d\":[{\"type\":\"histogram2d\",\"colorbar\":{\"outlinewidth\":0,\"ticks\":\"\"},\"colorscale\":[[0.0,\"#0d0887\"],[0.1111111111111111,\"#46039f\"],[0.2222222222222222,\"#7201a8\"],[0.3333333333333333,\"#9c179e\"],[0.4444444444444444,\"#bd3786\"],[0.5555555555555556,\"#d8576b\"],[0.6666666666666666,\"#ed7953\"],[0.7777777777777778,\"#fb9f3a\"],[0.8888888888888888,\"#fdca26\"],[1.0,\"#f0f921\"]]}],\"heatmap\":[{\"type\":\"heatmap\",\"colorbar\":{\"outlinewidth\":0,\"ticks\":\"\"},\"colorscale\":[[0.0,\"#0d0887\"],[0.1111111111111111,\"#46039f\"],[0.2222222222222222,\"#7201a8\"],[0.3333333333333333,\"#9c179e\"],[0.4444444444444444,\"#bd3786\"],[0.5555555555555556,\"#d8576b\"],[0.6666666666666666,\"#ed7953\"],[0.7777777777777778,\"#fb9f3a\"],[0.8888888888888888,\"#fdca26\"],[1.0,\"#f0f921\"]]}],\"heatmapgl\":[{\"type\":\"heatmapgl\",\"colorbar\":{\"outlinewidth\":0,\"ticks\":\"\"},\"colorscale\":[[0.0,\"#0d0887\"],[0.1111111111111111,\"#46039f\"],[0.2222222222222222,\"#7201a8\"],[0.3333333333333333,\"#9c179e\"],[0.4444444444444444,\"#bd3786\"],[0.5555555555555556,\"#d8576b\"],[0.6666666666666666,\"#ed7953\"],[0.7777777777777778,\"#fb9f3a\"],[0.8888888888888888,\"#fdca26\"],[1.0,\"#f0f921\"]]}],\"contourcarpet\":[{\"type\":\"contourcarpet\",\"colorbar\":{\"outlinewidth\":0,\"ticks\":\"\"}}],\"contour\":[{\"type\":\"contour\",\"colorbar\":{\"outlinewidth\":0,\"ticks\":\"\"},\"colorscale\":[[0.0,\"#0d0887\"],[0.1111111111111111,\"#46039f\"],[0.2222222222222222,\"#7201a8\"],[0.3333333333333333,\"#9c179e\"],[0.4444444444444444,\"#bd3786\"],[0.5555555555555556,\"#d8576b\"],[0.6666666666666666,\"#ed7953\"],[0.7777777777777778,\"#fb9f3a\"],[0.8888888888888888,\"#fdca26\"],[1.0,\"#f0f921\"]]}],\"surface\":[{\"type\":\"surface\",\"colorbar\":{\"outlinewidth\":0,\"ticks\":\"\"},\"colorscale\":[[0.0,\"#0d0887\"],[0.1111111111111111,\"#46039f\"],[0.2222222222222222,\"#7201a8\"],[0.3333333333333333,\"#9c179e\"],[0.4444444444444444,\"#bd3786\"],[0.5555555555555556,\"#d8576b\"],[0.6666666666666666,\"#ed7953\"],[0.7777777777777778,\"#fb9f3a\"],[0.8888888888888888,\"#fdca26\"],[1.0,\"#f0f921\"]]}],\"mesh3d\":[{\"type\":\"mesh3d\",\"colorbar\":{\"outlinewidth\":0,\"ticks\":\"\"}}],\"scatter\":[{\"fillpattern\":{\"fillmode\":\"overlay\",\"size\":10,\"solidity\":0.2},\"type\":\"scatter\"}],\"parcoords\":[{\"type\":\"parcoords\",\"line\":{\"colorbar\":{\"outlinewidth\":0,\"ticks\":\"\"}}}],\"scatterpolargl\":[{\"type\":\"scatterpolargl\",\"marker\":{\"colorbar\":{\"outlinewidth\":0,\"ticks\":\"\"}}}],\"bar\":[{\"error_x\":{\"color\":\"#2a3f5f\"},\"error_y\":{\"color\":\"#2a3f5f\"},\"marker\":{\"line\":{\"color\":\"#E5ECF6\",\"width\":0.5},\"pattern\":{\"fillmode\":\"overlay\",\"size\":10,\"solidity\":0.2}},\"type\":\"bar\"}],\"scattergeo\":[{\"type\":\"scattergeo\",\"marker\":{\"colorbar\":{\"outlinewidth\":0,\"ticks\":\"\"}}}],\"scatterpolar\":[{\"type\":\"scatterpolar\",\"marker\":{\"colorbar\":{\"outlinewidth\":0,\"ticks\":\"\"}}}],\"histogram\":[{\"marker\":{\"pattern\":{\"fillmode\":\"overlay\",\"size\":10,\"solidity\":0.2}},\"type\":\"histogram\"}],\"scattergl\":[{\"type\":\"scattergl\",\"marker\":{\"colorbar\":{\"outlinewidth\":0,\"ticks\":\"\"}}}],\"scatter3d\":[{\"type\":\"scatter3d\",\"line\":{\"colorbar\":{\"outlinewidth\":0,\"ticks\":\"\"}},\"marker\":{\"colorbar\":{\"outlinewidth\":0,\"ticks\":\"\"}}}],\"scattermapbox\":[{\"type\":\"scattermapbox\",\"marker\":{\"colorbar\":{\"outlinewidth\":0,\"ticks\":\"\"}}}],\"scatterternary\":[{\"type\":\"scatterternary\",\"marker\":{\"colorbar\":{\"outlinewidth\":0,\"ticks\":\"\"}}}],\"scattercarpet\":[{\"type\":\"scattercarpet\",\"marker\":{\"colorbar\":{\"outlinewidth\":0,\"ticks\":\"\"}}}],\"carpet\":[{\"aaxis\":{\"endlinecolor\":\"#2a3f5f\",\"gridcolor\":\"white\",\"linecolor\":\"white\",\"minorgridcolor\":\"white\",\"startlinecolor\":\"#2a3f5f\"},\"baxis\":{\"endlinecolor\":\"#2a3f5f\",\"gridcolor\":\"white\",\"linecolor\":\"white\",\"minorgridcolor\":\"white\",\"startlinecolor\":\"#2a3f5f\"},\"type\":\"carpet\"}],\"table\":[{\"cells\":{\"fill\":{\"color\":\"#EBF0F8\"},\"line\":{\"color\":\"white\"}},\"header\":{\"fill\":{\"color\":\"#C8D4E3\"},\"line\":{\"color\":\"white\"}},\"type\":\"table\"}],\"barpolar\":[{\"marker\":{\"line\":{\"color\":\"#E5ECF6\",\"width\":0.5},\"pattern\":{\"fillmode\":\"overlay\",\"size\":10,\"solidity\":0.2}},\"type\":\"barpolar\"}],\"pie\":[{\"automargin\":true,\"type\":\"pie\"}]},\"layout\":{\"autotypenumbers\":\"strict\",\"colorway\":[\"#636efa\",\"#EF553B\",\"#00cc96\",\"#ab63fa\",\"#FFA15A\",\"#19d3f3\",\"#FF6692\",\"#B6E880\",\"#FF97FF\",\"#FECB52\"],\"font\":{\"color\":\"#2a3f5f\"},\"hovermode\":\"closest\",\"hoverlabel\":{\"align\":\"left\"},\"paper_bgcolor\":\"white\",\"plot_bgcolor\":\"#E5ECF6\",\"polar\":{\"bgcolor\":\"#E5ECF6\",\"angularaxis\":{\"gridcolor\":\"white\",\"linecolor\":\"white\",\"ticks\":\"\"},\"radialaxis\":{\"gridcolor\":\"white\",\"linecolor\":\"white\",\"ticks\":\"\"}},\"ternary\":{\"bgcolor\":\"#E5ECF6\",\"aaxis\":{\"gridcolor\":\"white\",\"linecolor\":\"white\",\"ticks\":\"\"},\"baxis\":{\"gridcolor\":\"white\",\"linecolor\":\"white\",\"ticks\":\"\"},\"caxis\":{\"gridcolor\":\"white\",\"linecolor\":\"white\",\"ticks\":\"\"}},\"coloraxis\":{\"colorbar\":{\"outlinewidth\":0,\"ticks\":\"\"}},\"colorscale\":{\"sequential\":[[0.0,\"#0d0887\"],[0.1111111111111111,\"#46039f\"],[0.2222222222222222,\"#7201a8\"],[0.3333333333333333,\"#9c179e\"],[0.4444444444444444,\"#bd3786\"],[0.5555555555555556,\"#d8576b\"],[0.6666666666666666,\"#ed7953\"],[0.7777777777777778,\"#fb9f3a\"],[0.8888888888888888,\"#fdca26\"],[1.0,\"#f0f921\"]],\"sequentialminus\":[[0.0,\"#0d0887\"],[0.1111111111111111,\"#46039f\"],[0.2222222222222222,\"#7201a8\"],[0.3333333333333333,\"#9c179e\"],[0.4444444444444444,\"#bd3786\"],[0.5555555555555556,\"#d8576b\"],[0.6666666666666666,\"#ed7953\"],[0.7777777777777778,\"#fb9f3a\"],[0.8888888888888888,\"#fdca26\"],[1.0,\"#f0f921\"]],\"diverging\":[[0,\"#8e0152\"],[0.1,\"#c51b7d\"],[0.2,\"#de77ae\"],[0.3,\"#f1b6da\"],[0.4,\"#fde0ef\"],[0.5,\"#f7f7f7\"],[0.6,\"#e6f5d0\"],[0.7,\"#b8e186\"],[0.8,\"#7fbc41\"],[0.9,\"#4d9221\"],[1,\"#276419\"]]},\"xaxis\":{\"gridcolor\":\"white\",\"linecolor\":\"white\",\"ticks\":\"\",\"title\":{\"standoff\":15},\"zerolinecolor\":\"white\",\"automargin\":true,\"zerolinewidth\":2},\"yaxis\":{\"gridcolor\":\"white\",\"linecolor\":\"white\",\"ticks\":\"\",\"title\":{\"standoff\":15},\"zerolinecolor\":\"white\",\"automargin\":true,\"zerolinewidth\":2},\"scene\":{\"xaxis\":{\"backgroundcolor\":\"#E5ECF6\",\"gridcolor\":\"white\",\"linecolor\":\"white\",\"showbackground\":true,\"ticks\":\"\",\"zerolinecolor\":\"white\",\"gridwidth\":2},\"yaxis\":{\"backgroundcolor\":\"#E5ECF6\",\"gridcolor\":\"white\",\"linecolor\":\"white\",\"showbackground\":true,\"ticks\":\"\",\"zerolinecolor\":\"white\",\"gridwidth\":2},\"zaxis\":{\"backgroundcolor\":\"#E5ECF6\",\"gridcolor\":\"white\",\"linecolor\":\"white\",\"showbackground\":true,\"ticks\":\"\",\"zerolinecolor\":\"white\",\"gridwidth\":2}},\"shapedefaults\":{\"line\":{\"color\":\"#2a3f5f\"}},\"annotationdefaults\":{\"arrowcolor\":\"#2a3f5f\",\"arrowhead\":0,\"arrowwidth\":1},\"geo\":{\"bgcolor\":\"white\",\"landcolor\":\"#E5ECF6\",\"subunitcolor\":\"white\",\"showland\":true,\"showlakes\":true,\"lakecolor\":\"white\"},\"title\":{\"x\":0.05},\"mapbox\":{\"style\":\"light\"}}},\"xaxis\":{\"anchor\":\"y\",\"domain\":[0.0,1.0],\"title\":{\"text\":\"Date\"}},\"yaxis\":{\"anchor\":\"x\",\"domain\":[0.0,1.0],\"title\":{\"text\":\"value\"}},\"legend\":{\"title\":{\"text\":\"variable\"},\"tracegroupgap\":0},\"title\":{\"text\":\"Tesla's Stock Price Over Time\"}},                        {\"responsive\": true}                    ).then(function(){\n",
       "                            \n",
       "var gd = document.getElementById('4c8825da-10d1-4c01-8661-118fd8b05028');\n",
       "var x = new MutationObserver(function (mutations, observer) {{\n",
       "        var display = window.getComputedStyle(gd).display;\n",
       "        if (!display || display === 'none') {{\n",
       "            console.log([gd, 'removed!']);\n",
       "            Plotly.purge(gd);\n",
       "            observer.disconnect();\n",
       "        }}\n",
       "}});\n",
       "\n",
       "// Listen for the removal of the full notebook cells\n",
       "var notebookContainer = gd.closest('#notebook-container');\n",
       "if (notebookContainer) {{\n",
       "    x.observe(notebookContainer, {childList: true});\n",
       "}}\n",
       "\n",
       "// Listen for the clearing of the current output cell\n",
       "var outputEl = gd.closest('.output');\n",
       "if (outputEl) {{\n",
       "    x.observe(outputEl, {childList: true});\n",
       "}}\n",
       "\n",
       "                        })                };                });            </script>        </div>"
      ]
     },
     "metadata": {},
     "output_type": "display_data"
    }
   ],
   "source": [
    "#How has Tesla's stock price changed over time? (Line Chart)\n",
    "fig=px.line(df1,x=df1[\"Date\"],y=[\"Close\"], title=\"Tesla's Stock Price Over Time\", labels={\"Close\": \"Closing Price ($)\"})\n",
    "fig.write_image(\"line.png\")\n",
    "fig.show()"
   ]
  },
  {
   "cell_type": "code",
   "execution_count": 209,
   "id": "9e48d476-5fe7-49ef-9fc8-ac5d0f61a076",
   "metadata": {},
   "outputs": [
    {
     "data": {
      "image/png": "[encoded data removed]",
      "text/plain": [
       "<Figure size 640x480 with 1 Axes>"
      ]
     },
     "metadata": {},
     "output_type": "display_data"
    }
   ],
   "source": [
    "# What is the distribution of Tesla's daily returns? (Histogram & KDE Plot)\n",
    "df1[\"daily return\"]=df1[\"Close\"].pct_change()\n",
    "sns.histplot(df1[\"daily return\"],kde=True)\n",
    "plt.xlabel(\"Daily Returns\")\n",
    "plt.ylabel(\"Frequency\")\n",
    "plt.title(\"Distribution of Tesla's Daily Returns\")\n",
    "plt.savefig(\"histo.png\", dpi=300, bbox_inches='tight')  \n",
    "\n",
    "plt.show()"
   ]
  },
  {
   "cell_type": "code",
   "execution_count": 211,
   "id": "954a5af1-5087-4ed6-a191-8fffa4417be0",
   "metadata": {},
   "outputs": [
    {
     "data": {
      "application/vnd.plotly.v1+json": {
       "config": {
        "plotlyServerURL": "https://plot.ly"
       },
       "data": [
        {
         "hovertemplate": "x=%{x}<br>y=%{y}<extra></extra>",
         "legendgroup": "",
         "marker": {
          "color": "#636efa",
          "symbol": "circle"
         },
         "mode": "markers",
         "name": "",
         "orientation": "v",
         "showlegend": false,
         "type": "scatter",
         "x": [
          85166600,
          96705700,
          91628500,
          105873600,
          122889000,
          115355000,
          103164400,
          108595400,
          102095800,
          117952500,
          106605900,
          123369900,
          198076800,
          107343200,
          125013100,
          109982300,
          103221400,
          91843300,
          110505100,
          134294400,
          122676000,
          111535200,
          83034000,
          84476300,
          95498600,
          86759500,
          81203000,
          120831800,
          111173600,
          104545800,
          103844000,
          92739500,
          78841900,
          111747100,
          108645400,
          99806200,
          85907000,
          82099200,
          134334900,
          119660800,
          107920900,
          102129000,
          85315300,
          85391500,
          87391700,
          106524500,
          126325700,
          96971900,
          108214400,
          77271400,
          83846700,
          73178000,
          75454700,
          74228600,
          113186200,
          81804000,
          77654800,
          81562100,
          116650600,
          82950100,
          123162000,
          141250700,
          104423300,
          103232700,
          84532400,
          94516000,
          64506600,
          100245300,
          97000000,
          82439700,
          96098800,
          86005100,
          107097600,
          124545100,
          181178000,
          126427500,
          109815700,
          243869700,
          127031800,
          92829700,
          89148000,
          75491500,
          84390300,
          75045900,
          79969500,
          65950300,
          72627200,
          67018900,
          86407400,
          79663000,
          59812200,
          77445800,
          61727400,
          115266500,
          88313500,
          71975500,
          65479700,
          59736600,
          54782600,
          77784800,
          67314600,
          68568900,
          60056300,
          57953800,
          69887000,
          56244900,
          50869700,
          64761900,
          90389400,
          118984100,
          82038200,
          109786100,
          68982300,
          55893100,
          63029500,
          61992100,
          63678300,
          95737100,
          72746500,
          95438100,
          135691400,
          205047900,
          166561500,
          154501200,
          157219600,
          160210900,
          128519400,
          221707300,
          155955800,
          146912900,
          126332500,
          115584800,
          110869000,
          87403900,
          101225400,
          111928200,
          167942900,
          100636500,
          94604100,
          129201800,
          100560300,
          67497000,
          83861900,
          82880100,
          100308800,
          73783900,
          71159800,
          65033900,
          58648300,
          64044900,
          76247400,
          70250000,
          89848500,
          88765100,
          76435200,
          74001200,
          70146000,
          79514500,
          81525200,
          59301200,
          62821400,
          64116400,
          62308800,
          63370600,
          76714200,
          80651800,
          119355000,
          112177000,
          67443500,
          78891100,
          83548600,
          72020000,
          59515100,
          54323000,
          66761600,
          78010200,
          102694600,
          99879100,
          86927200,
          88491000,
          65034300,
          67142200,
          70988100,
          80705700,
          87397600,
          93983900,
          80729200,
          86573200,
          68113300,
          56303200,
          66289500,
          83087100,
          142628900,
          86291900,
          62988800,
          49632800,
          50791800,
          49611900,
          47329000,
          43268700,
          80938900,
          204491900,
          161611900,
          107653600,
          80521800,
          53993600,
          66575300,
          57544800,
          68802400,
          69282500,
          165228700,
          117309200,
          204782800,
          210521600,
          155726000,
          125405600,
          120726100,
          114440300,
          126547500,
          88852500,
          66340700,
          58011700,
          89140700,
          95890900,
          62295900,
          57896400,
          37167600,
          77986500,
          58267200,
          50810900,
          81403600,
          81455800,
          96359200,
          97563600,
          104287600,
          87752200,
          89000200,
          114083800,
          131223000,
          149340800,
          118566100,
          132216200,
          72698100,
          59551800,
          76366400,
          82666800,
          64941000,
          76825100,
          109710700
         ],
         "xaxis": "x",
         "y": [
          4.309997558593778,
          3.1499938964844034,
          1.1600036621094034,
          3.3500061035157103,
          1.1900024414062784,
          4.809997558593807,
          0.6900024414062216,
          5,
          2.1999969482421022,
          3.4599914550780966,
          2.1600036621094034,
          4.0500030517578125,
          7.0699920654296875,
          2.25,
          5.299987792968693,
          3.740005493164091,
          0.2899932861328125,
          0.3600006103515909,
          2.870010375976591,
          3.1999969482421022,
          7.889999389648409,
          0.5999908447265057,
          0.5599975585938068,
          3.3900146484376137,
          3.979995727539091,
          0.029998779296818157,
          3.410003662109375,
          11.289993286132784,
          2.1100006103516193,
          2.370010375976591,
          1.4100036621093182,
          3.4100036621094034,
          3.3399963378907103,
          7.110000610351591,
          4.309997558593722,
          1.6199951171875,
          2.299987792968693,
          2.1199951171875,
          10.589996337890682,
          2.3099975585937216,
          3.4500122070312784,
          4.299987792968807,
          6.160003662109403,
          2.3200073242187216,
          0.23001098632809658,
          3.5700073242187216,
          5.270004272460909,
          0.4100036621094034,
          3.7799987792969034,
          1.039993286132784,
          2.6600036621094034,
          3.5699920654296022,
          4.139999389648494,
          3.870010375976591,
          0.910003662109375,
          1.580001831054716,
          1.660003662109375,
          0.9499969482422159,
          1.8800048828125,
          4.360000610351591,
          1.039993286132784,
          4.180007934570284,
          3.6399993896484943,
          3.9700012207030966,
          1.2799987792969034,
          2.050003051757784,
          1.289993286132784,
          8.760009765625,
          0.3699951171875,
          2.1900024414062216,
          1.3200073242188068,
          1.919998168945284,
          1.4900054931640057,
          1.3499908447265057,
          0.7099914550780966,
          11.219985961914006,
          0.5600128173827841,
          5.6300048828125,
          3.6999969482421875,
          2.009994506835909,
          2.850006103515682,
          0.9100036621094034,
          0.9599914550780966,
          4.589996337890597,
          3.1300048828125,
          3.0399932861328125,
          4.580001831054716,
          1.889999389648409,
          3.0500030517578125,
          5.9099884033203125,
          0.739990234375,
          3.910003662109375,
          2.6100006103516193,
          11.090011596679688,
          2.7400054931640057,
          8.059997558593722,
          4.400009155273494,
          0.3500061035155966,
          2,
          0.209991455078125,
          0.4199981689453125,
          1.8400115966796875,
          0.009994506835994343,
          0.3500061035155966,
          3.3399963378905966,
          1.349990844726591,
          2.2700042724609943,
          3.259994506835909,
          6.1699981689453125,
          5.9199981689453125,
          7.790008544921903,
          9.52000427246088,
          1.699996948242216,
          3.1099853515623863,
          0.7099914550780966,
          2.389999389648409,
          2.950012207031193,
          9.830001831054688,
          2.25,
          1.6699981689453125,
          8.839996337890682,
          12.3699951171875,
          11.830001831054602,
          1.7100067138671022,
          5.229995727539006,
          11.329986572265625,
          0.46002197265619316,
          22.269989013671903,
          12.429992675781278,
          3.3300018310546875,
          1.25,
          4.229995727539091,
          1.8600006103515057,
          8.589996337890625,
          7.299987792968722,
          7.220001220703097,
          9.429992675781222,
          3.4499969482421875,
          1.3899993896483807,
          7.200012207031193,
          9.6300048828125,
          4.170013427734403,
          10.830001831054602,
          7.2100067138671875,
          13.660003662109403,
          0.11000061035159092,
          9.010009765625,
          3.139999389648409,
          2.9499969482421875,
          1.5299987792968182,
          9.360000610351591,
          6.009994506835909,
          9.1199951171875,
          4.970001220703097,
          5.64999389648429,
          3.7799987792969034,
          0.6000061035155966,
          13.160003662109403,
          5.860000610351619,
          5.5399932861328125,
          4.0399932861328125,
          3.9700012207030966,
          3.520004272460909,
          5.479995727539091,
          4.6599884033203125,
          8.820007324218807,
          6.679992675781222,
          21.870010375976506,
          0.07000732421872158,
          6.099990844726506,
          3.5800018310546875,
          5.149993896484403,
          2.2899932861328125,
          2.520004272460909,
          1.5800018310546875,
          2.889999389648409,
          9.919998168945312,
          3.270004272460909,
          7.389999389648409,
          0.19000244140622158,
          4.4799957275390625,
          6.380004882812528,
          3.079986572265625,
          2.589996337890625,
          4.6500244140625,
          1.4700012207030966,
          3.8199920654296875,
          3.3899993896484943,
          8.169998168945312,
          0.9400024414061932,
          2.7700042724609943,
          3.0399932861328978,
          2.3300018310546875,
          0.9700012207030966,
          0.43998718261710223,
          0.06999206542971592,
          0.6999969482421875,
          0.010009765625,
          0.04998779296880684,
          0.6600036621092897,
          3.4800109863280966,
          15.800018310546932,
          13.179992675781193,
          7.489990234375,
          4.990020751953125,
          0.49002075195306816,
          8.139984130859403,
          3.0599975585937216,
          1.7200012207032103,
          4.100006103515597,
          3.8599853515625,
          8.019989013671875,
          22.079986572265625,
          3.700012207031193,
          14.25,
          5.610015869140625,
          16.510009765625,
          10.149993896484318,
          1.990020751953125,
          10.239990234375,
          2.970001220703125,
          4.169982910156307,
          11.470001220703182,
          21.550018310546875,
          2.769989013671875,
          8.909973144531307,
          9.08001708984375,
          4.709991455078125,
          0.37997436523443184,
          4.929992675781193,
          9.6199951171875,
          11.79998779296875,
          7.819976806640625,
          8.309997558593807,
          15.069976806640682,
          6.739990234375,
          16.230010986328125,
          21.92999267578125,
          3.959991455078125,
          26.3699951171875,
          15.709991455078125,
          4.450012207031193,
          0.399993896484375,
          26.3800048828125,
          11.029998779296875,
          17.8599853515625,
          1.989990234375,
          19.95001220703125,
          10.82000732421875
         ],
         "yaxis": "y"
        }
       ],
       "layout": {
        "autosize": true,
        "legend": {
         "tracegroupgap": 0
        },
        "margin": {
         "t": 60
        },
        "template": {
         "data": {
          "bar": [
           {
            "error_x": {
             "color": "#f2f5fa"
            },
            "error_y": {
             "color": "#f2f5fa"
            },
            "marker": {
             "line": {
              "color": "rgb(17,17,17)",
              "width": 0.5
             },
             "pattern": {
              "fillmode": "overlay",
              "size": 10,
              "solidity": 0.2
             }
            },
            "type": "bar"
           }
          ],
          "barpolar": [
           {
            "marker": {
             "line": {
              "color": "rgb(17,17,17)",
              "width": 0.5
             },
             "pattern": {
              "fillmode": "overlay",
              "size": 10,
              "solidity": 0.2
             }
            },
            "type": "barpolar"
           }
          ],
          "carpet": [
           {
            "aaxis": {
             "endlinecolor": "#A2B1C6",
             "gridcolor": "#506784",
             "linecolor": "#506784",
             "minorgridcolor": "#506784",
             "startlinecolor": "#A2B1C6"
            },
            "baxis": {
             "endlinecolor": "#A2B1C6",
             "gridcolor": "#506784",
             "linecolor": "#506784",
             "minorgridcolor": "#506784",
             "startlinecolor": "#A2B1C6"
            },
            "type": "carpet"
           }
          ],
          "choropleth": [
           {
            "colorbar": {
             "outlinewidth": 0,
             "ticks": ""
            },
            "type": "choropleth"
           }
          ],
          "contour": [
           {
            "colorbar": {
             "outlinewidth": 0,
             "ticks": ""
            },
            "colorscale": [
             [
              0,
              "#0d0887"
             ],
             [
              0.1111111111111111,
              "#46039f"
             ],
             [
              0.2222222222222222,
              "#7201a8"
             ],
             [
              0.3333333333333333,
              "#9c179e"
             ],
             [
              0.4444444444444444,
              "#bd3786"
             ],
             [
              0.5555555555555556,
              "#d8576b"
             ],
             [
              0.6666666666666666,
              "#ed7953"
             ],
             [
              0.7777777777777778,
              "#fb9f3a"
             ],
             [
              0.8888888888888888,
              "#fdca26"
             ],
             [
              1,
              "#f0f921"
             ]
            ],
            "type": "contour"
           }
          ],
          "contourcarpet": [
           {
            "colorbar": {
             "outlinewidth": 0,
             "ticks": ""
            },
            "type": "contourcarpet"
           }
          ],
          "heatmap": [
           {
            "colorbar": {
             "outlinewidth": 0,
             "ticks": ""
            },
            "colorscale": [
             [
              0,
              "#0d0887"
             ],
             [
              0.1111111111111111,
              "#46039f"
             ],
             [
              0.2222222222222222,
              "#7201a8"
             ],
             [
              0.3333333333333333,
              "#9c179e"
             ],
             [
              0.4444444444444444,
              "#bd3786"
             ],
             [
              0.5555555555555556,
              "#d8576b"
             ],
             [
              0.6666666666666666,
              "#ed7953"
             ],
             [
              0.7777777777777778,
              "#fb9f3a"
             ],
             [
              0.8888888888888888,
              "#fdca26"
             ],
             [
              1,
              "#f0f921"
             ]
            ],
            "type": "heatmap"
           }
          ],
          "heatmapgl": [
           {
            "colorbar": {
             "outlinewidth": 0,
             "ticks": ""
            },
            "colorscale": [
             [
              0,
              "#0d0887"
             ],
             [
              0.1111111111111111,
              "#46039f"
             ],
             [
              0.2222222222222222,
              "#7201a8"
             ],
             [
              0.3333333333333333,
              "#9c179e"
             ],
             [
              0.4444444444444444,
              "#bd3786"
             ],
             [
              0.5555555555555556,
              "#d8576b"
             ],
             [
              0.6666666666666666,
              "#ed7953"
             ],
             [
              0.7777777777777778,
              "#fb9f3a"
             ],
             [
              0.8888888888888888,
              "#fdca26"
             ],
             [
              1,
              "#f0f921"
             ]
            ],
            "type": "heatmapgl"
           }
          ],
          "histogram": [
           {
            "marker": {
             "pattern": {
              "fillmode": "overlay",
              "size": 10,
              "solidity": 0.2
             }
            },
            "type": "histogram"
           }
          ],
          "histogram2d": [
           {
            "colorbar": {
             "outlinewidth": 0,
             "ticks": ""
            },
            "colorscale": [
             [
              0,
              "#0d0887"
             ],
             [
              0.1111111111111111,
              "#46039f"
             ],
             [
              0.2222222222222222,
              "#7201a8"
             ],
             [
              0.3333333333333333,
              "#9c179e"
             ],
             [
              0.4444444444444444,
              "#bd3786"
             ],
             [
              0.5555555555555556,
              "#d8576b"
             ],
             [
              0.6666666666666666,
              "#ed7953"
             ],
             [
              0.7777777777777778,
              "#fb9f3a"
             ],
             [
              0.8888888888888888,
              "#fdca26"
             ],
             [
              1,
              "#f0f921"
             ]
            ],
            "type": "histogram2d"
           }
          ],
          "histogram2dcontour": [
           {
            "colorbar": {
             "outlinewidth": 0,
             "ticks": ""
            },
            "colorscale": [
             [
              0,
              "#0d0887"
             ],
             [
              0.1111111111111111,
              "#46039f"
             ],
             [
              0.2222222222222222,
              "#7201a8"
             ],
             [
              0.3333333333333333,
              "#9c179e"
             ],
             [
              0.4444444444444444,
              "#bd3786"
             ],
             [
              0.5555555555555556,
              "#d8576b"
             ],
             [
              0.6666666666666666,
              "#ed7953"
             ],
             [
              0.7777777777777778,
              "#fb9f3a"
             ],
             [
              0.8888888888888888,
              "#fdca26"
             ],
             [
              1,
              "#f0f921"
             ]
            ],
            "type": "histogram2dcontour"
           }
          ],
          "mesh3d": [
           {
            "colorbar": {
             "outlinewidth": 0,
             "ticks": ""
            },
            "type": "mesh3d"
           }
          ],
          "parcoords": [
           {
            "line": {
             "colorbar": {
              "outlinewidth": 0,
              "ticks": ""
             }
            },
            "type": "parcoords"
           }
          ],
          "pie": [
           {
            "automargin": true,
            "type": "pie"
           }
          ],
          "scatter": [
           {
            "marker": {
             "line": {
              "color": "#283442"
             }
            },
            "type": "scatter"
           }
          ],
          "scatter3d": [
           {
            "line": {
             "colorbar": {
              "outlinewidth": 0,
              "ticks": ""
             }
            },
            "marker": {
             "colorbar": {
              "outlinewidth": 0,
              "ticks": ""
             }
            },
            "type": "scatter3d"
           }
          ],
          "scattercarpet": [
           {
            "marker": {
             "colorbar": {
              "outlinewidth": 0,
              "ticks": ""
             }
            },
            "type": "scattercarpet"
           }
          ],
          "scattergeo": [
           {
            "marker": {
             "colorbar": {
              "outlinewidth": 0,
              "ticks": ""
             }
            },
            "type": "scattergeo"
           }
          ],
          "scattergl": [
           {
            "marker": {
             "line": {
              "color": "#283442"
             }
            },
            "type": "scattergl"
           }
          ],
          "scattermapbox": [
           {
            "marker": {
             "colorbar": {
              "outlinewidth": 0,
              "ticks": ""
             }
            },
            "type": "scattermapbox"
           }
          ],
          "scatterpolar": [
           {
            "marker": {
             "colorbar": {
              "outlinewidth": 0,
              "ticks": ""
             }
            },
            "type": "scatterpolar"
           }
          ],
          "scatterpolargl": [
           {
            "marker": {
             "colorbar": {
              "outlinewidth": 0,
              "ticks": ""
             }
            },
            "type": "scatterpolargl"
           }
          ],
          "scatterternary": [
           {
            "marker": {
             "colorbar": {
              "outlinewidth": 0,
              "ticks": ""
             }
            },
            "type": "scatterternary"
           }
          ],
          "surface": [
           {
            "colorbar": {
             "outlinewidth": 0,
             "ticks": ""
            },
            "colorscale": [
             [
              0,
              "#0d0887"
             ],
             [
              0.1111111111111111,
              "#46039f"
             ],
             [
              0.2222222222222222,
              "#7201a8"
             ],
             [
              0.3333333333333333,
              "#9c179e"
             ],
             [
              0.4444444444444444,
              "#bd3786"
             ],
             [
              0.5555555555555556,
              "#d8576b"
             ],
             [
              0.6666666666666666,
              "#ed7953"
             ],
             [
              0.7777777777777778,
              "#fb9f3a"
             ],
             [
              0.8888888888888888,
              "#fdca26"
             ],
             [
              1,
              "#f0f921"
             ]
            ],
            "type": "surface"
           }
          ],
          "table": [
           {
            "cells": {
             "fill": {
              "color": "#506784"
             },
             "line": {
              "color": "rgb(17,17,17)"
             }
            },
            "header": {
             "fill": {
              "color": "#2a3f5f"
             },
             "line": {
              "color": "rgb(17,17,17)"
             }
            },
            "type": "table"
           }
          ]
         },
         "layout": {
          "annotationdefaults": {
           "arrowcolor": "#f2f5fa",
           "arrowhead": 0,
           "arrowwidth": 1
          },
          "autotypenumbers": "strict",
          "coloraxis": {
           "colorbar": {
            "outlinewidth": 0,
            "ticks": ""
           }
          },
          "colorscale": {
           "diverging": [
            [
             0,
             "#8e0152"
            ],
            [
             0.1,
             "#c51b7d"
            ],
            [
             0.2,
             "#de77ae"
            ],
            [
             0.3,
             "#f1b6da"
            ],
            [
             0.4,
             "#fde0ef"
            ],
            [
             0.5,
             "#f7f7f7"
            ],
            [
             0.6,
             "#e6f5d0"
            ],
            [
             0.7,
             "#b8e186"
            ],
            [
             0.8,
             "#7fbc41"
            ],
            [
             0.9,
             "#4d9221"
            ],
            [
             1,
             "#276419"
            ]
           ],
           "sequential": [
            [
             0,
             "#0d0887"
            ],
            [
             0.1111111111111111,
             "#46039f"
            ],
            [
             0.2222222222222222,
             "#7201a8"
            ],
            [
             0.3333333333333333,
             "#9c179e"
            ],
            [
             0.4444444444444444,
             "#bd3786"
            ],
            [
             0.5555555555555556,
             "#d8576b"
            ],
            [
             0.6666666666666666,
             "#ed7953"
            ],
            [
             0.7777777777777778,
             "#fb9f3a"
            ],
            [
             0.8888888888888888,
             "#fdca26"
            ],
            [
             1,
             "#f0f921"
            ]
           ],
           "sequentialminus": [
            [
             0,
             "#0d0887"
            ],
            [
             0.1111111111111111,
             "#46039f"
            ],
            [
             0.2222222222222222,
             "#7201a8"
            ],
            [
             0.3333333333333333,
             "#9c179e"
            ],
            [
             0.4444444444444444,
             "#bd3786"
            ],
            [
             0.5555555555555556,
             "#d8576b"
            ],
            [
             0.6666666666666666,
             "#ed7953"
            ],
            [
             0.7777777777777778,
             "#fb9f3a"
            ],
            [
             0.8888888888888888,
             "#fdca26"
            ],
            [
             1,
             "#f0f921"
            ]
           ]
          },
          "colorway": [
           "#636efa",
           "#EF553B",
           "#00cc96",
           "#ab63fa",
           "#FFA15A",
           "#19d3f3",
           "#FF6692",
           "#B6E880",
           "#FF97FF",
           "#FECB52"
          ],
          "font": {
           "color": "#f2f5fa"
          },
          "geo": {
           "bgcolor": "rgb(17,17,17)",
           "lakecolor": "rgb(17,17,17)",
           "landcolor": "rgb(17,17,17)",
           "showlakes": true,
           "showland": true,
           "subunitcolor": "#506784"
          },
          "hoverlabel": {
           "align": "left"
          },
          "hovermode": "closest",
          "mapbox": {
           "style": "dark"
          },
          "paper_bgcolor": "rgb(17,17,17)",
          "plot_bgcolor": "rgb(17,17,17)",
          "polar": {
           "angularaxis": {
            "gridcolor": "#506784",
            "linecolor": "#506784",
            "ticks": ""
           },
           "bgcolor": "rgb(17,17,17)",
           "radialaxis": {
            "gridcolor": "#506784",
            "linecolor": "#506784",
            "ticks": ""
           }
          },
          "scene": {
           "xaxis": {
            "backgroundcolor": "rgb(17,17,17)",
            "gridcolor": "#506784",
            "gridwidth": 2,
            "linecolor": "#506784",
            "showbackground": true,
            "ticks": "",
            "zerolinecolor": "#C8D4E3"
           },
           "yaxis": {
            "backgroundcolor": "rgb(17,17,17)",
            "gridcolor": "#506784",
            "gridwidth": 2,
            "linecolor": "#506784",
            "showbackground": true,
            "ticks": "",
            "zerolinecolor": "#C8D4E3"
           },
           "zaxis": {
            "backgroundcolor": "rgb(17,17,17)",
            "gridcolor": "#506784",
            "gridwidth": 2,
            "linecolor": "#506784",
            "showbackground": true,
            "ticks": "",
            "zerolinecolor": "#C8D4E3"
           }
          },
          "shapedefaults": {
           "line": {
            "color": "#f2f5fa"
           }
          },
          "sliderdefaults": {
           "bgcolor": "#C8D4E3",
           "bordercolor": "rgb(17,17,17)",
           "borderwidth": 1,
           "tickwidth": 0
          },
          "ternary": {
           "aaxis": {
            "gridcolor": "#506784",
            "linecolor": "#506784",
            "ticks": ""
           },
           "baxis": {
            "gridcolor": "#506784",
            "linecolor": "#506784",
            "ticks": ""
           },
           "bgcolor": "rgb(17,17,17)",
           "caxis": {
            "gridcolor": "#506784",
            "linecolor": "#506784",
            "ticks": ""
           }
          },
          "title": {
           "x": 0.05
          },
          "updatemenudefaults": {
           "bgcolor": "#506784",
           "borderwidth": 0
          },
          "xaxis": {
           "automargin": true,
           "gridcolor": "#283442",
           "linecolor": "#506784",
           "ticks": "",
           "title": {
            "standoff": 15
           },
           "zerolinecolor": "#283442",
           "zerolinewidth": 2
          },
          "yaxis": {
           "automargin": true,
           "gridcolor": "#283442",
           "linecolor": "#506784",
           "ticks": "",
           "title": {
            "standoff": 15
           },
           "zerolinecolor": "#283442",
           "zerolinewidth": 2
          }
         }
        },
        "title": {
         "text": "relationship between trading volume and daily price changes"
        },
        "xaxis": {
         "anchor": "y",
         "autorange": true,
         "domain": [
          0,
          1
         ],
         "range": [
          24663580.323498044,
          256373719.67650196
         ],
         "title": {
          "text": "x"
         },
         "type": "linear"
        },
        "yaxis": {
         "anchor": "x",
         "autorange": true,
         "domain": [
          0,
          1
         ],
         "range": [
          -2.03177795009657,
          28.421777339745063
         ],
         "title": {
          "text": "y"
         },
         "type": "linear"
        }
       }
      },
      "image/png": "[encoded data removed]",
      "text/html": [
       "<div>                            <div id=\"f383048f-33c7-4eb0-842a-8e935255004c\" class=\"plotly-graph-div\" style=\"height:525px; width:100%;\"></div>            <script type=\"text/javascript\">                require([\"plotly\"], function(Plotly) {                    window.PLOTLYENV=window.PLOTLYENV || {};                                    if (document.getElementById(\"f383048f-33c7-4eb0-842a-8e935255004c\")) {                    Plotly.newPlot(                        \"f383048f-33c7-4eb0-842a-8e935255004c\",                        [{\"hovertemplate\":\"x=%{x}\\u003cbr\\u003ey=%{y}\\u003cextra\\u003e\\u003c\\u002fextra\\u003e\",\"legendgroup\":\"\",\"marker\":{\"color\":\"#636efa\",\"symbol\":\"circle\"},\"mode\":\"markers\",\"name\":\"\",\"orientation\":\"v\",\"showlegend\":false,\"x\":[85166600,96705700,91628500,105873600,122889000,115355000,103164400,108595400,102095800,117952500,106605900,123369900,198076800,107343200,125013100,109982300,103221400,91843300,110505100,134294400,122676000,111535200,83034000,84476300,95498600,86759500,81203000,120831800,111173600,104545800,103844000,92739500,78841900,111747100,108645400,99806200,85907000,82099200,134334900,119660800,107920900,102129000,85315300,85391500,87391700,106524500,126325700,96971900,108214400,77271400,83846700,73178000,75454700,74228600,113186200,81804000,77654800,81562100,116650600,82950100,123162000,141250700,104423300,103232700,84532400,94516000,64506600,100245300,97000000,82439700,96098800,86005100,107097600,124545100,181178000,126427500,109815700,243869700,127031800,92829700,89148000,75491500,84390300,75045900,79969500,65950300,72627200,67018900,86407400,79663000,59812200,77445800,61727400,115266500,88313500,71975500,65479700,59736600,54782600,77784800,67314600,68568900,60056300,57953800,69887000,56244900,50869700,64761900,90389400,118984100,82038200,109786100,68982300,55893100,63029500,61992100,63678300,95737100,72746500,95438100,135691400,205047900,166561500,154501200,157219600,160210900,128519400,221707300,155955800,146912900,126332500,115584800,110869000,87403900,101225400,111928200,167942900,100636500,94604100,129201800,100560300,67497000,83861900,82880100,100308800,73783900,71159800,65033900,58648300,64044900,76247400,70250000,89848500,88765100,76435200,74001200,70146000,79514500,81525200,59301200,62821400,64116400,62308800,63370600,76714200,80651800,119355000,112177000,67443500,78891100,83548600,72020000,59515100,54323000,66761600,78010200,102694600,99879100,86927200,88491000,65034300,67142200,70988100,80705700,87397600,93983900,80729200,86573200,68113300,56303200,66289500,83087100,142628900,86291900,62988800,49632800,50791800,49611900,47329000,43268700,80938900,204491900,161611900,107653600,80521800,53993600,66575300,57544800,68802400,69282500,165228700,117309200,204782800,210521600,155726000,125405600,120726100,114440300,126547500,88852500,66340700,58011700,89140700,95890900,62295900,57896400,37167600,77986500,58267200,50810900,81403600,81455800,96359200,97563600,104287600,87752200,89000200,114083800,131223000,149340800,118566100,132216200,72698100,59551800,76366400,82666800,64941000,76825100,109710700],\"xaxis\":\"x\",\"y\":[4.309997558593778,3.1499938964844034,1.1600036621094034,3.3500061035157103,1.1900024414062784,4.809997558593807,0.6900024414062216,5.0,2.1999969482421022,3.4599914550780966,2.1600036621094034,4.0500030517578125,7.0699920654296875,2.25,5.299987792968693,3.740005493164091,0.2899932861328125,0.3600006103515909,2.870010375976591,3.1999969482421022,7.889999389648409,0.5999908447265057,0.5599975585938068,3.3900146484376137,3.979995727539091,0.029998779296818157,3.410003662109375,11.289993286132784,2.1100006103516193,2.370010375976591,1.4100036621093182,3.4100036621094034,3.3399963378907103,7.110000610351591,4.309997558593722,1.6199951171875,2.299987792968693,2.1199951171875,10.589996337890682,2.3099975585937216,3.4500122070312784,4.299987792968807,6.160003662109403,2.3200073242187216,0.23001098632809658,3.5700073242187216,5.270004272460909,0.4100036621094034,3.7799987792969034,1.039993286132784,2.6600036621094034,3.5699920654296022,4.139999389648494,3.870010375976591,0.910003662109375,1.580001831054716,1.660003662109375,0.9499969482422159,1.8800048828125,4.360000610351591,1.039993286132784,4.180007934570284,3.6399993896484943,3.9700012207030966,1.2799987792969034,2.050003051757784,1.289993286132784,8.760009765625,0.3699951171875,2.1900024414062216,1.3200073242188068,1.919998168945284,1.4900054931640057,1.3499908447265057,0.7099914550780966,11.219985961914006,0.5600128173827841,5.6300048828125,3.6999969482421875,2.009994506835909,2.850006103515682,0.9100036621094034,0.9599914550780966,4.589996337890597,3.1300048828125,3.0399932861328125,4.580001831054716,1.889999389648409,3.0500030517578125,5.9099884033203125,0.739990234375,3.910003662109375,2.6100006103516193,11.090011596679688,2.7400054931640057,8.059997558593722,4.400009155273494,0.3500061035155966,2.0,0.209991455078125,0.4199981689453125,1.8400115966796875,0.009994506835994343,0.3500061035155966,3.3399963378905966,1.349990844726591,2.2700042724609943,3.259994506835909,6.1699981689453125,5.9199981689453125,7.790008544921903,9.52000427246088,1.699996948242216,3.1099853515623863,0.7099914550780966,2.389999389648409,2.950012207031193,9.830001831054688,2.25,1.6699981689453125,8.839996337890682,12.3699951171875,11.830001831054602,1.7100067138671022,5.229995727539006,11.329986572265625,0.46002197265619316,22.269989013671903,12.429992675781278,3.3300018310546875,1.25,4.229995727539091,1.8600006103515057,8.589996337890625,7.299987792968722,7.220001220703097,9.429992675781222,3.4499969482421875,1.3899993896483807,7.200012207031193,9.6300048828125,4.170013427734403,10.830001831054602,7.2100067138671875,13.660003662109403,0.11000061035159092,9.010009765625,3.139999389648409,2.9499969482421875,1.5299987792968182,9.360000610351591,6.009994506835909,9.1199951171875,4.970001220703097,5.64999389648429,3.7799987792969034,0.6000061035155966,13.160003662109403,5.860000610351619,5.5399932861328125,4.0399932861328125,3.9700012207030966,3.520004272460909,5.479995727539091,4.6599884033203125,8.820007324218807,6.679992675781222,21.870010375976506,0.07000732421872158,6.099990844726506,3.5800018310546875,5.149993896484403,2.2899932861328125,2.520004272460909,1.5800018310546875,2.889999389648409,9.919998168945312,3.270004272460909,7.389999389648409,0.19000244140622158,4.4799957275390625,6.380004882812528,3.079986572265625,2.589996337890625,4.6500244140625,1.4700012207030966,3.8199920654296875,3.3899993896484943,8.169998168945312,0.9400024414061932,2.7700042724609943,3.0399932861328978,2.3300018310546875,0.9700012207030966,0.43998718261710223,0.06999206542971592,0.6999969482421875,0.010009765625,0.04998779296880684,0.6600036621092897,3.4800109863280966,15.800018310546932,13.179992675781193,7.489990234375,4.990020751953125,0.49002075195306816,8.139984130859403,3.0599975585937216,1.7200012207032103,4.100006103515597,3.8599853515625,8.019989013671875,22.079986572265625,3.700012207031193,14.25,5.610015869140625,16.510009765625,10.149993896484318,1.990020751953125,10.239990234375,2.970001220703125,4.169982910156307,11.470001220703182,21.550018310546875,2.769989013671875,8.909973144531307,9.08001708984375,4.709991455078125,0.37997436523443184,4.929992675781193,9.6199951171875,11.79998779296875,7.819976806640625,8.309997558593807,15.069976806640682,6.739990234375,16.230010986328125,21.92999267578125,3.959991455078125,26.3699951171875,15.709991455078125,4.450012207031193,0.399993896484375,26.3800048828125,11.029998779296875,17.8599853515625,1.989990234375,19.95001220703125,10.82000732421875],\"yaxis\":\"y\",\"type\":\"scatter\"}],                        {\"template\":{\"data\":{\"barpolar\":[{\"marker\":{\"line\":{\"color\":\"rgb(17,17,17)\",\"width\":0.5},\"pattern\":{\"fillmode\":\"overlay\",\"size\":10,\"solidity\":0.2}},\"type\":\"barpolar\"}],\"bar\":[{\"error_x\":{\"color\":\"#f2f5fa\"},\"error_y\":{\"color\":\"#f2f5fa\"},\"marker\":{\"line\":{\"color\":\"rgb(17,17,17)\",\"width\":0.5},\"pattern\":{\"fillmode\":\"overlay\",\"size\":10,\"solidity\":0.2}},\"type\":\"bar\"}],\"carpet\":[{\"aaxis\":{\"endlinecolor\":\"#A2B1C6\",\"gridcolor\":\"#506784\",\"linecolor\":\"#506784\",\"minorgridcolor\":\"#506784\",\"startlinecolor\":\"#A2B1C6\"},\"baxis\":{\"endlinecolor\":\"#A2B1C6\",\"gridcolor\":\"#506784\",\"linecolor\":\"#506784\",\"minorgridcolor\":\"#506784\",\"startlinecolor\":\"#A2B1C6\"},\"type\":\"carpet\"}],\"choropleth\":[{\"colorbar\":{\"outlinewidth\":0,\"ticks\":\"\"},\"type\":\"choropleth\"}],\"contourcarpet\":[{\"colorbar\":{\"outlinewidth\":0,\"ticks\":\"\"},\"type\":\"contourcarpet\"}],\"contour\":[{\"colorbar\":{\"outlinewidth\":0,\"ticks\":\"\"},\"colorscale\":[[0.0,\"#0d0887\"],[0.1111111111111111,\"#46039f\"],[0.2222222222222222,\"#7201a8\"],[0.3333333333333333,\"#9c179e\"],[0.4444444444444444,\"#bd3786\"],[0.5555555555555556,\"#d8576b\"],[0.6666666666666666,\"#ed7953\"],[0.7777777777777778,\"#fb9f3a\"],[0.8888888888888888,\"#fdca26\"],[1.0,\"#f0f921\"]],\"type\":\"contour\"}],\"heatmapgl\":[{\"colorbar\":{\"outlinewidth\":0,\"ticks\":\"\"},\"colorscale\":[[0.0,\"#0d0887\"],[0.1111111111111111,\"#46039f\"],[0.2222222222222222,\"#7201a8\"],[0.3333333333333333,\"#9c179e\"],[0.4444444444444444,\"#bd3786\"],[0.5555555555555556,\"#d8576b\"],[0.6666666666666666,\"#ed7953\"],[0.7777777777777778,\"#fb9f3a\"],[0.8888888888888888,\"#fdca26\"],[1.0,\"#f0f921\"]],\"type\":\"heatmapgl\"}],\"heatmap\":[{\"colorbar\":{\"outlinewidth\":0,\"ticks\":\"\"},\"colorscale\":[[0.0,\"#0d0887\"],[0.1111111111111111,\"#46039f\"],[0.2222222222222222,\"#7201a8\"],[0.3333333333333333,\"#9c179e\"],[0.4444444444444444,\"#bd3786\"],[0.5555555555555556,\"#d8576b\"],[0.6666666666666666,\"#ed7953\"],[0.7777777777777778,\"#fb9f3a\"],[0.8888888888888888,\"#fdca26\"],[1.0,\"#f0f921\"]],\"type\":\"heatmap\"}],\"histogram2dcontour\":[{\"colorbar\":{\"outlinewidth\":0,\"ticks\":\"\"},\"colorscale\":[[0.0,\"#0d0887\"],[0.1111111111111111,\"#46039f\"],[0.2222222222222222,\"#7201a8\"],[0.3333333333333333,\"#9c179e\"],[0.4444444444444444,\"#bd3786\"],[0.5555555555555556,\"#d8576b\"],[0.6666666666666666,\"#ed7953\"],[0.7777777777777778,\"#fb9f3a\"],[0.8888888888888888,\"#fdca26\"],[1.0,\"#f0f921\"]],\"type\":\"histogram2dcontour\"}],\"histogram2d\":[{\"colorbar\":{\"outlinewidth\":0,\"ticks\":\"\"},\"colorscale\":[[0.0,\"#0d0887\"],[0.1111111111111111,\"#46039f\"],[0.2222222222222222,\"#7201a8\"],[0.3333333333333333,\"#9c179e\"],[0.4444444444444444,\"#bd3786\"],[0.5555555555555556,\"#d8576b\"],[0.6666666666666666,\"#ed7953\"],[0.7777777777777778,\"#fb9f3a\"],[0.8888888888888888,\"#fdca26\"],[1.0,\"#f0f921\"]],\"type\":\"histogram2d\"}],\"histogram\":[{\"marker\":{\"pattern\":{\"fillmode\":\"overlay\",\"size\":10,\"solidity\":0.2}},\"type\":\"histogram\"}],\"mesh3d\":[{\"colorbar\":{\"outlinewidth\":0,\"ticks\":\"\"},\"type\":\"mesh3d\"}],\"parcoords\":[{\"line\":{\"colorbar\":{\"outlinewidth\":0,\"ticks\":\"\"}},\"type\":\"parcoords\"}],\"pie\":[{\"automargin\":true,\"type\":\"pie\"}],\"scatter3d\":[{\"line\":{\"colorbar\":{\"outlinewidth\":0,\"ticks\":\"\"}},\"marker\":{\"colorbar\":{\"outlinewidth\":0,\"ticks\":\"\"}},\"type\":\"scatter3d\"}],\"scattercarpet\":[{\"marker\":{\"colorbar\":{\"outlinewidth\":0,\"ticks\":\"\"}},\"type\":\"scattercarpet\"}],\"scattergeo\":[{\"marker\":{\"colorbar\":{\"outlinewidth\":0,\"ticks\":\"\"}},\"type\":\"scattergeo\"}],\"scattergl\":[{\"marker\":{\"line\":{\"color\":\"#283442\"}},\"type\":\"scattergl\"}],\"scattermapbox\":[{\"marker\":{\"colorbar\":{\"outlinewidth\":0,\"ticks\":\"\"}},\"type\":\"scattermapbox\"}],\"scatterpolargl\":[{\"marker\":{\"colorbar\":{\"outlinewidth\":0,\"ticks\":\"\"}},\"type\":\"scatterpolargl\"}],\"scatterpolar\":[{\"marker\":{\"colorbar\":{\"outlinewidth\":0,\"ticks\":\"\"}},\"type\":\"scatterpolar\"}],\"scatter\":[{\"marker\":{\"line\":{\"color\":\"#283442\"}},\"type\":\"scatter\"}],\"scatterternary\":[{\"marker\":{\"colorbar\":{\"outlinewidth\":0,\"ticks\":\"\"}},\"type\":\"scatterternary\"}],\"surface\":[{\"colorbar\":{\"outlinewidth\":0,\"ticks\":\"\"},\"colorscale\":[[0.0,\"#0d0887\"],[0.1111111111111111,\"#46039f\"],[0.2222222222222222,\"#7201a8\"],[0.3333333333333333,\"#9c179e\"],[0.4444444444444444,\"#bd3786\"],[0.5555555555555556,\"#d8576b\"],[0.6666666666666666,\"#ed7953\"],[0.7777777777777778,\"#fb9f3a\"],[0.8888888888888888,\"#fdca26\"],[1.0,\"#f0f921\"]],\"type\":\"surface\"}],\"table\":[{\"cells\":{\"fill\":{\"color\":\"#506784\"},\"line\":{\"color\":\"rgb(17,17,17)\"}},\"header\":{\"fill\":{\"color\":\"#2a3f5f\"},\"line\":{\"color\":\"rgb(17,17,17)\"}},\"type\":\"table\"}]},\"layout\":{\"annotationdefaults\":{\"arrowcolor\":\"#f2f5fa\",\"arrowhead\":0,\"arrowwidth\":1},\"autotypenumbers\":\"strict\",\"coloraxis\":{\"colorbar\":{\"outlinewidth\":0,\"ticks\":\"\"}},\"colorscale\":{\"diverging\":[[0,\"#8e0152\"],[0.1,\"#c51b7d\"],[0.2,\"#de77ae\"],[0.3,\"#f1b6da\"],[0.4,\"#fde0ef\"],[0.5,\"#f7f7f7\"],[0.6,\"#e6f5d0\"],[0.7,\"#b8e186\"],[0.8,\"#7fbc41\"],[0.9,\"#4d9221\"],[1,\"#276419\"]],\"sequential\":[[0.0,\"#0d0887\"],[0.1111111111111111,\"#46039f\"],[0.2222222222222222,\"#7201a8\"],[0.3333333333333333,\"#9c179e\"],[0.4444444444444444,\"#bd3786\"],[0.5555555555555556,\"#d8576b\"],[0.6666666666666666,\"#ed7953\"],[0.7777777777777778,\"#fb9f3a\"],[0.8888888888888888,\"#fdca26\"],[1.0,\"#f0f921\"]],\"sequentialminus\":[[0.0,\"#0d0887\"],[0.1111111111111111,\"#46039f\"],[0.2222222222222222,\"#7201a8\"],[0.3333333333333333,\"#9c179e\"],[0.4444444444444444,\"#bd3786\"],[0.5555555555555556,\"#d8576b\"],[0.6666666666666666,\"#ed7953\"],[0.7777777777777778,\"#fb9f3a\"],[0.8888888888888888,\"#fdca26\"],[1.0,\"#f0f921\"]]},\"colorway\":[\"#636efa\",\"#EF553B\",\"#00cc96\",\"#ab63fa\",\"#FFA15A\",\"#19d3f3\",\"#FF6692\",\"#B6E880\",\"#FF97FF\",\"#FECB52\"],\"font\":{\"color\":\"#f2f5fa\"},\"geo\":{\"bgcolor\":\"rgb(17,17,17)\",\"lakecolor\":\"rgb(17,17,17)\",\"landcolor\":\"rgb(17,17,17)\",\"showlakes\":true,\"showland\":true,\"subunitcolor\":\"#506784\"},\"hoverlabel\":{\"align\":\"left\"},\"hovermode\":\"closest\",\"mapbox\":{\"style\":\"dark\"},\"paper_bgcolor\":\"rgb(17,17,17)\",\"plot_bgcolor\":\"rgb(17,17,17)\",\"polar\":{\"angularaxis\":{\"gridcolor\":\"#506784\",\"linecolor\":\"#506784\",\"ticks\":\"\"},\"bgcolor\":\"rgb(17,17,17)\",\"radialaxis\":{\"gridcolor\":\"#506784\",\"linecolor\":\"#506784\",\"ticks\":\"\"}},\"scene\":{\"xaxis\":{\"backgroundcolor\":\"rgb(17,17,17)\",\"gridcolor\":\"#506784\",\"gridwidth\":2,\"linecolor\":\"#506784\",\"showbackground\":true,\"ticks\":\"\",\"zerolinecolor\":\"#C8D4E3\"},\"yaxis\":{\"backgroundcolor\":\"rgb(17,17,17)\",\"gridcolor\":\"#506784\",\"gridwidth\":2,\"linecolor\":\"#506784\",\"showbackground\":true,\"ticks\":\"\",\"zerolinecolor\":\"#C8D4E3\"},\"zaxis\":{\"backgroundcolor\":\"rgb(17,17,17)\",\"gridcolor\":\"#506784\",\"gridwidth\":2,\"linecolor\":\"#506784\",\"showbackground\":true,\"ticks\":\"\",\"zerolinecolor\":\"#C8D4E3\"}},\"shapedefaults\":{\"line\":{\"color\":\"#f2f5fa\"}},\"sliderdefaults\":{\"bgcolor\":\"#C8D4E3\",\"bordercolor\":\"rgb(17,17,17)\",\"borderwidth\":1,\"tickwidth\":0},\"ternary\":{\"aaxis\":{\"gridcolor\":\"#506784\",\"linecolor\":\"#506784\",\"ticks\":\"\"},\"baxis\":{\"gridcolor\":\"#506784\",\"linecolor\":\"#506784\",\"ticks\":\"\"},\"bgcolor\":\"rgb(17,17,17)\",\"caxis\":{\"gridcolor\":\"#506784\",\"linecolor\":\"#506784\",\"ticks\":\"\"}},\"title\":{\"x\":0.05},\"updatemenudefaults\":{\"bgcolor\":\"#506784\",\"borderwidth\":0},\"xaxis\":{\"automargin\":true,\"gridcolor\":\"#283442\",\"linecolor\":\"#506784\",\"ticks\":\"\",\"title\":{\"standoff\":15},\"zerolinecolor\":\"#283442\",\"zerolinewidth\":2},\"yaxis\":{\"automargin\":true,\"gridcolor\":\"#283442\",\"linecolor\":\"#506784\",\"ticks\":\"\",\"title\":{\"standoff\":15},\"zerolinecolor\":\"#283442\",\"zerolinewidth\":2}}},\"xaxis\":{\"anchor\":\"y\",\"domain\":[0.0,1.0],\"title\":{\"text\":\"x\"}},\"yaxis\":{\"anchor\":\"x\",\"domain\":[0.0,1.0],\"title\":{\"text\":\"y\"}},\"legend\":{\"tracegroupgap\":0},\"margin\":{\"t\":60},\"title\":{\"text\":\"relationship between trading volume and daily price changes\"}},                        {\"responsive\": true}                    ).then(function(){\n",
       "                            \n",
       "var gd = document.getElementById('f383048f-33c7-4eb0-842a-8e935255004c');\n",
       "var x = new MutationObserver(function (mutations, observer) {{\n",
       "        var display = window.getComputedStyle(gd).display;\n",
       "        if (!display || display === 'none') {{\n",
       "            console.log([gd, 'removed!']);\n",
       "            Plotly.purge(gd);\n",
       "            observer.disconnect();\n",
       "        }}\n",
       "}});\n",
       "\n",
       "// Listen for the removal of the full notebook cells\n",
       "var notebookContainer = gd.closest('#notebook-container');\n",
       "if (notebookContainer) {{\n",
       "    x.observe(notebookContainer, {childList: true});\n",
       "}}\n",
       "\n",
       "// Listen for the clearing of the current output cell\n",
       "var outputEl = gd.closest('.output');\n",
       "if (outputEl) {{\n",
       "    x.observe(outputEl, {childList: true});\n",
       "}}\n",
       "\n",
       "                        })                };                });            </script>        </div>"
      ]
     },
     "metadata": {},
     "output_type": "display_data"
    }
   ],
   "source": [
    " # Is there a relationship between trading volume and daily price changes? (Scatter Plot)\n",
    "df1[\"daily change\"]=abs(df1[\"Close\"]-df1[\"Open\"])\n",
    "\n",
    "fig=px.scatter(x=df1[\"Volume\"],y=df1[\"daily change\"])\n",
    "fig.update_layout(title=\"relationship between trading volume and daily price changes\",\n",
    "                 template=\"plotly_dark\")\n",
    "fig.write_image(\"scatter.png\")\n",
    "fig.show()"
   ]
  },
  {
   "cell_type": "code",
   "execution_count": 213,
   "id": "0ed1105a-e656-45f3-8223-b2dac2a7e851",
   "metadata": {},
   "outputs": [
    {
     "data": {
      "text/plain": [
       "<matplotlib.legend.Legend at 0x22e29ebeb70>"
      ]
     },
     "execution_count": 213,
     "metadata": {},
     "output_type": "execute_result"
    },
    {
     "data": {
      "image/png": "[encoded data removed]",
      "text/plain": [
       "<Figure size 640x480 with 1 Axes>"
      ]
     },
     "metadata": {},
     "output_type": "display_data"
    }
   ],
   "source": [
    "# \"How does Tesla’s stock price trend over time using 7-day and 30-day moving averages?\"\n",
    "df1[\"7_days_ma\"]=df1[\"Close\"].rolling(window=7).mean()\n",
    "df1[\"30_days_ma\"]=df1[\"Close\"].rolling(window=30).mean()\n",
    "plt.plot(df1[\"Close\"])\n",
    "plt.plot(df1[\"7_days_ma\"], label=\"7-Day Moving Average\", color=\"red\")\n",
    "plt.plot(df1[\"30_days_ma\"], label=\"30-Day Moving Average\", color=\"green\")\n",
    "plt.xlabel(\"Date\")\n",
    "plt.ylabel(\"Stock Price ($)\")\n",
    "plt.title(\"Tesla's Stock Price with 7-Day, 30-Day\")\n",
    "plt.savefig(\"moving.png\", dpi=300, bbox_inches='tight')  \n",
    "plt.legend()\n"
   ]
  },
  {
   "cell_type": "code",
   "execution_count": 215,
   "id": "d2f2e502-d7da-479e-bb0f-59e9669f2154",
   "metadata": {},
   "outputs": [
    {
     "data": {
      "application/vnd.plotly.v1+json": {
       "config": {
        "plotlyServerURL": "https://plot.ly"
       },
       "data": [
        {
         "close": [
          236.1399993896484,
          238.1100006103516,
          235.1000061035156,
          230.5700073242188,
          220.0800018310547,
          215.1000061035156,
          214.8600006103516,
          216.8800048828125,
          209.9900054931641,
          212.2599945068359,
          211.3000030517578,
          211.8800048828125,
          189.6999969482422,
          185.5,
          185.6300048828125,
          195.3300018310547,
          187,
          188.5,
          185.0399932861328,
          184.2599945068359,
          177.2100067138672,
          188.1799926757812,
          189,
          190.1799926757812,
          192.1100006103516,
          183.9900054931641,
          185.3000030517578,
          189.1600036621094,
          202.0599975585938,
          196.1300048828125,
          193.3600006103516,
          194,
          195.3099975585938,
          192.2899932861328,
          204.0399932861328,
          200.4199981689453,
          204.1799926757812,
          200.5200042724609,
          198.7299957275391,
          183.0500030517578,
          179.9900054931641,
          174.3500061035156,
          181.5,
          175.4499969482422,
          177.7700042724609,
          173.0500030517578,
          167.7700042724609,
          163.1600036621094,
          170.0200042724609,
          172.3600006103516,
          173,
          176.3899993896484,
          166.6900024414062,
          168.7599945068359,
          178.5800018310547,
          181.4100036621094,
          177.4499969482422,
          176.1699981689453,
          164.75,
          164.0200042724609,
          170.0700073242188,
          169.0800018310547,
          169.3399963378906,
          172.9100036621094,
          173.0399932861328,
          172.5500030517578,
          172.3399963378906,
          170.2400054931641,
          156.7400054931641,
          157.6399993896484,
          151.25,
          148.9700012207031,
          140.5599975585938,
          143.3300018310547,
          162.8399963378906,
          158.9600067138672,
          168.8500061035156,
          188.4199981689453,
          186.9799957275391,
          182,
          182.8600006103516,
          182.1000061035156,
          183.8000030517578,
          182.3999938964844,
          171.5899963378906,
          175.0099945068359,
          173.0500030517578,
          170,
          174.5,
          179.8999938964844,
          174.1000061035156,
          173.5500030517578,
          177.5599975585938,
          175.5099945068359,
          182.8500061035156,
          181.8000030517578,
          174.8399963378906,
          176.3999938964844,
          174.1900024414062,
          178.5800018310547,
          178.5,
          178.1300048828125,
          174.7799987792969,
          175.3500061035156,
          174.6000061035156,
          176.1300048828125,
          176.0599975585938,
          173.9199981689453,
          171.1199951171875,
          188.3899993896484,
          185.8000030517578,
          177.9199981689453,
          186.5599975585938,
          184.6799926757812,
          182.3000030517578,
          184.9700012207031,
          184.3999938964844,
          186.5399932861328,
          195.1699981689453,
          199.5500030517578,
          201.0200042724609,
          218.8899993896484,
          234.5599975585938,
          249.8099975585938,
          247.7100067138672,
          251,
          262.7999877929688,
          263.2999877929688,
          235.8000030517578,
          255.9700012207031,
          255.3099975585938,
          252.7299957275391,
          251.0899963378906,
          247.7899932861328,
          244.2100067138672,
          253.6000061035156,
          225.4199981689453,
          216.8000030517578,
          221.1900024414062,
          224.8999938964844,
          232.25,
          227.8999938964844,
          227.6900024414062,
          214.8800048828125,
          185.2200012207031,
          200.75,
          200.7700042724609,
          195.6999969482422,
          197.0500030517578,
          199.0200042724609,
          198.4700012207031,
          207.3899993896484,
          205.0200042724609,
          211.1499938964844,
          217.0700073242188,
          224.8800048828125,
          222.6699981689453,
          223.8200073242188,
          214.4600067138672,
          218.75,
          213.25,
          209.7200012207031,
          209.8000030517578,
          208.6300048828125,
          215.2599945068359,
          210.5899963378906,
          223.4900054931641,
          232.6000061035156,
          216.1999969482422,
          220.0700073242188,
          224.5500030517578,
          224.6600036621094,
          228,
          229.3000030517578,
          229.4499969482422,
          230.0899963378906,
          234,
          241.5200042724609,
          242.6100006103516,
          254.0800018310547,
          252.5399932861328,
          260.6000061035156,
          257.3800048828125,
          259.0400085449219,
          262.6700134277344,
          247.5500030517578,
          244.4799957275391,
          246.6900024414062,
          249,
          243.5599975585938,
          243.8200073242188,
          241.8099975585938,
          220.1300048828125,
          220.1300048828125,
          220.0099945068359,
          221.3999938964844,
          221.5899963378906,
          220.7100067138672,
          218.8999938964844,
          217.3099975585938,
          217.1300048828125,
          244.6799926757812,
          256.010009765625,
          270,
          264.510009765625,
          258.0400085449219,
          257.989990234375,
          252.0399932861328,
          244.5599975585938,
          247.3399963378906,
          284.6700134277344,
          288.8900146484375,
          299.1400146484375,
          346.2999877929688,
          342.739990234375,
          335.8500061035156,
          327.6900024414062,
          310.5700073242188,
          340.7300109863281,
          335.760009765625,
          345,
          343.8099975585938,
          341.0899963378906,
          360.1400146484375,
          341,
          341.7999877929688,
          336.0799865722656,
          352.3800048828125,
          351.7999877929688,
          353,
          359.8699951171875,
          377.4200134277344,
          397.6099853515625,
          392.6799926757812,
          409.7000122070312,
          424.8399963378906,
          420,
          441.0899963378906,
          475.8999938964844,
          466.5,
          451.8800048828125,
          425.510009765625,
          431,
          435.8999938964844,
          465.1600036621094,
          449.5199890136719,
          419.3999938964844,
          423.7900085449219,
          390.1000061035156
         ],
         "high": [
          241.25,
          238.9600067138672,
          235.5,
          230.9299926757812,
          225.3399963378906,
          223.4900054931641,
          215.6699981689453,
          217.4499969482422,
          213.1900024414062,
          217.8000030517578,
          215.6499938964844,
          212.7299957275391,
          193,
          186.7799987792969,
          191.4799957275391,
          196.3600006103516,
          193.9700012207031,
          189.8800048828125,
          188.6900024414062,
          184.6799926757812,
          186.4900054931641,
          189.7899932861328,
          191.6199951171875,
          194.1199951171875,
          194.7299957275391,
          187.2599945068359,
          188.8899993896484,
          200.8800048828125,
          203.1699981689453,
          198.6000061035156,
          199.4400024414062,
          198.3200073242188,
          197.5700073242188,
          201.7799987792969,
          205.6000061035156,
          205.3000030517578,
          205.2799987792969,
          204.5200042724609,
          199.75,
          184.5899963378906,
          181.5800018310547,
          180.0399932861328,
          182.7299957275391,
          182.8699951171875,
          179.4299926757812,
          176.0500030517578,
          171.1699981689453,
          165.1799926757812,
          174.7200012207031,
          172.8200073242188,
          176.25,
          178.1799926757812,
          171.1999969482422,
          175.2400054931641,
          184.25,
          181.9100036621094,
          179.5700073242188,
          176.75,
          167.6900024414062,
          168.8200073242188,
          177.1900024414062,
          170.8600006103516,
          174.5,
          179.2200012207031,
          174.9299926757812,
          175.8800048828125,
          173.8099975585938,
          170.6900024414062,
          158.1900024414062,
          158.3300018310547,
          152.1999969482422,
          150.9400024414062,
          144.4400024414062,
          147.2599945068359,
          167.9700012207031,
          170.8800048828125,
          172.1199951171875,
          198.8699951171875,
          190.9499969482422,
          185.8600006103516,
          184.6000061035156,
          184.7799987792969,
          187.5599975585938,
          183.2599945068359,
          176.0599975585938,
          175.6199951171875,
          173.0599975585938,
          175.3999938964844,
          179.4900054931641,
          180,
          175.7899932861328,
          179.6300048828125,
          177.75,
          186.8800048828125,
          183.8000030517578,
          181.8999938964844,
          180.0800018310547,
          178.25,
          178.1499938964844,
          182.6699981689453,
          180.3200073242188,
          182.6399993896484,
          177.7599945068359,
          176.1499938964844,
          179.7299957275391,
          179.3500061035156,
          178.5700073242188,
          174.75,
          180.5500030517578,
          191.0800018310547,
          186,
          188.8099975585938,
          187.1999969482422,
          185.2100067138672,
          183.9499969482422,
          188.8000030517578,
          187.9700012207031,
          197.7599945068359,
          198.7200012207031,
          203.1999969482422,
          213.2299957275391,
          231.3000030517578,
          248.3500061035156,
          252.3699951171875,
          259.4400024414062,
          265.6099853515625,
          267.5899963378906,
          271,
          251.8399963378906,
          265.6000061035156,
          258.6199951171875,
          258.4700012207031,
          257.1400146484375,
          249.4400024414062,
          253.2100067138672,
          255.7599945068359,
          225.9900054931641,
          226,
          222.2799987792969,
          234.2700042724609,
          232.4100036621094,
          234.6799926757812,
          231.8699951171875,
          216.1300048828125,
          203.8800048828125,
          202.8999938964844,
          203.4900054931641,
          200.6999969482422,
          200.8800048828125,
          199.2599945068359,
          208.4900054931641,
          208.4400024414062,
          215.8800048828125,
          219.8000030517578,
          222.9799957275391,
          228.2200012207031,
          224.6600036621094,
          224.8000030517578,
          221.4799957275391,
          219.0899963378906,
          215.6600036621094,
          211.8399963378906,
          214.8899993896484,
          214.5700073242188,
          219.8999938964844,
          222.2200012207031,
          235,
          233.6000061035156,
          219.8699951171875,
          226.3999938964844,
          228.4700012207031,
          231.4499969482422,
          232.6699981689453,
          229.9600067138672,
          234.5700073242188,
          235.6799926757812,
          244.2400054931641,
          243.9900054931641,
          250,
          257.1900024414062,
          257.0499877929688,
          261.75,
          260.7000122070312,
          264.8599853515625,
          263.9800109863281,
          251.1600036621094,
          249.7899932861328,
          250.9600067138672,
          249.8300018310547,
          246.2100067138672,
          247.4299926757812,
          242.7899932861328,
          223.3399963378906,
          221.9100036621094,
          224.2599945068359,
          222.8200073242188,
          222.0800018310547,
          222.2799987792969,
          220.4799957275391,
          218.2200012207031,
          218.7200012207031,
          262.1199951171875,
          269.489990234375,
          273.5400085449219,
          264.9800109863281,
          263.3500061035156,
          259.75,
          254,
          248.8999938964844,
          255.2799987792969,
          289.5899963378906,
          299.75,
          328.7099914550781,
          358.6400146484375,
          345.8399963378906,
          344.6000061035156,
          329.9800109863281,
          324.6799926757812,
          348.5499877929688,
          347.3800048828125,
          346.6000061035156,
          347.989990234375,
          361.5299987792969,
          361.9299926757812,
          346.9599914550781,
          342.5499877929688,
          345.4500122070312,
          360,
          355.6900024414062,
          358.1000061035156,
          375.4299926757812,
          389.489990234375,
          404.7999877929688,
          409.7300109863281,
          424.8800048828125,
          429.2999877929688,
          436.2999877929688,
          463.1900024414062,
          483.989990234375,
          488.5400085449219,
          456.3599853515625,
          447.0799865722656,
          434.510009765625,
          462.7799987792969,
          465.3299865722656,
          450,
          427,
          427.9299926757812,
          392.7300109863281
         ],
         "low": [
          235.3000030517578,
          232.0399932861328,
          231.2899932861328,
          225.3699951171875,
          217.1499938964844,
          212.1799926757812,
          212.0099945068359,
          208.7400054931641,
          207.5599975585938,
          206.2700042724609,
          207.75,
          206.7700042724609,
          180.0599975585938,
          182.1000061035156,
          183.6699981689453,
          190.6100006103516,
          185.8500061035156,
          184.2799987792969,
          182,
          175.0099945068359,
          177.1100006103516,
          182.6799926757812,
          185.5800018310547,
          189.4799957275391,
          187.2799987792969,
          182.1100006103516,
          183.3500061035156,
          188.8600006103516,
          197.3999938964844,
          189.1300048828125,
          191.9499969482422,
          191.3600006103516,
          191.5,
          192,
          198.2599945068359,
          198.4400024414062,
          198.4499969482422,
          198.5,
          186.7200012207031,
          177.5700073242188,
          173.6999969482422,
          173.6999969482422,
          174.6999969482422,
          174.8000030517578,
          172.4100036621094,
          169.1499938964844,
          160.5099945068359,
          160.7599945068359,
          165.8999938964844,
          167.4199981689453,
          170.8200073242188,
          171.8000030517578,
          166.3000030517578,
          168.7299957275391,
          177.3800048828125,
          176,
          175.3000030517578,
          170.2100067138672,
          163.4299926757812,
          163.2799987792969,
          168.0099945068359,
          160.5099945068359,
          167.7899932861328,
          171.9199981689453,
          170.0099945068359,
          168.5099945068359,
          170.3600006103516,
          161.3800048828125,
          153.75,
          153.7799987792969,
          148.6999969482422,
          146.2200012207031,
          138.8000030517578,
          141.1100006103516,
          157.5099945068359,
          158.3600006103516,
          166.3699951171875,
          184.5399932861328,
          182.8399963378906,
          179.0099945068359,
          176.0200042724609,
          178.4199981689453,
          182.1999969482422,
          177.3999938964844,
          170.1499938964844,
          171.3699951171875,
          167.75,
          169,
          174.0700073242188,
          173.1100006103516,
          171.4299926757812,
          172.75,
          173.5200042724609,
          174.7100067138672,
          178.1199951171875,
          173.2599945068359,
          173.7299957275391,
          173.1600036621094,
          173.9299926757812,
          175.3800048828125,
          173.8200073242188,
          174.4900054931641,
          174,
          172.1300048828125,
          172.7299957275391,
          175.5800018310547,
          173.1699981689453,
          167.4100036621094,
          169.8000030517578,
          181.2299957275391,
          176.9199981689453,
          177,
          182.3699951171875,
          179.6600036621094,
          180.6900024414062,
          182.5500030517578,
          182.0099945068359,
          186.3600006103516,
          194.0500030517578,
          195.2599945068359,
          200.8500061035156,
          218.0599975585938,
          234.25,
          242.4600067138672,
          244.5700073242188,
          250.3000030517578,
          257.8599853515625,
          239.6499938964844,
          233.0899963378906,
          251.7299957275391,
          245.8000030517578,
          246.1799926757812,
          247.1999969482422,
          236.8300018310547,
          243.75,
          245.6300048828125,
          214.7100067138672,
          216.2299957275391,
          215.3300018310547,
          224.6999969482422,
          220,
          226.7899932861328,
          214.3300018310547,
          205.7799987792969,
          182,
          192.6699981689453,
          191.4799957275391,
          192.0399932861328,
          195.1100006103516,
          194.6699981689453,
          197.0599975585938,
          198.75,
          204.8200073242188,
          210.8000030517578,
          214.0899963378906,
          219.5599975585938,
          218.8600006103516,
          210.3200073242188,
          214.2100067138672,
          211.0099945068359,
          206.9400024414062,
          202.5899963378906,
          205.9700012207031,
          207.0299987792969,
          209.6399993896484,
          210.5700073242188,
          222.25,
          210.5099945068359,
          213.6699981689453,
          218.6399993896484,
          216.8000030517578,
          223.8300018310547,
          226.3200073242188,
          223.5299987792969,
          226.5500030517578,
          226.8800048828125,
          232.1300048828125,
          235.9199981689453,
          241.9199981689453,
          249.0500030517578,
          252.2799987792969,
          251.5299987792969,
          254.1199951171875,
          255.7700042724609,
          248.5299987792969,
          241.5,
          237.8099975585938,
          244.5800018310547,
          240.6999969482422,
          240.5599975585938,
          239.5099945068359,
          232.3399963378906,
          214.3800048828125,
          213.7400054931641,
          217.1199951171875,
          218.9299926757812,
          217.8999938964844,
          219.2299957275391,
          215.7299957275391,
          215.2599945068359,
          212.1100006103516,
          242.6499938964844,
          255.3200073242188,
          262.239990234375,
          255.5099945068359,
          255.8200073242188,
          249.25,
          246.6300048828125,
          238.8800048828125,
          246.2100067138672,
          275.6199951171875,
          285.5199890136719,
          297.6600036621094,
          336,
          323.3099975585938,
          322.5,
          310.3699951171875,
          309.2200012207031,
          330.010009765625,
          332.75,
          334.2999877929688,
          335.2799987792969,
          337.7000122070312,
          338.2000122070312,
          335.6600036621094,
          326.5899963378906,
          334.6499938964844,
          351.1499938964844,
          348.2000122070312,
          348.6000061035156,
          359.5,
          370.7999877929688,
          378.010009765625,
          390.8500061035156,
          402.3800048828125,
          415,
          415.7099914550781,
          436.1499938964844,
          457.510009765625,
          427.010009765625,
          420.0199890136719,
          417.6400146484375,
          415.4100036621094,
          435.1400146484375,
          451.0199890136719,
          426.5,
          415.75,
          402.5400085449219,
          373.0400085449219
         ],
         "open": [
          240.4499969482422,
          234.9600067138672,
          233.9400024414062,
          227.2200012207031,
          218.8899993896484,
          219.9100036621094,
          215.5500030517578,
          211.8800048828125,
          212.1900024414062,
          208.8000030517578,
          209.1399993896484,
          207.8300018310547,
          182.6300048828125,
          183.25,
          190.9299926757812,
          191.5899963378906,
          187.2899932861328,
          188.8600006103516,
          187.9100036621094,
          181.0599975585938,
          185.1000061035156,
          187.5800018310547,
          189.5599975585938,
          193.5700073242188,
          188.1300048828125,
          184.0200042724609,
          188.7100067138672,
          200.4499969482422,
          199.9499969482422,
          193.7599945068359,
          194.7700042724609,
          197.4100036621094,
          191.9700012207031,
          199.3999938964844,
          199.7299957275391,
          202.0399932861328,
          201.8800048828125,
          202.6399993896484,
          188.1399993896484,
          180.7400054931641,
          176.5399932861328,
          178.6499938964844,
          175.3399963378906,
          177.7700042724609,
          177.5399932861328,
          169.4799957275391,
          162.5,
          163.5700073242188,
          173.8000030517578,
          171.3200073242188,
          175.6600036621094,
          172.8200073242188,
          170.8300018310547,
          172.6300048828125,
          177.6699981689453,
          179.8300018310547,
          175.7899932861328,
          175.2200012207031,
          166.6300048828125,
          168.3800048828125,
          171.1100006103516,
          164.8999938964844,
          172.9799957275391,
          176.8800048828125,
          171.7599945068359,
          174.6000061035156,
          171.0500030517578,
          161.4799957275391,
          157.1100006103516,
          155.4499969482422,
          149.9299926757812,
          147.0500030517578,
          142.0500030517578,
          144.6799926757812,
          162.1300048828125,
          170.1799926757812,
          168.2899932861328,
          194.0500030517578,
          183.2799987792969,
          179.9900054931641,
          180.0099945068359,
          181.1900024414062,
          184.7599945068359,
          177.8099975585938,
          174.7200012207031,
          171.9700012207031,
          168.4700012207031,
          171.8899993896484,
          177.5500030517578,
          173.9900054931641,
          174.8399963378906,
          177.4600067138672,
          174.9499969482422,
          186.6000061035156,
          180.1100006103516,
          173.7400054931641,
          179.2400054931641,
          176.75,
          176.1900024414062,
          178.7899932861328,
          178.0800018310547,
          176.2899932861328,
          174.7700042724609,
          175,
          177.9400024414062,
          177.4799957275391,
          173.7899932861328,
          170.6600036621094,
          177.2899932861328,
          182.4700012207031,
          178.0099945068359,
          187.4400024414062,
          184.8600006103516,
          181.5700073242188,
          183.0099945068359,
          182.5800018310547,
          187.3500061035156,
          196.3699951171875,
          197.4199981689453,
          197.8800048828125,
          209.8600006103516,
          231.2599945068359,
          246.3899993896484,
          251.5200042724609,
          252.9400024414062,
          262.3299865722656,
          263.260009765625,
          241.0299987792969,
          248.2299957275391,
          252.6399993896484,
          256.5599975585938,
          248.5,
          249.2299957275391,
          239.1999969482422,
          251.5099945068359,
          246.3800048828125,
          215.9900054931641,
          220.25,
          219.8000030517578,
          232.1000061035156,
          222.6199951171875,
          232.0700073242188,
          216.8600006103516,
          207.6699981689453,
          198.8800048828125,
          200.6399993896484,
          191.7599945068359,
          198.8399963378906,
          200,
          197.4900054931641,
          207.8300018310547,
          201.3800048828125,
          214.1399993896484,
          216.1199951171875,
          222.7200012207031,
          221.1000061035156,
          223.2700042724609,
          210.6600036621094,
          220.3200073242188,
          213.2100067138672,
          209.2100067138672,
          205.75,
          206.2799987792969,
          214.1100006103516,
          210.6000061035156,
          219.4100036621094,
          230.1699981689453,
          210.7299957275391,
          216.2700042724609,
          226.1699981689453,
          228.1300048828125,
          229.8099975585938,
          230.2899932861328,
          226.7799987792969,
          227.8699951171875,
          227.1999969482422,
          243.9199981689453,
          238.25,
          250,
          254.2700042724609,
          257.0199890136719,
          254.2200012207031,
          260.4599914550781,
          261.6300048828125,
          258.0199890136719,
          249.0200042724609,
          240.6600036621094,
          250.0800018310547,
          240.8300018310547,
          244.5,
          241.0500030517578,
          238.7700042724609,
          217.8000030517578,
          219.1600036621094,
          219.5700073242188,
          221.3300018310547,
          220.8899993896484,
          220.6999969482422,
          218.8500061035156,
          217.9700012207031,
          213.6499938964844,
          260.4800109863281,
          269.1900024414062,
          262.510009765625,
          259.5199890136719,
          257.5499877929688,
          249.8500061035156,
          248.9799957275391,
          242.8399963378906,
          251.4400024414062,
          288.5299987792969,
          296.9100036621094,
          321.2200012207031,
          350,
          328.489990234375,
          330.239990234375,
          311.1799926757812,
          320.7200012207031,
          338.739990234375,
          346,
          342.0299987792969,
          339.6400146484375,
          352.5599975585938,
          338.5899963378906,
          338.2300109863281,
          332.8900146484375,
          345.1600036621094,
          357.0899963378906,
          351.4200134277344,
          357.9299926757812,
          369.489990234375,
          389.2200012207031,
          389.7900085449219,
          400.989990234375,
          424.7699890136719,
          418.1000061035156,
          436.2300109863281,
          463.0199890136719,
          479.8599853515625,
          440.1300048828125,
          436.1700134277344,
          421.0599975585938,
          430.6000061035156,
          462.2799987792969,
          454.1300048828125,
          431.6600036621094,
          417.4100036621094,
          403.8399963378906,
          379.2799987792969
         ],
         "type": "candlestick",
         "x": [
          "2024-01-08T00:00:00",
          "2024-01-09T00:00:00",
          "2024-01-10T00:00:00",
          "2024-01-11T00:00:00",
          "2024-01-12T00:00:00",
          "2024-01-16T00:00:00",
          "2024-01-17T00:00:00",
          "2024-01-18T00:00:00",
          "2024-01-19T00:00:00",
          "2024-01-22T00:00:00",
          "2024-01-23T00:00:00",
          "2024-01-24T00:00:00",
          "2024-01-25T00:00:00",
          "2024-01-26T00:00:00",
          "2024-01-29T00:00:00",
          "2024-01-30T00:00:00",
          "2024-01-31T00:00:00",
          "2024-02-01T00:00:00",
          "2024-02-02T00:00:00",
          "2024-02-05T00:00:00",
          "2024-02-06T00:00:00",
          "2024-02-07T00:00:00",
          "2024-02-08T00:00:00",
          "2024-02-09T00:00:00",
          "2024-02-12T00:00:00",
          "2024-02-13T00:00:00",
          "2024-02-14T00:00:00",
          "2024-02-15T00:00:00",
          "2024-02-16T00:00:00",
          "2024-02-20T00:00:00",
          "2024-02-21T00:00:00",
          "2024-02-22T00:00:00",
          "2024-02-23T00:00:00",
          "2024-02-26T00:00:00",
          "2024-02-27T00:00:00",
          "2024-02-28T00:00:00",
          "2024-02-29T00:00:00",
          "2024-03-01T00:00:00",
          "2024-03-04T00:00:00",
          "2024-03-05T00:00:00",
          "2024-03-06T00:00:00",
          "2024-03-07T00:00:00",
          "2024-03-08T00:00:00",
          "2024-03-11T00:00:00",
          "2024-03-12T00:00:00",
          "2024-03-13T00:00:00",
          "2024-03-14T00:00:00",
          "2024-03-15T00:00:00",
          "2024-03-18T00:00:00",
          "2024-03-19T00:00:00",
          "2024-03-20T00:00:00",
          "2024-03-21T00:00:00",
          "2024-03-22T00:00:00",
          "2024-03-25T00:00:00",
          "2024-03-26T00:00:00",
          "2024-03-27T00:00:00",
          "2024-03-28T00:00:00",
          "2024-04-01T00:00:00",
          "2024-04-02T00:00:00",
          "2024-04-03T00:00:00",
          "2024-04-04T00:00:00",
          "2024-04-05T00:00:00",
          "2024-04-08T00:00:00",
          "2024-04-09T00:00:00",
          "2024-04-10T00:00:00",
          "2024-04-11T00:00:00",
          "2024-04-12T00:00:00",
          "2024-04-15T00:00:00",
          "2024-04-16T00:00:00",
          "2024-04-17T00:00:00",
          "2024-04-18T00:00:00",
          "2024-04-19T00:00:00",
          "2024-04-22T00:00:00",
          "2024-04-23T00:00:00",
          "2024-04-24T00:00:00",
          "2024-04-25T00:00:00",
          "2024-04-26T00:00:00",
          "2024-04-29T00:00:00",
          "2024-04-30T00:00:00",
          "2024-05-01T00:00:00",
          "2024-05-02T00:00:00",
          "2024-05-03T00:00:00",
          "2024-05-06T00:00:00",
          "2024-05-07T00:00:00",
          "2024-05-08T00:00:00",
          "2024-05-09T00:00:00",
          "2024-05-10T00:00:00",
          "2024-05-13T00:00:00",
          "2024-05-14T00:00:00",
          "2024-05-15T00:00:00",
          "2024-05-16T00:00:00",
          "2024-05-17T00:00:00",
          "2024-05-20T00:00:00",
          "2024-05-21T00:00:00",
          "2024-05-22T00:00:00",
          "2024-05-23T00:00:00",
          "2024-05-24T00:00:00",
          "2024-05-28T00:00:00",
          "2024-05-29T00:00:00",
          "2024-05-30T00:00:00",
          "2024-05-31T00:00:00",
          "2024-06-03T00:00:00",
          "2024-06-04T00:00:00",
          "2024-06-05T00:00:00",
          "2024-06-06T00:00:00",
          "2024-06-07T00:00:00",
          "2024-06-10T00:00:00",
          "2024-06-11T00:00:00",
          "2024-06-12T00:00:00",
          "2024-06-13T00:00:00",
          "2024-06-14T00:00:00",
          "2024-06-17T00:00:00",
          "2024-06-18T00:00:00",
          "2024-06-20T00:00:00",
          "2024-06-21T00:00:00",
          "2024-06-24T00:00:00",
          "2024-06-25T00:00:00",
          "2024-06-26T00:00:00",
          "2024-06-27T00:00:00",
          "2024-06-28T00:00:00",
          "2024-07-01T00:00:00",
          "2024-07-02T00:00:00",
          "2024-07-03T00:00:00",
          "2024-07-05T00:00:00",
          "2024-07-08T00:00:00",
          "2024-07-09T00:00:00",
          "2024-07-10T00:00:00",
          "2024-07-11T00:00:00",
          "2024-07-12T00:00:00",
          "2024-07-15T00:00:00",
          "2024-07-16T00:00:00",
          "2024-07-17T00:00:00",
          "2024-07-18T00:00:00",
          "2024-07-19T00:00:00",
          "2024-07-22T00:00:00",
          "2024-07-23T00:00:00",
          "2024-07-24T00:00:00",
          "2024-07-25T00:00:00",
          "2024-07-26T00:00:00",
          "2024-07-29T00:00:00",
          "2024-07-30T00:00:00",
          "2024-07-31T00:00:00",
          "2024-08-01T00:00:00",
          "2024-08-02T00:00:00",
          "2024-08-05T00:00:00",
          "2024-08-06T00:00:00",
          "2024-08-07T00:00:00",
          "2024-08-08T00:00:00",
          "2024-08-09T00:00:00",
          "2024-08-12T00:00:00",
          "2024-08-13T00:00:00",
          "2024-08-14T00:00:00",
          "2024-08-15T00:00:00",
          "2024-08-16T00:00:00",
          "2024-08-19T00:00:00",
          "2024-08-20T00:00:00",
          "2024-08-21T00:00:00",
          "2024-08-22T00:00:00",
          "2024-08-23T00:00:00",
          "2024-08-26T00:00:00",
          "2024-08-27T00:00:00",
          "2024-08-28T00:00:00",
          "2024-08-29T00:00:00",
          "2024-08-30T00:00:00",
          "2024-09-03T00:00:00",
          "2024-09-04T00:00:00",
          "2024-09-05T00:00:00",
          "2024-09-06T00:00:00",
          "2024-09-09T00:00:00",
          "2024-09-10T00:00:00",
          "2024-09-11T00:00:00",
          "2024-09-12T00:00:00",
          "2024-09-13T00:00:00",
          "2024-09-16T00:00:00",
          "2024-09-17T00:00:00",
          "2024-09-18T00:00:00",
          "2024-09-19T00:00:00",
          "2024-09-20T00:00:00",
          "2024-09-23T00:00:00",
          "2024-09-24T00:00:00",
          "2024-09-25T00:00:00",
          "2024-09-26T00:00:00",
          "2024-09-27T00:00:00",
          "2024-09-30T00:00:00",
          "2024-10-01T00:00:00",
          "2024-10-02T00:00:00",
          "2024-10-03T00:00:00",
          "2024-10-04T00:00:00",
          "2024-10-07T00:00:00",
          "2024-10-08T00:00:00",
          "2024-10-09T00:00:00",
          "2024-10-10T00:00:00",
          "2024-10-11T00:00:00",
          "2024-10-14T00:00:00",
          "2024-10-15T00:00:00",
          "2024-10-16T00:00:00",
          "2024-10-17T00:00:00",
          "2024-10-18T00:00:00",
          "2024-10-21T00:00:00",
          "2024-10-22T00:00:00",
          "2024-10-23T00:00:00",
          "2024-10-24T00:00:00",
          "2024-10-25T00:00:00",
          "2024-10-28T00:00:00",
          "2024-10-29T00:00:00",
          "2024-10-30T00:00:00",
          "2024-10-31T00:00:00",
          "2024-11-01T00:00:00",
          "2024-11-04T00:00:00",
          "2024-11-05T00:00:00",
          "2024-11-06T00:00:00",
          "2024-11-07T00:00:00",
          "2024-11-08T00:00:00",
          "2024-11-11T00:00:00",
          "2024-11-12T00:00:00",
          "2024-11-13T00:00:00",
          "2024-11-14T00:00:00",
          "2024-11-15T00:00:00",
          "2024-11-18T00:00:00",
          "2024-11-19T00:00:00",
          "2024-11-20T00:00:00",
          "2024-11-21T00:00:00",
          "2024-11-22T00:00:00",
          "2024-11-25T00:00:00",
          "2024-11-26T00:00:00",
          "2024-11-27T00:00:00",
          "2024-11-29T00:00:00",
          "2024-12-02T00:00:00",
          "2024-12-03T00:00:00",
          "2024-12-04T00:00:00",
          "2024-12-05T00:00:00",
          "2024-12-06T00:00:00",
          "2024-12-09T00:00:00",
          "2024-12-10T00:00:00",
          "2024-12-11T00:00:00",
          "2024-12-12T00:00:00",
          "2024-12-13T00:00:00",
          "2024-12-16T00:00:00",
          "2024-12-17T00:00:00",
          "2024-12-18T00:00:00",
          "2024-12-19T00:00:00",
          "2024-12-20T00:00:00",
          "2024-12-23T00:00:00",
          "2024-12-24T00:00:00",
          "2024-12-26T00:00:00",
          "2024-12-27T00:00:00",
          "2024-12-30T00:00:00",
          "2024-12-31T00:00:00",
          "2025-01-02T00:00:00"
         ]
        }
       ],
       "layout": {
        "height": 600,
        "template": {
         "data": {
          "bar": [
           {
            "error_x": {
             "color": "#f2f5fa"
            },
            "error_y": {
             "color": "#f2f5fa"
            },
            "marker": {
             "line": {
              "color": "rgb(17,17,17)",
              "width": 0.5
             },
             "pattern": {
              "fillmode": "overlay",
              "size": 10,
              "solidity": 0.2
             }
            },
            "type": "bar"
           }
          ],
          "barpolar": [
           {
            "marker": {
             "line": {
              "color": "rgb(17,17,17)",
              "width": 0.5
             },
             "pattern": {
              "fillmode": "overlay",
              "size": 10,
              "solidity": 0.2
             }
            },
            "type": "barpolar"
           }
          ],
          "carpet": [
           {
            "aaxis": {
             "endlinecolor": "#A2B1C6",
             "gridcolor": "#506784",
             "linecolor": "#506784",
             "minorgridcolor": "#506784",
             "startlinecolor": "#A2B1C6"
            },
            "baxis": {
             "endlinecolor": "#A2B1C6",
             "gridcolor": "#506784",
             "linecolor": "#506784",
             "minorgridcolor": "#506784",
             "startlinecolor": "#A2B1C6"
            },
            "type": "carpet"
           }
          ],
          "choropleth": [
           {
            "colorbar": {
             "outlinewidth": 0,
             "ticks": ""
            },
            "type": "choropleth"
           }
          ],
          "contour": [
           {
            "colorbar": {
             "outlinewidth": 0,
             "ticks": ""
            },
            "colorscale": [
             [
              0,
              "#0d0887"
             ],
             [
              0.1111111111111111,
              "#46039f"
             ],
             [
              0.2222222222222222,
              "#7201a8"
             ],
             [
              0.3333333333333333,
              "#9c179e"
             ],
             [
              0.4444444444444444,
              "#bd3786"
             ],
             [
              0.5555555555555556,
              "#d8576b"
             ],
             [
              0.6666666666666666,
              "#ed7953"
             ],
             [
              0.7777777777777778,
              "#fb9f3a"
             ],
             [
              0.8888888888888888,
              "#fdca26"
             ],
             [
              1,
              "#f0f921"
             ]
            ],
            "type": "contour"
           }
          ],
          "contourcarpet": [
           {
            "colorbar": {
             "outlinewidth": 0,
             "ticks": ""
            },
            "type": "contourcarpet"
           }
          ],
          "heatmap": [
           {
            "colorbar": {
             "outlinewidth": 0,
             "ticks": ""
            },
            "colorscale": [
             [
              0,
              "#0d0887"
             ],
             [
              0.1111111111111111,
              "#46039f"
             ],
             [
              0.2222222222222222,
              "#7201a8"
             ],
             [
              0.3333333333333333,
              "#9c179e"
             ],
             [
              0.4444444444444444,
              "#bd3786"
             ],
             [
              0.5555555555555556,
              "#d8576b"
             ],
             [
              0.6666666666666666,
              "#ed7953"
             ],
             [
              0.7777777777777778,
              "#fb9f3a"
             ],
             [
              0.8888888888888888,
              "#fdca26"
             ],
             [
              1,
              "#f0f921"
             ]
            ],
            "type": "heatmap"
           }
          ],
          "heatmapgl": [
           {
            "colorbar": {
             "outlinewidth": 0,
             "ticks": ""
            },
            "colorscale": [
             [
              0,
              "#0d0887"
             ],
             [
              0.1111111111111111,
              "#46039f"
             ],
             [
              0.2222222222222222,
              "#7201a8"
             ],
             [
              0.3333333333333333,
              "#9c179e"
             ],
             [
              0.4444444444444444,
              "#bd3786"
             ],
             [
              0.5555555555555556,
              "#d8576b"
             ],
             [
              0.6666666666666666,
              "#ed7953"
             ],
             [
              0.7777777777777778,
              "#fb9f3a"
             ],
             [
              0.8888888888888888,
              "#fdca26"
             ],
             [
              1,
              "#f0f921"
             ]
            ],
            "type": "heatmapgl"
           }
          ],
          "histogram": [
           {
            "marker": {
             "pattern": {
              "fillmode": "overlay",
              "size": 10,
              "solidity": 0.2
             }
            },
            "type": "histogram"
           }
          ],
          "histogram2d": [
           {
            "colorbar": {
             "outlinewidth": 0,
             "ticks": ""
            },
            "colorscale": [
             [
              0,
              "#0d0887"
             ],
             [
              0.1111111111111111,
              "#46039f"
             ],
             [
              0.2222222222222222,
              "#7201a8"
             ],
             [
              0.3333333333333333,
              "#9c179e"
             ],
             [
              0.4444444444444444,
              "#bd3786"
             ],
             [
              0.5555555555555556,
              "#d8576b"
             ],
             [
              0.6666666666666666,
              "#ed7953"
             ],
             [
              0.7777777777777778,
              "#fb9f3a"
             ],
             [
              0.8888888888888888,
              "#fdca26"
             ],
             [
              1,
              "#f0f921"
             ]
            ],
            "type": "histogram2d"
           }
          ],
          "histogram2dcontour": [
           {
            "colorbar": {
             "outlinewidth": 0,
             "ticks": ""
            },
            "colorscale": [
             [
              0,
              "#0d0887"
             ],
             [
              0.1111111111111111,
              "#46039f"
             ],
             [
              0.2222222222222222,
              "#7201a8"
             ],
             [
              0.3333333333333333,
              "#9c179e"
             ],
             [
              0.4444444444444444,
              "#bd3786"
             ],
             [
              0.5555555555555556,
              "#d8576b"
             ],
             [
              0.6666666666666666,
              "#ed7953"
             ],
             [
              0.7777777777777778,
              "#fb9f3a"
             ],
             [
              0.8888888888888888,
              "#fdca26"
             ],
             [
              1,
              "#f0f921"
             ]
            ],
            "type": "histogram2dcontour"
           }
          ],
          "mesh3d": [
           {
            "colorbar": {
             "outlinewidth": 0,
             "ticks": ""
            },
            "type": "mesh3d"
           }
          ],
          "parcoords": [
           {
            "line": {
             "colorbar": {
              "outlinewidth": 0,
              "ticks": ""
             }
            },
            "type": "parcoords"
           }
          ],
          "pie": [
           {
            "automargin": true,
            "type": "pie"
           }
          ],
          "scatter": [
           {
            "marker": {
             "line": {
              "color": "#283442"
             }
            },
            "type": "scatter"
           }
          ],
          "scatter3d": [
           {
            "line": {
             "colorbar": {
              "outlinewidth": 0,
              "ticks": ""
             }
            },
            "marker": {
             "colorbar": {
              "outlinewidth": 0,
              "ticks": ""
             }
            },
            "type": "scatter3d"
           }
          ],
          "scattercarpet": [
           {
            "marker": {
             "colorbar": {
              "outlinewidth": 0,
              "ticks": ""
             }
            },
            "type": "scattercarpet"
           }
          ],
          "scattergeo": [
           {
            "marker": {
             "colorbar": {
              "outlinewidth": 0,
              "ticks": ""
             }
            },
            "type": "scattergeo"
           }
          ],
          "scattergl": [
           {
            "marker": {
             "line": {
              "color": "#283442"
             }
            },
            "type": "scattergl"
           }
          ],
          "scattermapbox": [
           {
            "marker": {
             "colorbar": {
              "outlinewidth": 0,
              "ticks": ""
             }
            },
            "type": "scattermapbox"
           }
          ],
          "scatterpolar": [
           {
            "marker": {
             "colorbar": {
              "outlinewidth": 0,
              "ticks": ""
             }
            },
            "type": "scatterpolar"
           }
          ],
          "scatterpolargl": [
           {
            "marker": {
             "colorbar": {
              "outlinewidth": 0,
              "ticks": ""
             }
            },
            "type": "scatterpolargl"
           }
          ],
          "scatterternary": [
           {
            "marker": {
             "colorbar": {
              "outlinewidth": 0,
              "ticks": ""
             }
            },
            "type": "scatterternary"
           }
          ],
          "surface": [
           {
            "colorbar": {
             "outlinewidth": 0,
             "ticks": ""
            },
            "colorscale": [
             [
              0,
              "#0d0887"
             ],
             [
              0.1111111111111111,
              "#46039f"
             ],
             [
              0.2222222222222222,
              "#7201a8"
             ],
             [
              0.3333333333333333,
              "#9c179e"
             ],
             [
              0.4444444444444444,
              "#bd3786"
             ],
             [
              0.5555555555555556,
              "#d8576b"
             ],
             [
              0.6666666666666666,
              "#ed7953"
             ],
             [
              0.7777777777777778,
              "#fb9f3a"
             ],
             [
              0.8888888888888888,
              "#fdca26"
             ],
             [
              1,
              "#f0f921"
             ]
            ],
            "type": "surface"
           }
          ],
          "table": [
           {
            "cells": {
             "fill": {
              "color": "#506784"
             },
             "line": {
              "color": "rgb(17,17,17)"
             }
            },
            "header": {
             "fill": {
              "color": "#2a3f5f"
             },
             "line": {
              "color": "rgb(17,17,17)"
             }
            },
            "type": "table"
           }
          ]
         },
         "layout": {
          "annotationdefaults": {
           "arrowcolor": "#f2f5fa",
           "arrowhead": 0,
           "arrowwidth": 1
          },
          "autotypenumbers": "strict",
          "coloraxis": {
           "colorbar": {
            "outlinewidth": 0,
            "ticks": ""
           }
          },
          "colorscale": {
           "diverging": [
            [
             0,
             "#8e0152"
            ],
            [
             0.1,
             "#c51b7d"
            ],
            [
             0.2,
             "#de77ae"
            ],
            [
             0.3,
             "#f1b6da"
            ],
            [
             0.4,
             "#fde0ef"
            ],
            [
             0.5,
             "#f7f7f7"
            ],
            [
             0.6,
             "#e6f5d0"
            ],
            [
             0.7,
             "#b8e186"
            ],
            [
             0.8,
             "#7fbc41"
            ],
            [
             0.9,
             "#4d9221"
            ],
            [
             1,
             "#276419"
            ]
           ],
           "sequential": [
            [
             0,
             "#0d0887"
            ],
            [
             0.1111111111111111,
             "#46039f"
            ],
            [
             0.2222222222222222,
             "#7201a8"
            ],
            [
             0.3333333333333333,
             "#9c179e"
            ],
            [
             0.4444444444444444,
             "#bd3786"
            ],
            [
             0.5555555555555556,
             "#d8576b"
            ],
            [
             0.6666666666666666,
             "#ed7953"
            ],
            [
             0.7777777777777778,
             "#fb9f3a"
            ],
            [
             0.8888888888888888,
             "#fdca26"
            ],
            [
             1,
             "#f0f921"
            ]
           ],
           "sequentialminus": [
            [
             0,
             "#0d0887"
            ],
            [
             0.1111111111111111,
             "#46039f"
            ],
            [
             0.2222222222222222,
             "#7201a8"
            ],
            [
             0.3333333333333333,
             "#9c179e"
            ],
            [
             0.4444444444444444,
             "#bd3786"
            ],
            [
             0.5555555555555556,
             "#d8576b"
            ],
            [
             0.6666666666666666,
             "#ed7953"
            ],
            [
             0.7777777777777778,
             "#fb9f3a"
            ],
            [
             0.8888888888888888,
             "#fdca26"
            ],
            [
             1,
             "#f0f921"
            ]
           ]
          },
          "colorway": [
           "#636efa",
           "#EF553B",
           "#00cc96",
           "#ab63fa",
           "#FFA15A",
           "#19d3f3",
           "#FF6692",
           "#B6E880",
           "#FF97FF",
           "#FECB52"
          ],
          "font": {
           "color": "#f2f5fa"
          },
          "geo": {
           "bgcolor": "rgb(17,17,17)",
           "lakecolor": "rgb(17,17,17)",
           "landcolor": "rgb(17,17,17)",
           "showlakes": true,
           "showland": true,
           "subunitcolor": "#506784"
          },
          "hoverlabel": {
           "align": "left"
          },
          "hovermode": "closest",
          "mapbox": {
           "style": "dark"
          },
          "paper_bgcolor": "rgb(17,17,17)",
          "plot_bgcolor": "rgb(17,17,17)",
          "polar": {
           "angularaxis": {
            "gridcolor": "#506784",
            "linecolor": "#506784",
            "ticks": ""
           },
           "bgcolor": "rgb(17,17,17)",
           "radialaxis": {
            "gridcolor": "#506784",
            "linecolor": "#506784",
            "ticks": ""
           }
          },
          "scene": {
           "xaxis": {
            "backgroundcolor": "rgb(17,17,17)",
            "gridcolor": "#506784",
            "gridwidth": 2,
            "linecolor": "#506784",
            "showbackground": true,
            "ticks": "",
            "zerolinecolor": "#C8D4E3"
           },
           "yaxis": {
            "backgroundcolor": "rgb(17,17,17)",
            "gridcolor": "#506784",
            "gridwidth": 2,
            "linecolor": "#506784",
            "showbackground": true,
            "ticks": "",
            "zerolinecolor": "#C8D4E3"
           },
           "zaxis": {
            "backgroundcolor": "rgb(17,17,17)",
            "gridcolor": "#506784",
            "gridwidth": 2,
            "linecolor": "#506784",
            "showbackground": true,
            "ticks": "",
            "zerolinecolor": "#C8D4E3"
           }
          },
          "shapedefaults": {
           "line": {
            "color": "#f2f5fa"
           }
          },
          "sliderdefaults": {
           "bgcolor": "#C8D4E3",
           "bordercolor": "rgb(17,17,17)",
           "borderwidth": 1,
           "tickwidth": 0
          },
          "ternary": {
           "aaxis": {
            "gridcolor": "#506784",
            "linecolor": "#506784",
            "ticks": ""
           },
           "baxis": {
            "gridcolor": "#506784",
            "linecolor": "#506784",
            "ticks": ""
           },
           "bgcolor": "rgb(17,17,17)",
           "caxis": {
            "gridcolor": "#506784",
            "linecolor": "#506784",
            "ticks": ""
           }
          },
          "title": {
           "x": 0.05
          },
          "updatemenudefaults": {
           "bgcolor": "#506784",
           "borderwidth": 0
          },
          "xaxis": {
           "automargin": true,
           "gridcolor": "#283442",
           "linecolor": "#506784",
           "ticks": "",
           "title": {
            "standoff": 15
           },
           "zerolinecolor": "#283442",
           "zerolinewidth": 2
          },
          "yaxis": {
           "automargin": true,
           "gridcolor": "#283442",
           "linecolor": "#506784",
           "ticks": "",
           "title": {
            "standoff": 15
           },
           "zerolinecolor": "#283442",
           "zerolinewidth": 2
          }
         }
        },
        "title": {
         "text": "Tesla Stock Candlestick Chart"
        },
        "width": 1000,
        "xaxis": {
         "autorange": true,
         "range": [
          "2024-01-07 12:00",
          "2025-01-02 12:00"
         ],
         "rangeslider": {
          "visible": false,
          "yaxis": {}
         },
         "title": {
          "text": "Date"
         },
         "type": "date"
        },
        "yaxis": {
         "autorange": true,
         "range": [
          119.37000274658203,
          507.97000885009766
         ],
         "title": {
          "text": "Stock Price"
         }
        }
       }
      },
      "image/png": "[encoded data removed]",
      "text/html": [
       "<div>                            <div id=\"3c775d5b-6c55-446a-aaa0-75057620ebc1\" class=\"plotly-graph-div\" style=\"height:600px; width:1000px;\"></div>            <script type=\"text/javascript\">                require([\"plotly\"], function(Plotly) {                    window.PLOTLYENV=window.PLOTLYENV || {};                                    if (document.getElementById(\"3c775d5b-6c55-446a-aaa0-75057620ebc1\")) {                    Plotly.newPlot(                        \"3c775d5b-6c55-446a-aaa0-75057620ebc1\",                        [{\"close\":[236.1399993896484,238.1100006103516,235.1000061035156,230.5700073242188,220.0800018310547,215.1000061035156,214.8600006103516,216.8800048828125,209.9900054931641,212.2599945068359,211.3000030517578,211.8800048828125,189.6999969482422,185.5,185.6300048828125,195.3300018310547,187.0,188.5,185.0399932861328,184.2599945068359,177.2100067138672,188.1799926757812,189.0,190.1799926757812,192.1100006103516,183.9900054931641,185.3000030517578,189.1600036621094,202.0599975585938,196.1300048828125,193.3600006103516,194.0,195.3099975585938,192.2899932861328,204.0399932861328,200.4199981689453,204.1799926757812,200.5200042724609,198.7299957275391,183.0500030517578,179.9900054931641,174.3500061035156,181.5,175.4499969482422,177.7700042724609,173.0500030517578,167.7700042724609,163.1600036621094,170.0200042724609,172.3600006103516,173.0,176.3899993896484,166.6900024414062,168.7599945068359,178.5800018310547,181.4100036621094,177.4499969482422,176.1699981689453,164.75,164.0200042724609,170.0700073242188,169.0800018310547,169.3399963378906,172.9100036621094,173.0399932861328,172.5500030517578,172.3399963378906,170.2400054931641,156.7400054931641,157.6399993896484,151.25,148.9700012207031,140.5599975585938,143.3300018310547,162.8399963378906,158.9600067138672,168.8500061035156,188.4199981689453,186.9799957275391,182.0,182.8600006103516,182.1000061035156,183.8000030517578,182.3999938964844,171.5899963378906,175.0099945068359,173.0500030517578,170.0,174.5,179.8999938964844,174.1000061035156,173.5500030517578,177.5599975585938,175.5099945068359,182.8500061035156,181.8000030517578,174.8399963378906,176.3999938964844,174.1900024414062,178.5800018310547,178.5,178.1300048828125,174.7799987792969,175.3500061035156,174.6000061035156,176.1300048828125,176.0599975585938,173.9199981689453,171.1199951171875,188.3899993896484,185.8000030517578,177.9199981689453,186.5599975585938,184.6799926757812,182.3000030517578,184.9700012207031,184.3999938964844,186.5399932861328,195.1699981689453,199.5500030517578,201.0200042724609,218.8899993896484,234.5599975585938,249.8099975585938,247.7100067138672,251.0,262.7999877929688,263.2999877929688,235.8000030517578,255.9700012207031,255.3099975585938,252.7299957275391,251.0899963378906,247.7899932861328,244.2100067138672,253.6000061035156,225.4199981689453,216.8000030517578,221.1900024414062,224.8999938964844,232.25,227.8999938964844,227.6900024414062,214.8800048828125,185.2200012207031,200.75,200.7700042724609,195.6999969482422,197.0500030517578,199.0200042724609,198.4700012207031,207.3899993896484,205.0200042724609,211.1499938964844,217.0700073242188,224.8800048828125,222.6699981689453,223.8200073242188,214.4600067138672,218.75,213.25,209.7200012207031,209.8000030517578,208.6300048828125,215.2599945068359,210.5899963378906,223.4900054931641,232.6000061035156,216.1999969482422,220.0700073242188,224.5500030517578,224.6600036621094,228.0,229.3000030517578,229.4499969482422,230.0899963378906,234.0,241.5200042724609,242.6100006103516,254.0800018310547,252.5399932861328,260.6000061035156,257.3800048828125,259.0400085449219,262.6700134277344,247.5500030517578,244.4799957275391,246.6900024414062,249.0,243.5599975585938,243.8200073242188,241.8099975585938,220.1300048828125,220.1300048828125,220.0099945068359,221.3999938964844,221.5899963378906,220.7100067138672,218.8999938964844,217.3099975585938,217.1300048828125,244.6799926757812,256.010009765625,270.0,264.510009765625,258.0400085449219,257.989990234375,252.0399932861328,244.5599975585938,247.3399963378906,284.6700134277344,288.8900146484375,299.1400146484375,346.2999877929688,342.739990234375,335.8500061035156,327.6900024414062,310.5700073242188,340.7300109863281,335.760009765625,345.0,343.8099975585938,341.0899963378906,360.1400146484375,341.0,341.7999877929688,336.0799865722656,352.3800048828125,351.7999877929688,353.0,359.8699951171875,377.4200134277344,397.6099853515625,392.6799926757812,409.7000122070312,424.8399963378906,420.0,441.0899963378906,475.8999938964844,466.5,451.8800048828125,425.510009765625,431.0,435.8999938964844,465.1600036621094,449.5199890136719,419.3999938964844,423.7900085449219,390.1000061035156],\"high\":[241.25,238.9600067138672,235.5,230.9299926757812,225.3399963378906,223.4900054931641,215.6699981689453,217.4499969482422,213.1900024414062,217.8000030517578,215.6499938964844,212.7299957275391,193.0,186.7799987792969,191.4799957275391,196.3600006103516,193.9700012207031,189.8800048828125,188.6900024414062,184.6799926757812,186.4900054931641,189.7899932861328,191.6199951171875,194.1199951171875,194.7299957275391,187.2599945068359,188.8899993896484,200.8800048828125,203.1699981689453,198.6000061035156,199.4400024414062,198.3200073242188,197.5700073242188,201.7799987792969,205.6000061035156,205.3000030517578,205.2799987792969,204.5200042724609,199.75,184.5899963378906,181.5800018310547,180.0399932861328,182.7299957275391,182.8699951171875,179.4299926757812,176.0500030517578,171.1699981689453,165.1799926757812,174.7200012207031,172.8200073242188,176.25,178.1799926757812,171.1999969482422,175.2400054931641,184.25,181.9100036621094,179.5700073242188,176.75,167.6900024414062,168.8200073242188,177.1900024414062,170.8600006103516,174.5,179.2200012207031,174.9299926757812,175.8800048828125,173.8099975585938,170.6900024414062,158.1900024414062,158.3300018310547,152.1999969482422,150.9400024414062,144.4400024414062,147.2599945068359,167.9700012207031,170.8800048828125,172.1199951171875,198.8699951171875,190.9499969482422,185.8600006103516,184.6000061035156,184.7799987792969,187.5599975585938,183.2599945068359,176.0599975585938,175.6199951171875,173.0599975585938,175.3999938964844,179.4900054931641,180.0,175.7899932861328,179.6300048828125,177.75,186.8800048828125,183.8000030517578,181.8999938964844,180.0800018310547,178.25,178.1499938964844,182.6699981689453,180.3200073242188,182.6399993896484,177.7599945068359,176.1499938964844,179.7299957275391,179.3500061035156,178.5700073242188,174.75,180.5500030517578,191.0800018310547,186.0,188.8099975585938,187.1999969482422,185.2100067138672,183.9499969482422,188.8000030517578,187.9700012207031,197.7599945068359,198.7200012207031,203.1999969482422,213.2299957275391,231.3000030517578,248.3500061035156,252.3699951171875,259.4400024414062,265.6099853515625,267.5899963378906,271.0,251.8399963378906,265.6000061035156,258.6199951171875,258.4700012207031,257.1400146484375,249.4400024414062,253.2100067138672,255.7599945068359,225.9900054931641,226.0,222.2799987792969,234.2700042724609,232.4100036621094,234.6799926757812,231.8699951171875,216.1300048828125,203.8800048828125,202.8999938964844,203.4900054931641,200.6999969482422,200.8800048828125,199.2599945068359,208.4900054931641,208.4400024414062,215.8800048828125,219.8000030517578,222.9799957275391,228.2200012207031,224.6600036621094,224.8000030517578,221.4799957275391,219.0899963378906,215.6600036621094,211.8399963378906,214.8899993896484,214.5700073242188,219.8999938964844,222.2200012207031,235.0,233.6000061035156,219.8699951171875,226.3999938964844,228.4700012207031,231.4499969482422,232.6699981689453,229.9600067138672,234.5700073242188,235.6799926757812,244.2400054931641,243.9900054931641,250.0,257.1900024414062,257.0499877929688,261.75,260.7000122070312,264.8599853515625,263.9800109863281,251.1600036621094,249.7899932861328,250.9600067138672,249.8300018310547,246.2100067138672,247.4299926757812,242.7899932861328,223.3399963378906,221.9100036621094,224.2599945068359,222.8200073242188,222.0800018310547,222.2799987792969,220.4799957275391,218.2200012207031,218.7200012207031,262.1199951171875,269.489990234375,273.5400085449219,264.9800109863281,263.3500061035156,259.75,254.0,248.8999938964844,255.2799987792969,289.5899963378906,299.75,328.7099914550781,358.6400146484375,345.8399963378906,344.6000061035156,329.9800109863281,324.6799926757812,348.5499877929688,347.3800048828125,346.6000061035156,347.989990234375,361.5299987792969,361.9299926757812,346.9599914550781,342.5499877929688,345.4500122070312,360.0,355.6900024414062,358.1000061035156,375.4299926757812,389.489990234375,404.7999877929688,409.7300109863281,424.8800048828125,429.2999877929688,436.2999877929688,463.1900024414062,483.989990234375,488.5400085449219,456.3599853515625,447.0799865722656,434.510009765625,462.7799987792969,465.3299865722656,450.0,427.0,427.9299926757812,392.7300109863281],\"low\":[235.3000030517578,232.0399932861328,231.2899932861328,225.3699951171875,217.1499938964844,212.1799926757812,212.0099945068359,208.7400054931641,207.5599975585938,206.2700042724609,207.75,206.7700042724609,180.0599975585938,182.1000061035156,183.6699981689453,190.6100006103516,185.8500061035156,184.2799987792969,182.0,175.0099945068359,177.1100006103516,182.6799926757812,185.5800018310547,189.4799957275391,187.2799987792969,182.1100006103516,183.3500061035156,188.8600006103516,197.3999938964844,189.1300048828125,191.9499969482422,191.3600006103516,191.5,192.0,198.2599945068359,198.4400024414062,198.4499969482422,198.5,186.7200012207031,177.5700073242188,173.6999969482422,173.6999969482422,174.6999969482422,174.8000030517578,172.4100036621094,169.1499938964844,160.5099945068359,160.7599945068359,165.8999938964844,167.4199981689453,170.8200073242188,171.8000030517578,166.3000030517578,168.7299957275391,177.3800048828125,176.0,175.3000030517578,170.2100067138672,163.4299926757812,163.2799987792969,168.0099945068359,160.5099945068359,167.7899932861328,171.9199981689453,170.0099945068359,168.5099945068359,170.3600006103516,161.3800048828125,153.75,153.7799987792969,148.6999969482422,146.2200012207031,138.8000030517578,141.1100006103516,157.5099945068359,158.3600006103516,166.3699951171875,184.5399932861328,182.8399963378906,179.0099945068359,176.0200042724609,178.4199981689453,182.1999969482422,177.3999938964844,170.1499938964844,171.3699951171875,167.75,169.0,174.0700073242188,173.1100006103516,171.4299926757812,172.75,173.5200042724609,174.7100067138672,178.1199951171875,173.2599945068359,173.7299957275391,173.1600036621094,173.9299926757812,175.3800048828125,173.8200073242188,174.4900054931641,174.0,172.1300048828125,172.7299957275391,175.5800018310547,173.1699981689453,167.4100036621094,169.8000030517578,181.2299957275391,176.9199981689453,177.0,182.3699951171875,179.6600036621094,180.6900024414062,182.5500030517578,182.0099945068359,186.3600006103516,194.0500030517578,195.2599945068359,200.8500061035156,218.0599975585938,234.25,242.4600067138672,244.5700073242188,250.3000030517578,257.8599853515625,239.6499938964844,233.0899963378906,251.7299957275391,245.8000030517578,246.1799926757812,247.1999969482422,236.8300018310547,243.75,245.6300048828125,214.7100067138672,216.2299957275391,215.3300018310547,224.6999969482422,220.0,226.7899932861328,214.3300018310547,205.7799987792969,182.0,192.6699981689453,191.4799957275391,192.0399932861328,195.1100006103516,194.6699981689453,197.0599975585938,198.75,204.8200073242188,210.8000030517578,214.0899963378906,219.5599975585938,218.8600006103516,210.3200073242188,214.2100067138672,211.0099945068359,206.9400024414062,202.5899963378906,205.9700012207031,207.0299987792969,209.6399993896484,210.5700073242188,222.25,210.5099945068359,213.6699981689453,218.6399993896484,216.8000030517578,223.8300018310547,226.3200073242188,223.5299987792969,226.5500030517578,226.8800048828125,232.1300048828125,235.9199981689453,241.9199981689453,249.0500030517578,252.2799987792969,251.5299987792969,254.1199951171875,255.7700042724609,248.5299987792969,241.5,237.8099975585938,244.5800018310547,240.6999969482422,240.5599975585938,239.5099945068359,232.3399963378906,214.3800048828125,213.7400054931641,217.1199951171875,218.9299926757812,217.8999938964844,219.2299957275391,215.7299957275391,215.2599945068359,212.1100006103516,242.6499938964844,255.3200073242188,262.239990234375,255.5099945068359,255.8200073242188,249.25,246.6300048828125,238.8800048828125,246.2100067138672,275.6199951171875,285.5199890136719,297.6600036621094,336.0,323.3099975585938,322.5,310.3699951171875,309.2200012207031,330.010009765625,332.75,334.2999877929688,335.2799987792969,337.7000122070312,338.2000122070312,335.6600036621094,326.5899963378906,334.6499938964844,351.1499938964844,348.2000122070312,348.6000061035156,359.5,370.7999877929688,378.010009765625,390.8500061035156,402.3800048828125,415.0,415.7099914550781,436.1499938964844,457.510009765625,427.010009765625,420.0199890136719,417.6400146484375,415.4100036621094,435.1400146484375,451.0199890136719,426.5,415.75,402.5400085449219,373.0400085449219],\"open\":[240.4499969482422,234.9600067138672,233.9400024414062,227.2200012207031,218.8899993896484,219.9100036621094,215.5500030517578,211.8800048828125,212.1900024414062,208.8000030517578,209.1399993896484,207.8300018310547,182.6300048828125,183.25,190.9299926757812,191.5899963378906,187.2899932861328,188.8600006103516,187.9100036621094,181.0599975585938,185.1000061035156,187.5800018310547,189.5599975585938,193.5700073242188,188.1300048828125,184.0200042724609,188.7100067138672,200.4499969482422,199.9499969482422,193.7599945068359,194.7700042724609,197.4100036621094,191.9700012207031,199.3999938964844,199.7299957275391,202.0399932861328,201.8800048828125,202.6399993896484,188.1399993896484,180.7400054931641,176.5399932861328,178.6499938964844,175.3399963378906,177.7700042724609,177.5399932861328,169.4799957275391,162.5,163.5700073242188,173.8000030517578,171.3200073242188,175.6600036621094,172.8200073242188,170.8300018310547,172.6300048828125,177.6699981689453,179.8300018310547,175.7899932861328,175.2200012207031,166.6300048828125,168.3800048828125,171.1100006103516,164.8999938964844,172.9799957275391,176.8800048828125,171.7599945068359,174.6000061035156,171.0500030517578,161.4799957275391,157.1100006103516,155.4499969482422,149.9299926757812,147.0500030517578,142.0500030517578,144.6799926757812,162.1300048828125,170.1799926757812,168.2899932861328,194.0500030517578,183.2799987792969,179.9900054931641,180.0099945068359,181.1900024414062,184.7599945068359,177.8099975585938,174.7200012207031,171.9700012207031,168.4700012207031,171.8899993896484,177.5500030517578,173.9900054931641,174.8399963378906,177.4600067138672,174.9499969482422,186.6000061035156,180.1100006103516,173.7400054931641,179.2400054931641,176.75,176.1900024414062,178.7899932861328,178.0800018310547,176.2899932861328,174.7700042724609,175.0,177.9400024414062,177.4799957275391,173.7899932861328,170.6600036621094,177.2899932861328,182.4700012207031,178.0099945068359,187.4400024414062,184.8600006103516,181.5700073242188,183.0099945068359,182.5800018310547,187.3500061035156,196.3699951171875,197.4199981689453,197.8800048828125,209.8600006103516,231.2599945068359,246.3899993896484,251.5200042724609,252.9400024414062,262.3299865722656,263.260009765625,241.0299987792969,248.2299957275391,252.6399993896484,256.5599975585938,248.5,249.2299957275391,239.1999969482422,251.5099945068359,246.3800048828125,215.9900054931641,220.25,219.8000030517578,232.1000061035156,222.6199951171875,232.0700073242188,216.8600006103516,207.6699981689453,198.8800048828125,200.6399993896484,191.7599945068359,198.8399963378906,200.0,197.4900054931641,207.8300018310547,201.3800048828125,214.1399993896484,216.1199951171875,222.7200012207031,221.1000061035156,223.2700042724609,210.6600036621094,220.3200073242188,213.2100067138672,209.2100067138672,205.75,206.2799987792969,214.1100006103516,210.6000061035156,219.4100036621094,230.1699981689453,210.7299957275391,216.2700042724609,226.1699981689453,228.1300048828125,229.8099975585938,230.2899932861328,226.7799987792969,227.8699951171875,227.1999969482422,243.9199981689453,238.25,250.0,254.2700042724609,257.0199890136719,254.2200012207031,260.4599914550781,261.6300048828125,258.0199890136719,249.0200042724609,240.6600036621094,250.0800018310547,240.8300018310547,244.5,241.0500030517578,238.7700042724609,217.8000030517578,219.1600036621094,219.5700073242188,221.3300018310547,220.8899993896484,220.6999969482422,218.8500061035156,217.9700012207031,213.6499938964844,260.4800109863281,269.1900024414062,262.510009765625,259.5199890136719,257.5499877929688,249.8500061035156,248.9799957275391,242.8399963378906,251.4400024414062,288.5299987792969,296.9100036621094,321.2200012207031,350.0,328.489990234375,330.239990234375,311.1799926757812,320.7200012207031,338.739990234375,346.0,342.0299987792969,339.6400146484375,352.5599975585938,338.5899963378906,338.2300109863281,332.8900146484375,345.1600036621094,357.0899963378906,351.4200134277344,357.9299926757812,369.489990234375,389.2200012207031,389.7900085449219,400.989990234375,424.7699890136719,418.1000061035156,436.2300109863281,463.0199890136719,479.8599853515625,440.1300048828125,436.1700134277344,421.0599975585938,430.6000061035156,462.2799987792969,454.1300048828125,431.6600036621094,417.4100036621094,403.8399963378906,379.2799987792969],\"x\":[\"2024-01-08T00:00:00\",\"2024-01-09T00:00:00\",\"2024-01-10T00:00:00\",\"2024-01-11T00:00:00\",\"2024-01-12T00:00:00\",\"2024-01-16T00:00:00\",\"2024-01-17T00:00:00\",\"2024-01-18T00:00:00\",\"2024-01-19T00:00:00\",\"2024-01-22T00:00:00\",\"2024-01-23T00:00:00\",\"2024-01-24T00:00:00\",\"2024-01-25T00:00:00\",\"2024-01-26T00:00:00\",\"2024-01-29T00:00:00\",\"2024-01-30T00:00:00\",\"2024-01-31T00:00:00\",\"2024-02-01T00:00:00\",\"2024-02-02T00:00:00\",\"2024-02-05T00:00:00\",\"2024-02-06T00:00:00\",\"2024-02-07T00:00:00\",\"2024-02-08T00:00:00\",\"2024-02-09T00:00:00\",\"2024-02-12T00:00:00\",\"2024-02-13T00:00:00\",\"2024-02-14T00:00:00\",\"2024-02-15T00:00:00\",\"2024-02-16T00:00:00\",\"2024-02-20T00:00:00\",\"2024-02-21T00:00:00\",\"2024-02-22T00:00:00\",\"2024-02-23T00:00:00\",\"2024-02-26T00:00:00\",\"2024-02-27T00:00:00\",\"2024-02-28T00:00:00\",\"2024-02-29T00:00:00\",\"2024-03-01T00:00:00\",\"2024-03-04T00:00:00\",\"2024-03-05T00:00:00\",\"2024-03-06T00:00:00\",\"2024-03-07T00:00:00\",\"2024-03-08T00:00:00\",\"2024-03-11T00:00:00\",\"2024-03-12T00:00:00\",\"2024-03-13T00:00:00\",\"2024-03-14T00:00:00\",\"2024-03-15T00:00:00\",\"2024-03-18T00:00:00\",\"2024-03-19T00:00:00\",\"2024-03-20T00:00:00\",\"2024-03-21T00:00:00\",\"2024-03-22T00:00:00\",\"2024-03-25T00:00:00\",\"2024-03-26T00:00:00\",\"2024-03-27T00:00:00\",\"2024-03-28T00:00:00\",\"2024-04-01T00:00:00\",\"2024-04-02T00:00:00\",\"2024-04-03T00:00:00\",\"2024-04-04T00:00:00\",\"2024-04-05T00:00:00\",\"2024-04-08T00:00:00\",\"2024-04-09T00:00:00\",\"2024-04-10T00:00:00\",\"2024-04-11T00:00:00\",\"2024-04-12T00:00:00\",\"2024-04-15T00:00:00\",\"2024-04-16T00:00:00\",\"2024-04-17T00:00:00\",\"2024-04-18T00:00:00\",\"2024-04-19T00:00:00\",\"2024-04-22T00:00:00\",\"2024-04-23T00:00:00\",\"2024-04-24T00:00:00\",\"2024-04-25T00:00:00\",\"2024-04-26T00:00:00\",\"2024-04-29T00:00:00\",\"2024-04-30T00:00:00\",\"2024-05-01T00:00:00\",\"2024-05-02T00:00:00\",\"2024-05-03T00:00:00\",\"2024-05-06T00:00:00\",\"2024-05-07T00:00:00\",\"2024-05-08T00:00:00\",\"2024-05-09T00:00:00\",\"2024-05-10T00:00:00\",\"2024-05-13T00:00:00\",\"2024-05-14T00:00:00\",\"2024-05-15T00:00:00\",\"2024-05-16T00:00:00\",\"2024-05-17T00:00:00\",\"2024-05-20T00:00:00\",\"2024-05-21T00:00:00\",\"2024-05-22T00:00:00\",\"2024-05-23T00:00:00\",\"2024-05-24T00:00:00\",\"2024-05-28T00:00:00\",\"2024-05-29T00:00:00\",\"2024-05-30T00:00:00\",\"2024-05-31T00:00:00\",\"2024-06-03T00:00:00\",\"2024-06-04T00:00:00\",\"2024-06-05T00:00:00\",\"2024-06-06T00:00:00\",\"2024-06-07T00:00:00\",\"2024-06-10T00:00:00\",\"2024-06-11T00:00:00\",\"2024-06-12T00:00:00\",\"2024-06-13T00:00:00\",\"2024-06-14T00:00:00\",\"2024-06-17T00:00:00\",\"2024-06-18T00:00:00\",\"2024-06-20T00:00:00\",\"2024-06-21T00:00:00\",\"2024-06-24T00:00:00\",\"2024-06-25T00:00:00\",\"2024-06-26T00:00:00\",\"2024-06-27T00:00:00\",\"2024-06-28T00:00:00\",\"2024-07-01T00:00:00\",\"2024-07-02T00:00:00\",\"2024-07-03T00:00:00\",\"2024-07-05T00:00:00\",\"2024-07-08T00:00:00\",\"2024-07-09T00:00:00\",\"2024-07-10T00:00:00\",\"2024-07-11T00:00:00\",\"2024-07-12T00:00:00\",\"2024-07-15T00:00:00\",\"2024-07-16T00:00:00\",\"2024-07-17T00:00:00\",\"2024-07-18T00:00:00\",\"2024-07-19T00:00:00\",\"2024-07-22T00:00:00\",\"2024-07-23T00:00:00\",\"2024-07-24T00:00:00\",\"2024-07-25T00:00:00\",\"2024-07-26T00:00:00\",\"2024-07-29T00:00:00\",\"2024-07-30T00:00:00\",\"2024-07-31T00:00:00\",\"2024-08-01T00:00:00\",\"2024-08-02T00:00:00\",\"2024-08-05T00:00:00\",\"2024-08-06T00:00:00\",\"2024-08-07T00:00:00\",\"2024-08-08T00:00:00\",\"2024-08-09T00:00:00\",\"2024-08-12T00:00:00\",\"2024-08-13T00:00:00\",\"2024-08-14T00:00:00\",\"2024-08-15T00:00:00\",\"2024-08-16T00:00:00\",\"2024-08-19T00:00:00\",\"2024-08-20T00:00:00\",\"2024-08-21T00:00:00\",\"2024-08-22T00:00:00\",\"2024-08-23T00:00:00\",\"2024-08-26T00:00:00\",\"2024-08-27T00:00:00\",\"2024-08-28T00:00:00\",\"2024-08-29T00:00:00\",\"2024-08-30T00:00:00\",\"2024-09-03T00:00:00\",\"2024-09-04T00:00:00\",\"2024-09-05T00:00:00\",\"2024-09-06T00:00:00\",\"2024-09-09T00:00:00\",\"2024-09-10T00:00:00\",\"2024-09-11T00:00:00\",\"2024-09-12T00:00:00\",\"2024-09-13T00:00:00\",\"2024-09-16T00:00:00\",\"2024-09-17T00:00:00\",\"2024-09-18T00:00:00\",\"2024-09-19T00:00:00\",\"2024-09-20T00:00:00\",\"2024-09-23T00:00:00\",\"2024-09-24T00:00:00\",\"2024-09-25T00:00:00\",\"2024-09-26T00:00:00\",\"2024-09-27T00:00:00\",\"2024-09-30T00:00:00\",\"2024-10-01T00:00:00\",\"2024-10-02T00:00:00\",\"2024-10-03T00:00:00\",\"2024-10-04T00:00:00\",\"2024-10-07T00:00:00\",\"2024-10-08T00:00:00\",\"2024-10-09T00:00:00\",\"2024-10-10T00:00:00\",\"2024-10-11T00:00:00\",\"2024-10-14T00:00:00\",\"2024-10-15T00:00:00\",\"2024-10-16T00:00:00\",\"2024-10-17T00:00:00\",\"2024-10-18T00:00:00\",\"2024-10-21T00:00:00\",\"2024-10-22T00:00:00\",\"2024-10-23T00:00:00\",\"2024-10-24T00:00:00\",\"2024-10-25T00:00:00\",\"2024-10-28T00:00:00\",\"2024-10-29T00:00:00\",\"2024-10-30T00:00:00\",\"2024-10-31T00:00:00\",\"2024-11-01T00:00:00\",\"2024-11-04T00:00:00\",\"2024-11-05T00:00:00\",\"2024-11-06T00:00:00\",\"2024-11-07T00:00:00\",\"2024-11-08T00:00:00\",\"2024-11-11T00:00:00\",\"2024-11-12T00:00:00\",\"2024-11-13T00:00:00\",\"2024-11-14T00:00:00\",\"2024-11-15T00:00:00\",\"2024-11-18T00:00:00\",\"2024-11-19T00:00:00\",\"2024-11-20T00:00:00\",\"2024-11-21T00:00:00\",\"2024-11-22T00:00:00\",\"2024-11-25T00:00:00\",\"2024-11-26T00:00:00\",\"2024-11-27T00:00:00\",\"2024-11-29T00:00:00\",\"2024-12-02T00:00:00\",\"2024-12-03T00:00:00\",\"2024-12-04T00:00:00\",\"2024-12-05T00:00:00\",\"2024-12-06T00:00:00\",\"2024-12-09T00:00:00\",\"2024-12-10T00:00:00\",\"2024-12-11T00:00:00\",\"2024-12-12T00:00:00\",\"2024-12-13T00:00:00\",\"2024-12-16T00:00:00\",\"2024-12-17T00:00:00\",\"2024-12-18T00:00:00\",\"2024-12-19T00:00:00\",\"2024-12-20T00:00:00\",\"2024-12-23T00:00:00\",\"2024-12-24T00:00:00\",\"2024-12-26T00:00:00\",\"2024-12-27T00:00:00\",\"2024-12-30T00:00:00\",\"2024-12-31T00:00:00\",\"2025-01-02T00:00:00\"],\"type\":\"candlestick\"}],                        {\"template\":{\"data\":{\"barpolar\":[{\"marker\":{\"line\":{\"color\":\"rgb(17,17,17)\",\"width\":0.5},\"pattern\":{\"fillmode\":\"overlay\",\"size\":10,\"solidity\":0.2}},\"type\":\"barpolar\"}],\"bar\":[{\"error_x\":{\"color\":\"#f2f5fa\"},\"error_y\":{\"color\":\"#f2f5fa\"},\"marker\":{\"line\":{\"color\":\"rgb(17,17,17)\",\"width\":0.5},\"pattern\":{\"fillmode\":\"overlay\",\"size\":10,\"solidity\":0.2}},\"type\":\"bar\"}],\"carpet\":[{\"aaxis\":{\"endlinecolor\":\"#A2B1C6\",\"gridcolor\":\"#506784\",\"linecolor\":\"#506784\",\"minorgridcolor\":\"#506784\",\"startlinecolor\":\"#A2B1C6\"},\"baxis\":{\"endlinecolor\":\"#A2B1C6\",\"gridcolor\":\"#506784\",\"linecolor\":\"#506784\",\"minorgridcolor\":\"#506784\",\"startlinecolor\":\"#A2B1C6\"},\"type\":\"carpet\"}],\"choropleth\":[{\"colorbar\":{\"outlinewidth\":0,\"ticks\":\"\"},\"type\":\"choropleth\"}],\"contourcarpet\":[{\"colorbar\":{\"outlinewidth\":0,\"ticks\":\"\"},\"type\":\"contourcarpet\"}],\"contour\":[{\"colorbar\":{\"outlinewidth\":0,\"ticks\":\"\"},\"colorscale\":[[0.0,\"#0d0887\"],[0.1111111111111111,\"#46039f\"],[0.2222222222222222,\"#7201a8\"],[0.3333333333333333,\"#9c179e\"],[0.4444444444444444,\"#bd3786\"],[0.5555555555555556,\"#d8576b\"],[0.6666666666666666,\"#ed7953\"],[0.7777777777777778,\"#fb9f3a\"],[0.8888888888888888,\"#fdca26\"],[1.0,\"#f0f921\"]],\"type\":\"contour\"}],\"heatmapgl\":[{\"colorbar\":{\"outlinewidth\":0,\"ticks\":\"\"},\"colorscale\":[[0.0,\"#0d0887\"],[0.1111111111111111,\"#46039f\"],[0.2222222222222222,\"#7201a8\"],[0.3333333333333333,\"#9c179e\"],[0.4444444444444444,\"#bd3786\"],[0.5555555555555556,\"#d8576b\"],[0.6666666666666666,\"#ed7953\"],[0.7777777777777778,\"#fb9f3a\"],[0.8888888888888888,\"#fdca26\"],[1.0,\"#f0f921\"]],\"type\":\"heatmapgl\"}],\"heatmap\":[{\"colorbar\":{\"outlinewidth\":0,\"ticks\":\"\"},\"colorscale\":[[0.0,\"#0d0887\"],[0.1111111111111111,\"#46039f\"],[0.2222222222222222,\"#7201a8\"],[0.3333333333333333,\"#9c179e\"],[0.4444444444444444,\"#bd3786\"],[0.5555555555555556,\"#d8576b\"],[0.6666666666666666,\"#ed7953\"],[0.7777777777777778,\"#fb9f3a\"],[0.8888888888888888,\"#fdca26\"],[1.0,\"#f0f921\"]],\"type\":\"heatmap\"}],\"histogram2dcontour\":[{\"colorbar\":{\"outlinewidth\":0,\"ticks\":\"\"},\"colorscale\":[[0.0,\"#0d0887\"],[0.1111111111111111,\"#46039f\"],[0.2222222222222222,\"#7201a8\"],[0.3333333333333333,\"#9c179e\"],[0.4444444444444444,\"#bd3786\"],[0.5555555555555556,\"#d8576b\"],[0.6666666666666666,\"#ed7953\"],[0.7777777777777778,\"#fb9f3a\"],[0.8888888888888888,\"#fdca26\"],[1.0,\"#f0f921\"]],\"type\":\"histogram2dcontour\"}],\"histogram2d\":[{\"colorbar\":{\"outlinewidth\":0,\"ticks\":\"\"},\"colorscale\":[[0.0,\"#0d0887\"],[0.1111111111111111,\"#46039f\"],[0.2222222222222222,\"#7201a8\"],[0.3333333333333333,\"#9c179e\"],[0.4444444444444444,\"#bd3786\"],[0.5555555555555556,\"#d8576b\"],[0.6666666666666666,\"#ed7953\"],[0.7777777777777778,\"#fb9f3a\"],[0.8888888888888888,\"#fdca26\"],[1.0,\"#f0f921\"]],\"type\":\"histogram2d\"}],\"histogram\":[{\"marker\":{\"pattern\":{\"fillmode\":\"overlay\",\"size\":10,\"solidity\":0.2}},\"type\":\"histogram\"}],\"mesh3d\":[{\"colorbar\":{\"outlinewidth\":0,\"ticks\":\"\"},\"type\":\"mesh3d\"}],\"parcoords\":[{\"line\":{\"colorbar\":{\"outlinewidth\":0,\"ticks\":\"\"}},\"type\":\"parcoords\"}],\"pie\":[{\"automargin\":true,\"type\":\"pie\"}],\"scatter3d\":[{\"line\":{\"colorbar\":{\"outlinewidth\":0,\"ticks\":\"\"}},\"marker\":{\"colorbar\":{\"outlinewidth\":0,\"ticks\":\"\"}},\"type\":\"scatter3d\"}],\"scattercarpet\":[{\"marker\":{\"colorbar\":{\"outlinewidth\":0,\"ticks\":\"\"}},\"type\":\"scattercarpet\"}],\"scattergeo\":[{\"marker\":{\"colorbar\":{\"outlinewidth\":0,\"ticks\":\"\"}},\"type\":\"scattergeo\"}],\"scattergl\":[{\"marker\":{\"line\":{\"color\":\"#283442\"}},\"type\":\"scattergl\"}],\"scattermapbox\":[{\"marker\":{\"colorbar\":{\"outlinewidth\":0,\"ticks\":\"\"}},\"type\":\"scattermapbox\"}],\"scatterpolargl\":[{\"marker\":{\"colorbar\":{\"outlinewidth\":0,\"ticks\":\"\"}},\"type\":\"scatterpolargl\"}],\"scatterpolar\":[{\"marker\":{\"colorbar\":{\"outlinewidth\":0,\"ticks\":\"\"}},\"type\":\"scatterpolar\"}],\"scatter\":[{\"marker\":{\"line\":{\"color\":\"#283442\"}},\"type\":\"scatter\"}],\"scatterternary\":[{\"marker\":{\"colorbar\":{\"outlinewidth\":0,\"ticks\":\"\"}},\"type\":\"scatterternary\"}],\"surface\":[{\"colorbar\":{\"outlinewidth\":0,\"ticks\":\"\"},\"colorscale\":[[0.0,\"#0d0887\"],[0.1111111111111111,\"#46039f\"],[0.2222222222222222,\"#7201a8\"],[0.3333333333333333,\"#9c179e\"],[0.4444444444444444,\"#bd3786\"],[0.5555555555555556,\"#d8576b\"],[0.6666666666666666,\"#ed7953\"],[0.7777777777777778,\"#fb9f3a\"],[0.8888888888888888,\"#fdca26\"],[1.0,\"#f0f921\"]],\"type\":\"surface\"}],\"table\":[{\"cells\":{\"fill\":{\"color\":\"#506784\"},\"line\":{\"color\":\"rgb(17,17,17)\"}},\"header\":{\"fill\":{\"color\":\"#2a3f5f\"},\"line\":{\"color\":\"rgb(17,17,17)\"}},\"type\":\"table\"}]},\"layout\":{\"annotationdefaults\":{\"arrowcolor\":\"#f2f5fa\",\"arrowhead\":0,\"arrowwidth\":1},\"autotypenumbers\":\"strict\",\"coloraxis\":{\"colorbar\":{\"outlinewidth\":0,\"ticks\":\"\"}},\"colorscale\":{\"diverging\":[[0,\"#8e0152\"],[0.1,\"#c51b7d\"],[0.2,\"#de77ae\"],[0.3,\"#f1b6da\"],[0.4,\"#fde0ef\"],[0.5,\"#f7f7f7\"],[0.6,\"#e6f5d0\"],[0.7,\"#b8e186\"],[0.8,\"#7fbc41\"],[0.9,\"#4d9221\"],[1,\"#276419\"]],\"sequential\":[[0.0,\"#0d0887\"],[0.1111111111111111,\"#46039f\"],[0.2222222222222222,\"#7201a8\"],[0.3333333333333333,\"#9c179e\"],[0.4444444444444444,\"#bd3786\"],[0.5555555555555556,\"#d8576b\"],[0.6666666666666666,\"#ed7953\"],[0.7777777777777778,\"#fb9f3a\"],[0.8888888888888888,\"#fdca26\"],[1.0,\"#f0f921\"]],\"sequentialminus\":[[0.0,\"#0d0887\"],[0.1111111111111111,\"#46039f\"],[0.2222222222222222,\"#7201a8\"],[0.3333333333333333,\"#9c179e\"],[0.4444444444444444,\"#bd3786\"],[0.5555555555555556,\"#d8576b\"],[0.6666666666666666,\"#ed7953\"],[0.7777777777777778,\"#fb9f3a\"],[0.8888888888888888,\"#fdca26\"],[1.0,\"#f0f921\"]]},\"colorway\":[\"#636efa\",\"#EF553B\",\"#00cc96\",\"#ab63fa\",\"#FFA15A\",\"#19d3f3\",\"#FF6692\",\"#B6E880\",\"#FF97FF\",\"#FECB52\"],\"font\":{\"color\":\"#f2f5fa\"},\"geo\":{\"bgcolor\":\"rgb(17,17,17)\",\"lakecolor\":\"rgb(17,17,17)\",\"landcolor\":\"rgb(17,17,17)\",\"showlakes\":true,\"showland\":true,\"subunitcolor\":\"#506784\"},\"hoverlabel\":{\"align\":\"left\"},\"hovermode\":\"closest\",\"mapbox\":{\"style\":\"dark\"},\"paper_bgcolor\":\"rgb(17,17,17)\",\"plot_bgcolor\":\"rgb(17,17,17)\",\"polar\":{\"angularaxis\":{\"gridcolor\":\"#506784\",\"linecolor\":\"#506784\",\"ticks\":\"\"},\"bgcolor\":\"rgb(17,17,17)\",\"radialaxis\":{\"gridcolor\":\"#506784\",\"linecolor\":\"#506784\",\"ticks\":\"\"}},\"scene\":{\"xaxis\":{\"backgroundcolor\":\"rgb(17,17,17)\",\"gridcolor\":\"#506784\",\"gridwidth\":2,\"linecolor\":\"#506784\",\"showbackground\":true,\"ticks\":\"\",\"zerolinecolor\":\"#C8D4E3\"},\"yaxis\":{\"backgroundcolor\":\"rgb(17,17,17)\",\"gridcolor\":\"#506784\",\"gridwidth\":2,\"linecolor\":\"#506784\",\"showbackground\":true,\"ticks\":\"\",\"zerolinecolor\":\"#C8D4E3\"},\"zaxis\":{\"backgroundcolor\":\"rgb(17,17,17)\",\"gridcolor\":\"#506784\",\"gridwidth\":2,\"linecolor\":\"#506784\",\"showbackground\":true,\"ticks\":\"\",\"zerolinecolor\":\"#C8D4E3\"}},\"shapedefaults\":{\"line\":{\"color\":\"#f2f5fa\"}},\"sliderdefaults\":{\"bgcolor\":\"#C8D4E3\",\"bordercolor\":\"rgb(17,17,17)\",\"borderwidth\":1,\"tickwidth\":0},\"ternary\":{\"aaxis\":{\"gridcolor\":\"#506784\",\"linecolor\":\"#506784\",\"ticks\":\"\"},\"baxis\":{\"gridcolor\":\"#506784\",\"linecolor\":\"#506784\",\"ticks\":\"\"},\"bgcolor\":\"rgb(17,17,17)\",\"caxis\":{\"gridcolor\":\"#506784\",\"linecolor\":\"#506784\",\"ticks\":\"\"}},\"title\":{\"x\":0.05},\"updatemenudefaults\":{\"bgcolor\":\"#506784\",\"borderwidth\":0},\"xaxis\":{\"automargin\":true,\"gridcolor\":\"#283442\",\"linecolor\":\"#506784\",\"ticks\":\"\",\"title\":{\"standoff\":15},\"zerolinecolor\":\"#283442\",\"zerolinewidth\":2},\"yaxis\":{\"automargin\":true,\"gridcolor\":\"#283442\",\"linecolor\":\"#506784\",\"ticks\":\"\",\"title\":{\"standoff\":15},\"zerolinecolor\":\"#283442\",\"zerolinewidth\":2}}},\"xaxis\":{\"rangeslider\":{\"visible\":false},\"title\":{\"text\":\"Date\"}},\"title\":{\"text\":\"Tesla Stock Candlestick Chart\"},\"yaxis\":{\"title\":{\"text\":\"Stock Price\"}},\"width\":1000,\"height\":600},                        {\"responsive\": true}                    ).then(function(){\n",
       "                            \n",
       "var gd = document.getElementById('3c775d5b-6c55-446a-aaa0-75057620ebc1');\n",
       "var x = new MutationObserver(function (mutations, observer) {{\n",
       "        var display = window.getComputedStyle(gd).display;\n",
       "        if (!display || display === 'none') {{\n",
       "            console.log([gd, 'removed!']);\n",
       "            Plotly.purge(gd);\n",
       "            observer.disconnect();\n",
       "        }}\n",
       "}});\n",
       "\n",
       "// Listen for the removal of the full notebook cells\n",
       "var notebookContainer = gd.closest('#notebook-container');\n",
       "if (notebookContainer) {{\n",
       "    x.observe(notebookContainer, {childList: true});\n",
       "}}\n",
       "\n",
       "// Listen for the clearing of the current output cell\n",
       "var outputEl = gd.closest('.output');\n",
       "if (outputEl) {{\n",
       "    x.observe(outputEl, {childList: true});\n",
       "}}\n",
       "\n",
       "                        })                };                });            </script>        </div>"
      ]
     },
     "metadata": {},
     "output_type": "display_data"
    }
   ],
   "source": [
    "# Can we visualize a candlestick chart for TCS stock?\n",
    "fig=go.Figure(data=go.Candlestick(x=df1[\"Date\"],\n",
    "    open=df1[\"Close\"],\n",
    "    close=df1[\"Open\"],\n",
    "    high=df1[\"High\"],\n",
    "    low=df1[\"Low\"]))\n",
    "fig.update_layout(\n",
    "    title=\"Tesla Stock Candlestick Chart\",\n",
    "    xaxis_title=\"Date\",\n",
    "    yaxis_title=\"Stock Price\",\n",
    "    xaxis_rangeslider_visible=False,  \n",
    "    template=\"plotly_dark\",  \n",
    "     width=1000, height=600\n",
    ")\n",
    "fig.write_image(\"c.png\")\n",
    "fig.show()"
   ]
  },
  {
   "cell_type": "code",
   "execution_count": 219,
   "id": "0cc2d5a1-825b-4b01-96fa-679416dbb200",
   "metadata": {},
   "outputs": [
    {
     "data": {
      "image/png": "[encoded data removed]",
      "text/plain": [
       "<Figure size 640x480 with 2 Axes>"
      ]
     },
     "metadata": {},
     "output_type": "display_data"
    }
   ],
   "source": [
    "# What is the correlation between different stock metrics (Open, Close, High, Low, Volume)? (Heatmap)\n",
    "sns.heatmap(df2.corr(),annot=True,cmap=\"coolwarm\", fmt=\".2f\", linewidths=0.5)\n",
    "plt.savefig(\"heat.png\", dpi=300, bbox_inches='tight')  "
   ]
  },
  {
   "cell_type": "code",
   "execution_count": 223,
   "id": "5bc97163-298e-42c8-932c-8b2ed3aee831",
   "metadata": {},
   "outputs": [
    {
     "data": {
      "image/png": "[encoded data removed]",
      "text/plain": [
       "<Figure size 600x600 with 1 Axes>"
      ]
     },
     "metadata": {},
     "output_type": "display_data"
    }
   ],
   "source": [
    "# Do Tesla's daily returns follow a normal distribution? (Q-Q Plot)\n",
    "df1=df1.dropna()\n",
    "fig,ax=plt.subplots(figsize=(6,6))\n",
    "stats.probplot(df1[\"Daily Return\"],dist=\"norm\",plot=ax)\n",
    "plt.savefig(\"proba.png\", dpi=300, bbox_inches='tight') \n",
    "plt.show()"
   ]
  }
 ],
 "metadata": {
  "kernelspec": {
   "display_name": "Python 3 (ipykernel)",
   "language": "python",
   "name": "python3"
  },
  "language_info": {
   "codemirror_mode": {
    "name": "ipython",
    "version": 3
   },
   "file_extension": ".py",
   "mimetype": "text/x-python",
   "name": "python",
   "nbconvert_exporter": "python",
   "pygments_lexer": "ipython3",
   "version": "3.12.4"
  }
 },
 "nbformat": 4,
 "nbformat_minor": 5
}
